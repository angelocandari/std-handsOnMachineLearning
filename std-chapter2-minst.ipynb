{
 "cells": [
  {
   "cell_type": "markdown",
   "id": "354d02c8",
   "metadata": {},
   "source": [
    "# Chapter 3: Classification\n",
    "Notes for *Hands on Machine Learning with Scikit by Aurelien Geron*. This is on Chapter 3: Classification, where it explains the fundamentals on how Machine Learning identify one group from the other using statistics."
   ]
  },
  {
   "cell_type": "markdown",
   "id": "81b1a1b7",
   "metadata": {},
   "source": [
    "# Getting Started\n",
    "The dataset used is the *MNIST*, which is a collection of handwritten numbers in the format of image pixels. The goal is to have the machine tell us what number is in each image."
   ]
  },
  {
   "cell_type": "code",
   "execution_count": 1,
   "id": "d7f4fba2",
   "metadata": {},
   "outputs": [
    {
     "data": {
      "text/plain": [
       "dict_keys(['data', 'target', 'frame', 'categories', 'feature_names', 'target_names', 'DESCR', 'details', 'url'])"
      ]
     },
     "execution_count": 1,
     "metadata": {},
     "output_type": "execute_result"
    }
   ],
   "source": [
    "from sklearn.datasets import fetch_openml\n",
    "mnist = fetch_openml('mnist_784', version=1)\n",
    "mnist.keys()"
   ]
  },
  {
   "cell_type": "markdown",
   "id": "ac4923cb",
   "metadata": {},
   "source": [
    "You can download a copy of the dataset from sklearn. This gets updated often, which is why it is different on the book."
   ]
  },
  {
   "cell_type": "code",
   "execution_count": 2,
   "id": "484e69d0",
   "metadata": {},
   "outputs": [],
   "source": [
    "df, target = mnist[\"data\"], mnist[\"target\"]"
   ]
  },
  {
   "cell_type": "markdown",
   "id": "40aa24f8",
   "metadata": {},
   "source": [
    "We separate the data from the labels. I usually use *df* for the main data and *target* as the labels. *df*, which is short for dataframe, are the questions we ask the machine and *target* are the answer keys, which tells us which number it is."
   ]
  },
  {
   "cell_type": "code",
   "execution_count": 3,
   "id": "fe397092",
   "metadata": {},
   "outputs": [
    {
     "name": "stdout",
     "output_type": "stream",
     "text": [
      "dataframe (70000, 784)\n",
      "target (70000,)\n"
     ]
    }
   ],
   "source": [
    "print('dataframe', df.shape)\n",
    "print('target', target.shape)"
   ]
  },
  {
   "cell_type": "code",
   "execution_count": 14,
   "id": "a63e85c1",
   "metadata": {},
   "outputs": [
    {
     "data": {
      "text/plain": [
       "count    784.000000\n",
       "mean      35.108418\n",
       "std       79.699674\n",
       "min        0.000000\n",
       "25%        0.000000\n",
       "50%        0.000000\n",
       "75%        0.000000\n",
       "max      255.000000\n",
       "Name: 0, dtype: float64"
      ]
     },
     "execution_count": 14,
     "metadata": {},
     "output_type": "execute_result"
    }
   ],
   "source": [
    "df.iloc[0].describe()"
   ]
  },
  {
   "cell_type": "markdown",
   "id": "4ec3e62f",
   "metadata": {},
   "source": [
    "There are 70,000 numbers in the dataset and each number holds 784 pixels. Each pixel has a value between 0 to 255, which indicates the intensity of the black color. Remember that each datapoint is an image of a number."
   ]
  },
  {
   "cell_type": "markdown",
   "id": "82092ea3",
   "metadata": {},
   "source": [
    "## Split Train Test\n",
    "We split the data between *Train* and *Test*. We use the *Train* for majority of our exploration and data engineering. The *Test* is only used at the very end, where we validate our results."
   ]
  },
  {
   "cell_type": "code",
   "execution_count": 15,
   "id": "fdb9c2bc",
   "metadata": {},
   "outputs": [],
   "source": [
    "train_df, test_df, train_target, test_target = df[:60000], df[60000:], target[:60000], target[60000:]"
   ]
  },
  {
   "cell_type": "markdown",
   "id": "e9f71431",
   "metadata": {},
   "source": [
    "The MINST dataset is already dividied into Train and Test. The first 60k rows is the Train and the rest are the Test."
   ]
  },
  {
   "cell_type": "code",
   "execution_count": 16,
   "id": "8d4d2f07",
   "metadata": {},
   "outputs": [],
   "source": [
    "import numpy as np\n",
    "shuffle_index = np.random.permutation(60000)\n",
    "train_df, train_target = train_df.iloc[shuffle_index], train_target.iloc[shuffle_index]"
   ]
  },
  {
   "cell_type": "markdown",
   "id": "7ff56b4e",
   "metadata": {},
   "source": [
    "There is a chance that the numbers are in order in a way that it will affect our models (Like a new deck of cards, we would always shuffle it before using them). Here, we shuffle it using the index."
   ]
  },
  {
   "cell_type": "markdown",
   "id": "4d97171f",
   "metadata": {},
   "source": [
    "# Explore Data\n",
    "Our data is prepapred. It is time to Explore, Clean and Machine Learning the shit out of it. This section is where we keep all our Exploring data."
   ]
  },
  {
   "cell_type": "code",
   "execution_count": 19,
   "id": "3b986a75",
   "metadata": {},
   "outputs": [
    {
     "name": "stdout",
     "output_type": "stream",
     "text": [
      "3\n"
     ]
    },
    {
     "data": {
      "image/png": "[encoded data removed]",
      "text/plain": [
       "<Figure size 200x200 with 1 Axes>"
      ]
     },
     "metadata": {},
     "output_type": "display_data"
    }
   ],
   "source": [
    "import matplotlib as mpl\n",
    "import matplotlib.pyplot as plt\n",
    "some_digit = train_df.iloc[0].values\n",
    "roll = train_target.iloc[0] # Keep your first digit in roll cause it will keep changing.\n",
    "print(roll)\n",
    "plt.figure(figsize=(2,2))\n",
    "some_digit_image = some_digit.reshape(28, 28)\n",
    "plt.imshow(some_digit_image, cmap = mpl.cm.binary, interpolation=\"nearest\")\n",
    "plt.axis(\"off\")\n",
    "plt.show()"
   ]
  },
  {
   "cell_type": "markdown",
   "id": "e7417c90",
   "metadata": {},
   "source": [
    "We render the first number on our dataset to see what it looks like. The grid is 28 by 28 pixels where each value ranges between 0 to 255, which inidicates the intensity of the black color. The first number of your dataset will keep changing, so better keep in the variable roll."
   ]
  },
  {
   "cell_type": "markdown",
   "id": "9aef1555",
   "metadata": {},
   "source": [
    "# Clean Data\n",
    "In this section, we Clean the data."
   ]
  },
  {
   "cell_type": "code",
   "execution_count": 22,
   "id": "8e5eae83",
   "metadata": {},
   "outputs": [],
   "source": [
    "import numpy as np\n",
    "train_target = train_target.astype(np.uint8)\n",
    "test_target = test_target.astype(np.uint8)"
   ]
  },
  {
   "cell_type": "markdown",
   "id": "cdc77760",
   "metadata": {},
   "source": [
    "The values of each targets are strings. We want them as intigers."
   ]
  },
  {
   "cell_type": "markdown",
   "id": "40790717",
   "metadata": {},
   "source": [
    "# Machine Learning\n",
    "In this section, we do our Machine Learning algorithms. We start with an easy algorithm, then we work our way up to the more complex ones."
   ]
  },
  {
   "cell_type": "markdown",
   "id": "302e3370",
   "metadata": {},
   "source": [
    "## Stochastic Gradient Descent\n",
    "We start by identifying our *roll* number. We use SGD for this task, which apparently deals with training instances independently."
   ]
  },
  {
   "cell_type": "code",
   "execution_count": 34,
   "id": "3d157f04",
   "metadata": {},
   "outputs": [],
   "source": [
    "train_target_roll = (train_target == int(roll))\n",
    "# test_roll = (test_target==roll)"
   ]
  },
  {
   "cell_type": "markdown",
   "id": "d660c176",
   "metadata": {},
   "source": [
    "Instead of finding out what number it is, we just check if that number is our *roll* number - TRUE or FALSE."
   ]
  },
  {
   "cell_type": "code",
   "execution_count": 37,
   "id": "ad0ffb68",
   "metadata": {},
   "outputs": [
    {
     "data": {
      "text/plain": [
       "array([ True])"
      ]
     },
     "execution_count": 37,
     "metadata": {},
     "output_type": "execute_result"
    }
   ],
   "source": [
    "from sklearn.linear_model import SGDClassifier\n",
    "sgd_clf = SGDClassifier(random_state=42)\n",
    "sgd_clf.fit(train_df, train_target_roll)\n",
    "sgd_clf.predict([some_digit])"
   ]
  },
  {
   "cell_type": "markdown",
   "id": "fb42445b",
   "metadata": {},
   "source": [
    "The model correctly predicts that *some_digit* is the same with *roll*. Let's see how accurate this model is in predicting the whole training set."
   ]
  },
  {
   "cell_type": "code",
   "execution_count": 38,
   "id": "0f81fe5e",
   "metadata": {},
   "outputs": [
    {
     "data": {
      "text/plain": [
       "array([0.94495, 0.9561 , 0.95595])"
      ]
     },
     "execution_count": 38,
     "metadata": {},
     "output_type": "execute_result"
    }
   ],
   "source": [
    "from sklearn.model_selection import cross_val_score\n",
    "cross_val_score(sgd_clf, train_df, train_target_roll, cv=3, scoring=\"accuracy\")"
   ]
  },
  {
   "cell_type": "markdown",
   "id": "3611c87d",
   "metadata": {},
   "source": [
    "*cross_val_score* splits the training data into 3 folds and uses 2 folds as training data and 1 fold as the test. It does this 3 times in different combination. The result shows that on average, the model is accurate around ~95% of the time. Accuracy is unusually high. We try it out on dumber model and see what the results are."
   ]
  },
  {
   "cell_type": "code",
   "execution_count": 40,
   "id": "355fc0f3",
   "metadata": {},
   "outputs": [],
   "source": [
    "from sklearn.base import BaseEstimator\n",
    "class Never5Classifier(BaseEstimator):\n",
    "    def fit(self, X, y=None):\n",
    "        pass\n",
    "    def predict(self, X):\n",
    "        return np.zeros((len(X), 1), dtype=bool)"
   ]
  },
  {
   "cell_type": "code",
   "execution_count": 41,
   "id": "9336a1a3",
   "metadata": {},
   "outputs": [
    {
     "data": {
      "text/plain": [
       "array([0.8949 , 0.8984 , 0.90015])"
      ]
     },
     "execution_count": 41,
     "metadata": {},
     "output_type": "execute_result"
    }
   ],
   "source": [
    "never_roll_clf = Never5Classifier()\n",
    "cross_val_score(never_roll_clf, train_df, train_target_roll, cv=3, scoring=\"accuracy\")"
   ]
  },
  {
   "cell_type": "markdown",
   "id": "3413255d",
   "metadata": {},
   "source": [
    "Again, we get very high results. This is because ~90% of the numbers are not the same with the *roll* number. So, if the model says that all numbers are not the same with *roll* (All FALSE), then the accuracy would be around ~90%. This is why accuracy, as a measure of classification, sucks."
   ]
  },
  {
   "cell_type": "markdown",
   "id": "4bdfdbef",
   "metadata": {},
   "source": [
    "## Confusion Matrix\n",
    "Instead just counting the correct predictions, Confusion Matrix also takes into account the wrong predictions. This creates balance in the way "
   ]
  },
  {
   "cell_type": "code",
   "execution_count": 51,
   "id": "775b557b",
   "metadata": {},
   "outputs": [],
   "source": [
    "from sklearn.model_selection import cross_val_predict\n",
    "y_train_pred = cross_val_predict(sgd_clf, train_df, train_roll, cv=3)"
   ]
  },
  {
   "cell_type": "code",
   "execution_count": 52,
   "id": "d8bd9790",
   "metadata": {},
   "outputs": [
    {
     "data": {
      "text/plain": [
       "array([[53357,   725],\n",
       "       [  539,  5379]], dtype=int64)"
      ]
     },
     "execution_count": 52,
     "metadata": {},
     "output_type": "execute_result"
    }
   ],
   "source": [
    "from sklearn.metrics import confusion_matrix\n",
    "confusion_matrix(train_roll, y_train_pred)"
   ]
  },
  {
   "cell_type": "code",
   "execution_count": 53,
   "id": "33690731",
   "metadata": {},
   "outputs": [
    {
     "data": {
      "text/plain": [
       "array([[54082,     0],\n",
       "       [    0,  5918]], dtype=int64)"
      ]
     },
     "execution_count": 53,
     "metadata": {},
     "output_type": "execute_result"
    }
   ],
   "source": [
    "y_train_pred_perfect = train_roll\n",
    "confusion_matrix(train_roll, y_train_pred_perfect)"
   ]
  },
  {
   "cell_type": "code",
   "execution_count": 59,
   "id": "999ea253",
   "metadata": {},
   "outputs": [
    {
     "data": {
      "text/plain": [
       "0.8812254259501966"
      ]
     },
     "execution_count": 59,
     "metadata": {},
     "output_type": "execute_result"
    }
   ],
   "source": [
    "from sklearn.metrics import precision_score, recall_score\n",
    "precision = precision_score(train_roll, y_train_pred)\n",
    "precision"
   ]
  },
  {
   "cell_type": "code",
   "execution_count": 60,
   "id": "a5db94f6",
   "metadata": {},
   "outputs": [
    {
     "data": {
      "text/plain": [
       "0.9089219330855018"
      ]
     },
     "execution_count": 60,
     "metadata": {},
     "output_type": "execute_result"
    }
   ],
   "source": [
    "recall = recall_score(train_roll, y_train_pred)\n",
    "recall"
   ]
  },
  {
   "cell_type": "markdown",
   "id": "8950bdfe",
   "metadata": {},
   "source": [
    "### F1 score\n",
    "Harmonic mean gives more weigh to low values. Regular mean will weight the 2 values equal."
   ]
  },
  {
   "cell_type": "code",
   "execution_count": 65,
   "id": "c14bc9a7",
   "metadata": {},
   "outputs": [
    {
     "name": "stdout",
     "output_type": "stream",
     "text": [
      "mean:  0.4411127129750983\n",
      "f1:  0.8948594243886209\n"
     ]
    }
   ],
   "source": [
    "from sklearn.metrics import f1_score\n",
    "print('mean: ', (precision + recall) / 2)\n",
    "print('f1: ', f1_score(train_roll, y_train_pred))"
   ]
  },
  {
   "cell_type": "markdown",
   "id": "65a9e9be",
   "metadata": {},
   "source": [
    "### Threshold"
   ]
  },
  {
   "cell_type": "code",
   "execution_count": 57,
   "id": "5bf300eb",
   "metadata": {},
   "outputs": [
    {
     "data": {
      "text/plain": [
       "array([5121.19071847])"
      ]
     },
     "execution_count": 57,
     "metadata": {},
     "output_type": "execute_result"
    }
   ],
   "source": [
    "y_scores = sgd_clf.decision_function([some_digit])\n",
    "y_scores"
   ]
  },
  {
   "cell_type": "code",
   "execution_count": 58,
   "id": "6cb651ae",
   "metadata": {},
   "outputs": [
    {
     "data": {
      "text/plain": [
       "array([ True])"
      ]
     },
     "execution_count": 58,
     "metadata": {},
     "output_type": "execute_result"
    }
   ],
   "source": [
    "threshold = 0\n",
    "y_some_digit_pred = (y_scores > threshold)\n",
    "y_some_digit_pred"
   ]
  },
  {
   "cell_type": "code",
   "execution_count": null,
   "id": "5d779964",
   "metadata": {},
   "outputs": [],
   "source": []
  }
 ],
 "metadata": {
  "kernelspec": {
   "display_name": "Python 3",
   "language": "python",
   "name": "python3"
  },
  "language_info": {
   "codemirror_mode": {
    "name": "ipython",
    "version": 3
   },
   "file_extension": ".py",
   "mimetype": "text/x-python",
   "name": "python",
   "nbconvert_exporter": "python",
   "pygments_lexer": "ipython3",
   "version": "3.7.10"
  }
 },
 "nbformat": 4,
 "nbformat_minor": 5
}
