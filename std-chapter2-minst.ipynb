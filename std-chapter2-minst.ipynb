{
 "cells": [
  {
   "cell_type": "markdown",
   "id": "4dbccbff",
   "metadata": {},
   "source": [
    "# Chapter 3: Classification\n",
    "Notes for *Hands on Machine Learning with Scikit by Aurelien Geron*. This is on Chapter 3: Classification, where it explains the fundamentals on how Machine Learning identify one group from the other using statistics."
   ]
  },
  {
   "cell_type": "markdown",
   "id": "66b77701",
   "metadata": {},
   "source": [
    "# Getting Started\n",
    "The dataset used is the *MNIST*, which is a collection of handwritten numbers in the format of image pixels. The goal is to have the machine tell us what number is in each image."
   ]
  },
  {
   "cell_type": "code",
   "execution_count": 1,
   "id": "6fc13a36",
   "metadata": {},
   "outputs": [],
   "source": [
    "import pandas as pd\n",
    "import seaborn as sns\n",
    "sns.set_style('whitegrid')\n",
    "pd.options.display.max_rows = 1000; pd.options.display.max_columns = 100;"
   ]
  },
  {
   "cell_type": "code",
   "execution_count": 2,
   "id": "7bb7802f",
   "metadata": {},
   "outputs": [
    {
     "data": {
      "text/plain": [
       "dict_keys(['data', 'target', 'frame', 'categories', 'feature_names', 'target_names', 'DESCR', 'details', 'url'])"
      ]
     },
     "execution_count": 2,
     "metadata": {},
     "output_type": "execute_result"
    }
   ],
   "source": [
    "from sklearn.datasets import fetch_openml\n",
    "mnist = fetch_openml('mnist_784', version=1)\n",
    "mnist.keys()"
   ]
  },
  {
   "cell_type": "markdown",
   "id": "14b25158",
   "metadata": {},
   "source": [
    "You can download a copy of the dataset from sklearn. This gets updated often, which is why it is different on the book."
   ]
  },
  {
   "cell_type": "code",
   "execution_count": 3,
   "id": "885a67b5",
   "metadata": {},
   "outputs": [],
   "source": [
    "df, target = mnist[\"data\"], mnist[\"target\"]"
   ]
  },
  {
   "cell_type": "markdown",
   "id": "01c618b2",
   "metadata": {},
   "source": [
    "There are 2 sets of data. *Data* contains the pixel information about the number image, which is what we will use to predict. *Target* are the answer keys, which tells us what the number is."
   ]
  },
  {
   "cell_type": "code",
   "execution_count": 4,
   "id": "cfbf7aa1",
   "metadata": {},
   "outputs": [
    {
     "name": "stdout",
     "output_type": "stream",
     "text": [
      "data (70000, 784)\n",
      "target (70000,)\n"
     ]
    }
   ],
   "source": [
    "print('data', df.shape) # I store the data info in df, which is short for dataframe.\n",
    "print('target', target.shape) "
   ]
  },
  {
   "cell_type": "code",
   "execution_count": 5,
   "id": "580cb074",
   "metadata": {},
   "outputs": [
    {
     "data": {
      "text/plain": [
       "count    784.000000\n",
       "mean      35.108418\n",
       "std       79.699674\n",
       "min        0.000000\n",
       "25%        0.000000\n",
       "50%        0.000000\n",
       "75%        0.000000\n",
       "max      255.000000\n",
       "Name: 0, dtype: float64"
      ]
     },
     "execution_count": 5,
     "metadata": {},
     "output_type": "execute_result"
    }
   ],
   "source": [
    "df.iloc[0].describe()"
   ]
  },
  {
   "cell_type": "markdown",
   "id": "4fff533f",
   "metadata": {},
   "source": [
    "There are 70,000 numbers in the dataset and each number holds 784 pixels. Each pixel has a value between 0 to 255, which indicates the intensity of the black color. "
   ]
  },
  {
   "cell_type": "markdown",
   "id": "260a2696",
   "metadata": {},
   "source": [
    "## Split Train Test\n",
    "Before we begin, we set aside a portion of the dataset into a *Test* set, which is what we use at the very end to validate our models. We use the *Train* for majority of our exploration and data engineering."
   ]
  },
  {
   "cell_type": "code",
   "execution_count": 6,
   "id": "7c5a3ab2",
   "metadata": {},
   "outputs": [],
   "source": [
    "train_df, test_df, train_target, test_target = df[:60000], df[60000:], target[:60000], target[60000:]"
   ]
  },
  {
   "cell_type": "markdown",
   "id": "fa7bc944",
   "metadata": {},
   "source": [
    "The MINST dataset is already dividied into Train and Test. The first 60k rows is the Train and the rest are the Test."
   ]
  },
  {
   "cell_type": "code",
   "execution_count": 7,
   "id": "1e9f48cd",
   "metadata": {},
   "outputs": [],
   "source": [
    "import numpy as np\n",
    "shuffle_index = np.random.RandomState(seed=42).permutation(60000)\n",
    "train_df, train_target = train_df.iloc[shuffle_index], train_target.iloc[shuffle_index]"
   ]
  },
  {
   "cell_type": "markdown",
   "id": "fa5daf7f",
   "metadata": {},
   "source": [
    "There is a chance that the numbers are in order in a way that it will affect our models. Like a new deck of cards, we would always shuffle it before using them. Here, we shuffle it using the index."
   ]
  },
  {
   "cell_type": "markdown",
   "id": "b075b094",
   "metadata": {},
   "source": [
    "# Explore Data\n",
    "Our data is prepapred. It is time to Explore, Clean and Machine Learning the shit out of it. \n",
    "\n",
    "I don't restrict myself from exploring the data but I do keep everything organized. That is why I keep Exploring, Cleaning and Machine Learning code in separate sections in this order. This section is where we keep all our Exploring data."
   ]
  },
  {
   "cell_type": "code",
   "execution_count": 8,
   "id": "650dae8d",
   "metadata": {},
   "outputs": [],
   "source": [
    "import matplotlib as mpl\n",
    "import matplotlib.pyplot as plt\n",
    "seven = train_df.loc[59963].values"
   ]
  },
  {
   "cell_type": "markdown",
   "id": "198b7842",
   "metadata": {},
   "source": [
    "The numbers will keep shuffling everytime you run the code. Better choose a number and remember the index so you can iterate over the same number. Here I choose the number 7, which has an index of 59963 as an example."
   ]
  },
  {
   "cell_type": "code",
   "execution_count": 9,
   "id": "25a74360",
   "metadata": {},
   "outputs": [
    {
     "name": "stdout",
     "output_type": "stream",
     "text": [
      "7\n"
     ]
    },
    {
     "data": {
      "image/png": "[encoded data removed]",
      "text/plain": [
       "<Figure size 200x200 with 1 Axes>"
      ]
     },
     "metadata": {},
     "output_type": "display_data"
    }
   ],
   "source": [
    "seven_target = train_target.loc[59963] # Choose a number and remember the index because of the shuffle.\n",
    "print(seven_target)\n",
    "plt.figure(figsize=(2,2))\n",
    "number_seven_image = seven.reshape(28, 28)\n",
    "plt.imshow(number_seven_image, cmap = mpl.cm.binary, interpolation=\"nearest\")\n",
    "plt.axis(\"off\")\n",
    "plt.show()"
   ]
  },
  {
   "cell_type": "markdown",
   "id": "fb220176",
   "metadata": {},
   "source": [
    "Each row contains pixel information about a number. If it reshaped into 28 by 28 pixels and plotted in a graph, the image of the number will show. We have chosen the number seven and true enough the image is a seven."
   ]
  },
  {
   "cell_type": "markdown",
   "id": "13bb677c",
   "metadata": {},
   "source": [
    "# Clean Data\n",
    "In this section, we Clean the data."
   ]
  },
  {
   "cell_type": "code",
   "execution_count": 10,
   "id": "83a83df6",
   "metadata": {},
   "outputs": [],
   "source": [
    "import numpy as np\n",
    "train_target = train_target.astype(np.uint8)\n",
    "test_target = test_target.astype(np.uint8)"
   ]
  },
  {
   "cell_type": "markdown",
   "id": "3dfbe6f6",
   "metadata": {},
   "source": [
    "The values of each targets are strings. We want them as intigers."
   ]
  },
  {
   "cell_type": "markdown",
   "id": "54892799",
   "metadata": {},
   "source": [
    "# Machine Learning\n",
    "In this section, we do our Machine Learning algorithms. We start with an easy algorithm, then we work our way up to the more complex ones."
   ]
  },
  {
   "cell_type": "markdown",
   "id": "9d1d8909",
   "metadata": {},
   "source": [
    "## Stochastic Gradient Descent\n",
    "The goal is to use the pixel information in each row to tell us what number it is. But before doing all numbers, we start with something simple, which is to determine if the number is seven or not (TRUE or FALSE). For our first model, we use SGD that is great at classifying large datasets."
   ]
  },
  {
   "cell_type": "code",
   "execution_count": 11,
   "id": "6bc81083",
   "metadata": {},
   "outputs": [],
   "source": [
    "train_target_seven = (train_target == int(seven_target))"
   ]
  },
  {
   "cell_type": "code",
   "execution_count": 12,
   "id": "a55d6a2c",
   "metadata": {},
   "outputs": [
    {
     "data": {
      "text/plain": [
       "array([ True])"
      ]
     },
     "execution_count": 12,
     "metadata": {},
     "output_type": "execute_result"
    }
   ],
   "source": [
    "from sklearn.linear_model import SGDClassifier\n",
    "sgd_clf = SGDClassifier(random_state=42) # Init. Call on SGD.\n",
    "sgd_clf.fit(train_df, train_target_seven) # Fit. We give instructions to Machine.\n",
    "sgd_clf.predict([seven]) # Predict. Ask machine if seven is the number seven."
   ]
  },
  {
   "cell_type": "markdown",
   "id": "2fca5db8",
   "metadata": {},
   "source": [
    "Pay attention here because this is how all Machine Learning Algorithm works:\n",
    "- Init. We create an instance of the model.\n",
    "- Fit. We give the machine the data and the answer keys for it to learn.\n",
    "- Predict. Then the machine uses what it learned from Fit to check if the Machine can tell if variable *seven* is seven. In this case, it does and it outputs the value *True*.\n",
    "\n",
    "Now, let us check if the Machine can tell if the rest of the numbers are seven and check the accuracy."
   ]
  },
  {
   "cell_type": "code",
   "execution_count": 13,
   "id": "bb93c0d5",
   "metadata": {},
   "outputs": [
    {
     "data": {
      "text/plain": [
       "array([0.97725, 0.9779 , 0.97535])"
      ]
     },
     "execution_count": 13,
     "metadata": {},
     "output_type": "execute_result"
    }
   ],
   "source": [
    "from sklearn.model_selection import cross_val_score\n",
    "cross_val_score(sgd_clf, train_df, train_target_seven, cv=3, scoring=\"accuracy\")"
   ]
  },
  {
   "cell_type": "markdown",
   "id": "fbd4aff7",
   "metadata": {},
   "source": [
    "*cross_val_score* splits the training data into 3 folds and uses 2 folds as training data and 1 fold as the test. It does this 3 times in different combination. \n",
    "\n",
    "Results show that on average, the model is accurate around ~95% of the time. This is unusually high. Let us try another dumber model and check."
   ]
  },
  {
   "cell_type": "code",
   "execution_count": 14,
   "id": "83da03d7",
   "metadata": {},
   "outputs": [],
   "source": [
    "from sklearn.base import BaseEstimator\n",
    "class Never5Classifier(BaseEstimator):\n",
    "    def fit(self, X, y=None):\n",
    "        pass\n",
    "    def predict(self, X):\n",
    "        return np.zeros((len(X), 1), dtype=bool)"
   ]
  },
  {
   "cell_type": "code",
   "execution_count": 15,
   "id": "0c3e7b5d",
   "metadata": {},
   "outputs": [
    {
     "data": {
      "text/plain": [
       "array([0.89245, 0.89785, 0.89645])"
      ]
     },
     "execution_count": 15,
     "metadata": {},
     "output_type": "execute_result"
    }
   ],
   "source": [
    "never_roll_clf = Never5Classifier()\n",
    "cross_val_score(never_roll_clf, train_df, train_target_seven, cv=3, scoring=\"accuracy\")"
   ]
  },
  {
   "cell_type": "markdown",
   "id": "7b63a199",
   "metadata": {},
   "source": [
    "Again, we get very high results. This is because ~90% of the numbers are not sevens. So, if the model is lazy and said that all numbers are not seven, then it would be correct 90% of the time and it would give it a accuracy score of 90%. This is why accuracy, as a measure of classification, sucks."
   ]
  },
  {
   "cell_type": "markdown",
   "id": "c8338e77",
   "metadata": {},
   "source": [
    "## Confusion Matrix\n",
    "Instead just counting the correct predictions, Confusion Matrix also takes into account the wrong predictions. This creates balance in the way we evaluate our models."
   ]
  },
  {
   "cell_type": "code",
   "execution_count": 16,
   "id": "3e64b855",
   "metadata": {},
   "outputs": [],
   "source": [
    "from sklearn.model_selection import cross_val_predict\n",
    "train_pred_seven = cross_val_predict(sgd_clf, train_df, train_target_seven, cv=3)"
   ]
  },
  {
   "cell_type": "code",
   "execution_count": 17,
   "id": "01217488",
   "metadata": {},
   "outputs": [
    {
     "data": {
      "text/plain": [
       "array([[52997,   738],\n",
       "       [  652,  5613]], dtype=int64)"
      ]
     },
     "execution_count": 17,
     "metadata": {},
     "output_type": "execute_result"
    }
   ],
   "source": [
    "from sklearn.metrics import confusion_matrix\n",
    "confusion_matrix(train_target_seven, train_pred_seven)"
   ]
  },
  {
   "cell_type": "markdown",
   "id": "48dd9a34",
   "metadata": {},
   "source": [
    "#### \n",
    "![confusion_matrix](image1.svg)\n",
    "\n",
    "**Precision** is the number of times the model predicted that the number was seven versus all the predictions that it thought was seven. **Recall** is the number of times the model predicted that the number was seven versus all the actual sevens that exists in the dataset.\n",
    "\n",
    "Precision alone is not enough to evaluate a model. If say the model had only 1 True prediction, which happens to be a seven, then your precision is 100%. Recall is also not useful either by itself. It is possible to get a 100% recall if the model predicted that ALL numbers are sevens, which gives you a Recall of 100%.\n",
    "\n",
    "There are some use cases where you would prioritize one metric over the other but, generally, you want to have both Precision and Recall to be both high. "
   ]
  },
  {
   "cell_type": "code",
   "execution_count": 18,
   "id": "7cf05128",
   "metadata": {},
   "outputs": [
    {
     "data": {
      "text/plain": [
       "0.8837978271138404"
      ]
     },
     "execution_count": 18,
     "metadata": {},
     "output_type": "execute_result"
    }
   ],
   "source": [
    "from sklearn.metrics import precision_score, recall_score\n",
    "precision = precision_score(train_target_seven, train_pred_seven)\n",
    "precision"
   ]
  },
  {
   "cell_type": "markdown",
   "id": "174bcd5a",
   "metadata": {},
   "source": [
    "For our model, it has a 90% precision score, which means that out 5,992 numbers that it has identified as the number seven, only 5,402 of those wer actually the number seven. This is pretty good."
   ]
  },
  {
   "cell_type": "code",
   "execution_count": 19,
   "id": "5ad89fb7",
   "metadata": {},
   "outputs": [
    {
     "data": {
      "text/plain": [
       "0.8959297685554669"
      ]
     },
     "execution_count": 19,
     "metadata": {},
     "output_type": "execute_result"
    }
   ],
   "source": [
    "recall = recall_score(train_target_seven, train_pred_seven)\n",
    "recall"
   ]
  },
  {
   "cell_type": "markdown",
   "id": "ee3e209f",
   "metadata": {},
   "source": [
    "But it has scored a recall of 86%, which means that the 5,402 correct predictions are only 86% of all actual sevens. It was not able to identify 863 that were also sevens."
   ]
  },
  {
   "cell_type": "markdown",
   "id": "e1d00fa6",
   "metadata": {},
   "source": [
    "## F1 score\n",
    "The F1 score is a convinient measure that calculates the *harmonic mean* of precision and recall."
   ]
  },
  {
   "cell_type": "code",
   "execution_count": 20,
   "id": "e19f3ba1",
   "metadata": {},
   "outputs": [
    {
     "name": "stdout",
     "output_type": "stream",
     "text": [
      "f1:  0.8898224476854788\n"
     ]
    }
   ],
   "source": [
    "from sklearn.metrics import f1_score\n",
    "print('f1: ', f1_score(train_target_seven, train_pred_seven))"
   ]
  },
  {
   "cell_type": "markdown",
   "id": "ae49adf0",
   "metadata": {},
   "source": [
    "This is different from just averaging the 2 scores, instead it calculates it in a way that gives more weight to low values. There are tradeoffs between precision and recall. You cannot increase one metric without decreasing the other.\n",
    "\n",
    "Increasing Precision is actually telling the model to make predictions that has the least wrong answers, even if it does not get all the sevens in the dataset. Conversely, if Recall is prioritized, then the model needs to make sure that it gets all sevens in the dataset even if it mistakenly predict some numbers to be seven."
   ]
  },
  {
   "cell_type": "markdown",
   "id": "993f965f",
   "metadata": {},
   "source": [
    "## Threshold\n",
    "To better understand the tradeoffs between precision and recall, we are going to tweak the threshold of the models. By default, SGD's threshold is at zero, which finds the optimized scores between the 2 metrics."
   ]
  },
  {
   "cell_type": "code",
   "execution_count": 38,
   "id": "7e40dcc9",
   "metadata": {},
   "outputs": [
    {
     "data": {
      "text/plain": [
       "array([7866.93916507])"
      ]
     },
     "execution_count": 38,
     "metadata": {},
     "output_type": "execute_result"
    }
   ],
   "source": [
    "target_score = sgd_clf.decision_function([seven])\n",
    "target_score"
   ]
  },
  {
   "cell_type": "markdown",
   "id": "5cba0b5c",
   "metadata": {},
   "source": [
    "We use the *decision_function* method of sgd to get the score of how well the model identifies the number data as seven."
   ]
  },
  {
   "cell_type": "code",
   "execution_count": 39,
   "id": "873c4792",
   "metadata": {},
   "outputs": [
    {
     "data": {
      "text/plain": [
       "array([ True])"
      ]
     },
     "execution_count": 39,
     "metadata": {},
     "output_type": "execute_result"
    }
   ],
   "source": [
    "threshold = 0\n",
    "seven_pred = (target_score > threshold)\n",
    "seven_pred"
   ]
  },
  {
   "cell_type": "markdown",
   "id": "06766643",
   "metadata": {},
   "source": [
    "If we leave the threshold at zero, then we get a True output."
   ]
  },
  {
   "cell_type": "code",
   "execution_count": 40,
   "id": "6d36def7",
   "metadata": {},
   "outputs": [
    {
     "data": {
      "text/plain": [
       "array([False])"
      ]
     },
     "execution_count": 40,
     "metadata": {},
     "output_type": "execute_result"
    }
   ],
   "source": [
    "threshold = 8000\n",
    "seven_pred = (target_score > threshold)\n",
    "seven_pred"
   ]
  },
  {
   "cell_type": "markdown",
   "id": "2796912a",
   "metadata": {},
   "source": [
    "If we set the threshold at 8000, then we get an output of False. This means that to the machine, the number does not enough score to be identified as the number seven."
   ]
  },
  {
   "cell_type": "code",
   "execution_count": 41,
   "id": "4f460f58",
   "metadata": {},
   "outputs": [],
   "source": [
    "target_scores = cross_val_predict(sgd_clf, train_df, train_target_seven, cv=3, method='decision_function')"
   ]
  },
  {
   "cell_type": "code",
   "execution_count": 42,
   "id": "02fb5557",
   "metadata": {},
   "outputs": [
    {
     "data": {
      "text/html": [
       "<div>\n",
       "<style scoped>\n",
       "    .dataframe tbody tr th:only-of-type {\n",
       "        vertical-align: middle;\n",
       "    }\n",
       "\n",
       "    .dataframe tbody tr th {\n",
       "        vertical-align: top;\n",
       "    }\n",
       "\n",
       "    .dataframe thead th {\n",
       "        text-align: right;\n",
       "    }\n",
       "</style>\n",
       "<table border=\"1\" class=\"dataframe\">\n",
       "  <thead>\n",
       "    <tr style=\"text-align: right;\">\n",
       "      <th></th>\n",
       "      <th>target</th>\n",
       "      <th>answer</th>\n",
       "      <th>scores</th>\n",
       "    </tr>\n",
       "  </thead>\n",
       "  <tbody>\n",
       "    <tr>\n",
       "      <th>37665</th>\n",
       "      <td>7</td>\n",
       "      <td>True</td>\n",
       "      <td>48163.256141</td>\n",
       "    </tr>\n",
       "    <tr>\n",
       "      <th>23000</th>\n",
       "      <td>7</td>\n",
       "      <td>True</td>\n",
       "      <td>43371.436501</td>\n",
       "    </tr>\n",
       "    <tr>\n",
       "      <th>21514</th>\n",
       "      <td>7</td>\n",
       "      <td>True</td>\n",
       "      <td>41118.024888</td>\n",
       "    </tr>\n",
       "    <tr>\n",
       "      <th>13244</th>\n",
       "      <td>7</td>\n",
       "      <td>True</td>\n",
       "      <td>40826.558944</td>\n",
       "    </tr>\n",
       "    <tr>\n",
       "      <th>26417</th>\n",
       "      <td>7</td>\n",
       "      <td>True</td>\n",
       "      <td>40338.274713</td>\n",
       "    </tr>\n",
       "  </tbody>\n",
       "</table>\n",
       "</div>"
      ],
      "text/plain": [
       "       target  answer        scores\n",
       "37665       7    True  48163.256141\n",
       "23000       7    True  43371.436501\n",
       "21514       7    True  41118.024888\n",
       "13244       7    True  40826.558944\n",
       "26417       7    True  40338.274713"
      ]
     },
     "execution_count": 42,
     "metadata": {},
     "output_type": "execute_result"
    }
   ],
   "source": [
    "pd.DataFrame({\n",
    "    'target': train_target,\n",
    "    'answer': train_target_seven,\n",
    "    'scores': target_scores\n",
    "}).query('target==7').sort_values(by='scores', ascending=False).head()"
   ]
  },
  {
   "cell_type": "markdown",
   "id": "74cf9019",
   "metadata": {},
   "source": [
    "If the score is ran on all the numbers on our train set, we get the corresponding score. Here is a preview."
   ]
  },
  {
   "cell_type": "code",
   "execution_count": 43,
   "id": "6e01a38f",
   "metadata": {},
   "outputs": [],
   "source": [
    "from sklearn.metrics import precision_recall_curve\n",
    "precisions, recalls, threshold = precision_recall_curve(train_target_seven, target_scores)"
   ]
  },
  {
   "cell_type": "code",
   "execution_count": 52,
   "id": "d6aad998",
   "metadata": {},
   "outputs": [
    {
     "data": {
      "text/plain": [
       "0.8898224476854788"
      ]
     },
     "execution_count": 52,
     "metadata": {},
     "output_type": "execute_result"
    }
   ],
   "source": [
    "f1_score(train_target_seven, train_pred_seven)"
   ]
  },
  {
   "cell_type": "code",
   "execution_count": 57,
   "id": "c650c53c",
   "metadata": {},
   "outputs": [
    {
     "data": {
      "text/plain": [
       "<matplotlib.legend.Legend at 0x26381213048>"
      ]
     },
     "execution_count": 57,
     "metadata": {},
     "output_type": "execute_result"
    },
    {
     "data": {
      "image/png": "[encoded data removed]",
      "text/plain": [
       "<Figure size 800x500 with 1 Axes>"
      ]
     },
     "metadata": {},
     "output_type": "display_data"
    }
   ],
   "source": [
    "plt.figure(figsize=(8,5))\n",
    "sns.lineplot(x=threshold, y=precisions[:-1], label='precision')\n",
    "sns.lineplot(x=threshold, y=recalls[:-1], label='recall')\n",
    "plt.legend();"
   ]
  },
  {
   "cell_type": "markdown",
   "id": "96551158",
   "metadata": {},
   "source": [
    "Here, we get to see precision and recall against there threshold. It is at threshold zero that we see the 2 lines intersect. This is where we will find the optimized scores for both precision and recall."
   ]
  },
  {
   "cell_type": "markdown",
   "id": "4bf609c1",
   "metadata": {},
   "source": [
    "## ROC Curve\n",
    "We can adjusting threshold to get different combination of precision and recall. But if you just want to evaluate the strength of your model on how it can predict something, then you would look at something like the ROC curve."
   ]
  },
  {
   "cell_type": "code",
   "execution_count": 58,
   "id": "d702a1bb",
   "metadata": {},
   "outputs": [],
   "source": [
    "from sklearn.metrics import roc_curve\n",
    "fpr, tpr, thresholds = roc_curve(train_target_seven, target_scores)"
   ]
  },
  {
   "cell_type": "code",
   "execution_count": 62,
   "id": "11752f5a",
   "metadata": {},
   "outputs": [
    {
     "data": {
      "image/png": "[encoded data removed]",
      "text/plain": [
       "<Figure size 800x500 with 1 Axes>"
      ]
     },
     "metadata": {},
     "output_type": "display_data"
    }
   ],
   "source": [
    "plt.figure(figsize=(8,5))\n",
    "sns.lineplot(x=fpr, y=tpr, label='SGD')\n",
    "sns.lineplot(x=[0,1], y=[0,1], color='grey', linestyle='--', label='Randomness')\n",
    "plt.legend();"
   ]
  },
  {
   "cell_type": "markdown",
   "id": "11fe70cf",
   "metadata": {},
   "source": [
    "The ROC curve plots the False Positive Rate on the x-axis and the True Positive rate on the y-axis. The FPR is the number of times the model says the numbers are sevens but are actually were not over all the Positive predictions it made. While the TPR is just the same as Recall. The ROC only cares about the Predictions that the model make as being TRUE and gauges the effectiveness of that model as it would a binomial distribution, whereby it determines how often it will get the right answer (TPR) against how likely it is to get the wrong answer (FPR). It disregards the FALSE output or the NEGATIVE output the model."
   ]
  },
  {
   "cell_type": "code",
   "execution_count": 67,
   "id": "19616256",
   "metadata": {},
   "outputs": [
    {
     "data": {
      "image/png": "[encoded data removed]",
      "text/plain": [
       "<Figure size 800x500 with 1 Axes>"
      ]
     },
     "metadata": {},
     "output_type": "display_data"
    }
   ],
   "source": [
    "from sklearn.ensemble import RandomForestClassifier\n",
    "forest_clf = RandomForestClassifier(random_state=42)\n",
    "probas_forest = cross_val_predict(forest_clf, train_df, train_target_seven, cv=3, method='predict_proba')\n",
    "\n",
    "target_scores_forest = probas_forest[:, 1]\n",
    "fpr_forest, tpr_forest, thresholds_forest = roc_curve(train_target_seven, target_scores_forest)\n",
    "\n",
    "plt.figure(figsize=(8,5))\n",
    "sns.lineplot(x=fpr, y=tpr, label='SGD', color='steelblue')\n",
    "sns.lineplot(x=fpr_forest, y=tpr_forest, label='RandomForest', color='orange')\n",
    "sns.lineplot(x=[0,1], y=[0,1], linestyle='--', color='black')\n",
    "plt.legend();"
   ]
  },
  {
   "cell_type": "markdown",
   "id": "e05a756b",
   "metadata": {},
   "source": [
    "Here, we train a Random Forest model and place it against the SGD model in the same ROC plot. How ROC curve works is that the model should be as high up on the top left corner of the graph as possible. Comparing the 2 models, we get to see that the Random Forest Model is much better classifier than the SGD.\n",
    "\n",
    "The dashed diagonal line in the middle represents randomness. If the model gets closer to that line, it means that it is no better at classifying than a coin flip."
   ]
  },
  {
   "cell_type": "code",
   "execution_count": 69,
   "id": "0b1ac520",
   "metadata": {
    "scrolled": true
   },
   "outputs": [
    {
     "name": "stdout",
     "output_type": "stream",
     "text": [
      "SGD 0.989954367264912\n",
      "RandomForset 0.9981929410171149\n"
     ]
    }
   ],
   "source": [
    "from sklearn.metrics import roc_auc_score\n",
    "print('SGD', roc_auc_score(train_target_seven, target_scores))\n",
    "print('RandomForset', roc_auc_score(train_target_seven, target_scores_forest))"
   ]
  },
  {
   "cell_type": "markdown",
   "id": "7b95bbff",
   "metadata": {},
   "source": [
    "To summarize the results of both models to just one number, we calculate the area under the ROC curve. "
   ]
  },
  {
   "cell_type": "code",
   "execution_count": null,
   "id": "afe3e544",
   "metadata": {},
   "outputs": [],
   "source": []
  },
  {
   "cell_type": "markdown",
   "id": "888423ba",
   "metadata": {},
   "source": [
    "## "
   ]
  }
 ],
 "metadata": {
  "kernelspec": {
   "display_name": "Python 3",
   "language": "python",
   "name": "python3"
  },
  "language_info": {
   "codemirror_mode": {
    "name": "ipython",
    "version": 3
   },
   "file_extension": ".py",
   "mimetype": "text/x-python",
   "name": "python",
   "nbconvert_exporter": "python",
   "pygments_lexer": "ipython3",
   "version": "3.7.10"
  }
 },
 "nbformat": 4,
 "nbformat_minor": 5
}
