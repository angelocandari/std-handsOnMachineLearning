{
 "cells": [
  {
   "cell_type": "code",
   "execution_count": 7,
   "metadata": {},
   "outputs": [
    {
     "data": {
      "text/html": [
       "<div>\n",
       "<style scoped>\n",
       "    .dataframe tbody tr th:only-of-type {\n",
       "        vertical-align: middle;\n",
       "    }\n",
       "\n",
       "    .dataframe tbody tr th {\n",
       "        vertical-align: top;\n",
       "    }\n",
       "\n",
       "    .dataframe thead th {\n",
       "        text-align: right;\n",
       "    }\n",
       "</style>\n",
       "<table border=\"1\" class=\"dataframe\">\n",
       "  <thead>\n",
       "    <tr style=\"text-align: right;\">\n",
       "      <th></th>\n",
       "      <th>longitude</th>\n",
       "      <th>latitude</th>\n",
       "      <th>housing_median_age</th>\n",
       "      <th>total_rooms</th>\n",
       "      <th>total_bedrooms</th>\n",
       "      <th>population</th>\n",
       "      <th>households</th>\n",
       "      <th>median_income</th>\n",
       "      <th>median_house_value</th>\n",
       "      <th>ocean_proximity</th>\n",
       "    </tr>\n",
       "  </thead>\n",
       "  <tbody>\n",
       "    <tr>\n",
       "      <th>0</th>\n",
       "      <td>-122.23</td>\n",
       "      <td>37.88</td>\n",
       "      <td>41.0</td>\n",
       "      <td>880.0</td>\n",
       "      <td>129.0</td>\n",
       "      <td>322.0</td>\n",
       "      <td>126.0</td>\n",
       "      <td>8.3252</td>\n",
       "      <td>452600.0</td>\n",
       "      <td>NEAR BAY</td>\n",
       "    </tr>\n",
       "    <tr>\n",
       "      <th>1</th>\n",
       "      <td>-122.22</td>\n",
       "      <td>37.86</td>\n",
       "      <td>21.0</td>\n",
       "      <td>7099.0</td>\n",
       "      <td>1106.0</td>\n",
       "      <td>2401.0</td>\n",
       "      <td>1138.0</td>\n",
       "      <td>8.3014</td>\n",
       "      <td>358500.0</td>\n",
       "      <td>NEAR BAY</td>\n",
       "    </tr>\n",
       "    <tr>\n",
       "      <th>2</th>\n",
       "      <td>-122.24</td>\n",
       "      <td>37.85</td>\n",
       "      <td>52.0</td>\n",
       "      <td>1467.0</td>\n",
       "      <td>190.0</td>\n",
       "      <td>496.0</td>\n",
       "      <td>177.0</td>\n",
       "      <td>7.2574</td>\n",
       "      <td>352100.0</td>\n",
       "      <td>NEAR BAY</td>\n",
       "    </tr>\n",
       "    <tr>\n",
       "      <th>3</th>\n",
       "      <td>-122.25</td>\n",
       "      <td>37.85</td>\n",
       "      <td>52.0</td>\n",
       "      <td>1274.0</td>\n",
       "      <td>235.0</td>\n",
       "      <td>558.0</td>\n",
       "      <td>219.0</td>\n",
       "      <td>5.6431</td>\n",
       "      <td>341300.0</td>\n",
       "      <td>NEAR BAY</td>\n",
       "    </tr>\n",
       "    <tr>\n",
       "      <th>4</th>\n",
       "      <td>-122.25</td>\n",
       "      <td>37.85</td>\n",
       "      <td>52.0</td>\n",
       "      <td>1627.0</td>\n",
       "      <td>280.0</td>\n",
       "      <td>565.0</td>\n",
       "      <td>259.0</td>\n",
       "      <td>3.8462</td>\n",
       "      <td>342200.0</td>\n",
       "      <td>NEAR BAY</td>\n",
       "    </tr>\n",
       "  </tbody>\n",
       "</table>\n",
       "</div>"
      ],
      "text/plain": [
       "   longitude  latitude  housing_median_age  total_rooms  total_bedrooms  \\\n",
       "0    -122.23     37.88                41.0        880.0           129.0   \n",
       "1    -122.22     37.86                21.0       7099.0          1106.0   \n",
       "2    -122.24     37.85                52.0       1467.0           190.0   \n",
       "3    -122.25     37.85                52.0       1274.0           235.0   \n",
       "4    -122.25     37.85                52.0       1627.0           280.0   \n",
       "\n",
       "   population  households  median_income  median_house_value ocean_proximity  \n",
       "0       322.0       126.0         8.3252            452600.0        NEAR BAY  \n",
       "1      2401.0      1138.0         8.3014            358500.0        NEAR BAY  \n",
       "2       496.0       177.0         7.2574            352100.0        NEAR BAY  \n",
       "3       558.0       219.0         5.6431            341300.0        NEAR BAY  \n",
       "4       565.0       259.0         3.8462            342200.0        NEAR BAY  "
      ]
     },
     "execution_count": 7,
     "metadata": {},
     "output_type": "execute_result"
    }
   ],
   "source": [
    "import pandas as pd, numpy as np\n",
    "import seaborn as sns\n",
    "import matplotlib.pyplot as plt\n",
    "sns.set_style('whitegrid')\n",
    "%matplotlib inline\n",
    "\n",
    "df = pd.read_csv('housing-Copy1.csv')\n",
    "\n",
    "df.head()"
   ]
  },
  {
   "cell_type": "markdown",
   "metadata": {},
   "source": [
    "Checkout out the head."
   ]
  },
  {
   "cell_type": "code",
   "execution_count": 5,
   "metadata": {},
   "outputs": [],
   "source": [
    "num = [f for f in df.columns if df.dtypes[f] != 'object']\n",
    "cat = [f for f in df.columns if df.dtypes[f] == 'object']\n",
    "num.remove('median_house_value')\n",
    "target = 'median_house_value' # Target. What we want to predict"
   ]
  },
  {
   "cell_type": "markdown",
   "metadata": {},
   "source": [
    "# Preview\n",
    "20640 rows with 10 variables. 8 numeric and 1 categorical. *median_house_value* is what we are trying to predict.\n",
    "- Numeric: 'longitude', 'latitude', 'housing_median_age', 'total_rooms', 'total_bedrooms', 'population', 'households', 'median_income'\n",
    "- Categorical: 'ocean_proximity'\n",
    "- Target: 'median_house_value'"
   ]
  },
  {
   "cell_type": "code",
   "execution_count": 6,
   "metadata": {},
   "outputs": [
    {
     "data": {
      "text/html": [
       "<div>\n",
       "<style scoped>\n",
       "    .dataframe tbody tr th:only-of-type {\n",
       "        vertical-align: middle;\n",
       "    }\n",
       "\n",
       "    .dataframe tbody tr th {\n",
       "        vertical-align: top;\n",
       "    }\n",
       "\n",
       "    .dataframe thead th {\n",
       "        text-align: right;\n",
       "    }\n",
       "</style>\n",
       "<table border=\"1\" class=\"dataframe\">\n",
       "  <thead>\n",
       "    <tr style=\"text-align: right;\">\n",
       "      <th></th>\n",
       "      <th>longitude</th>\n",
       "      <th>latitude</th>\n",
       "      <th>housing_median_age</th>\n",
       "      <th>total_rooms</th>\n",
       "      <th>total_bedrooms</th>\n",
       "      <th>population</th>\n",
       "      <th>households</th>\n",
       "      <th>median_income</th>\n",
       "      <th>median_house_value</th>\n",
       "    </tr>\n",
       "  </thead>\n",
       "  <tbody>\n",
       "    <tr>\n",
       "      <th>count</th>\n",
       "      <td>20640.000000</td>\n",
       "      <td>20640.000000</td>\n",
       "      <td>20640.000000</td>\n",
       "      <td>20640.000000</td>\n",
       "      <td>20433.000000</td>\n",
       "      <td>20640.000000</td>\n",
       "      <td>20640.000000</td>\n",
       "      <td>20640.000000</td>\n",
       "      <td>20640.000000</td>\n",
       "    </tr>\n",
       "    <tr>\n",
       "      <th>mean</th>\n",
       "      <td>-119.569704</td>\n",
       "      <td>35.631861</td>\n",
       "      <td>28.639486</td>\n",
       "      <td>2635.763081</td>\n",
       "      <td>537.870553</td>\n",
       "      <td>1425.476744</td>\n",
       "      <td>499.539680</td>\n",
       "      <td>3.870671</td>\n",
       "      <td>206855.816909</td>\n",
       "    </tr>\n",
       "    <tr>\n",
       "      <th>std</th>\n",
       "      <td>2.003532</td>\n",
       "      <td>2.135952</td>\n",
       "      <td>12.585558</td>\n",
       "      <td>2181.615252</td>\n",
       "      <td>421.385070</td>\n",
       "      <td>1132.462122</td>\n",
       "      <td>382.329753</td>\n",
       "      <td>1.899822</td>\n",
       "      <td>115395.615874</td>\n",
       "    </tr>\n",
       "    <tr>\n",
       "      <th>min</th>\n",
       "      <td>-124.350000</td>\n",
       "      <td>32.540000</td>\n",
       "      <td>1.000000</td>\n",
       "      <td>2.000000</td>\n",
       "      <td>1.000000</td>\n",
       "      <td>3.000000</td>\n",
       "      <td>1.000000</td>\n",
       "      <td>0.499900</td>\n",
       "      <td>14999.000000</td>\n",
       "    </tr>\n",
       "    <tr>\n",
       "      <th>25%</th>\n",
       "      <td>-121.800000</td>\n",
       "      <td>33.930000</td>\n",
       "      <td>18.000000</td>\n",
       "      <td>1447.750000</td>\n",
       "      <td>296.000000</td>\n",
       "      <td>787.000000</td>\n",
       "      <td>280.000000</td>\n",
       "      <td>2.563400</td>\n",
       "      <td>119600.000000</td>\n",
       "    </tr>\n",
       "    <tr>\n",
       "      <th>50%</th>\n",
       "      <td>-118.490000</td>\n",
       "      <td>34.260000</td>\n",
       "      <td>29.000000</td>\n",
       "      <td>2127.000000</td>\n",
       "      <td>435.000000</td>\n",
       "      <td>1166.000000</td>\n",
       "      <td>409.000000</td>\n",
       "      <td>3.534800</td>\n",
       "      <td>179700.000000</td>\n",
       "    </tr>\n",
       "    <tr>\n",
       "      <th>75%</th>\n",
       "      <td>-118.010000</td>\n",
       "      <td>37.710000</td>\n",
       "      <td>37.000000</td>\n",
       "      <td>3148.000000</td>\n",
       "      <td>647.000000</td>\n",
       "      <td>1725.000000</td>\n",
       "      <td>605.000000</td>\n",
       "      <td>4.743250</td>\n",
       "      <td>264725.000000</td>\n",
       "    </tr>\n",
       "    <tr>\n",
       "      <th>max</th>\n",
       "      <td>-114.310000</td>\n",
       "      <td>41.950000</td>\n",
       "      <td>52.000000</td>\n",
       "      <td>39320.000000</td>\n",
       "      <td>6445.000000</td>\n",
       "      <td>35682.000000</td>\n",
       "      <td>6082.000000</td>\n",
       "      <td>15.000100</td>\n",
       "      <td>500001.000000</td>\n",
       "    </tr>\n",
       "  </tbody>\n",
       "</table>\n",
       "</div>"
      ],
      "text/plain": [
       "          longitude      latitude  housing_median_age   total_rooms  \\\n",
       "count  20640.000000  20640.000000        20640.000000  20640.000000   \n",
       "mean    -119.569704     35.631861           28.639486   2635.763081   \n",
       "std        2.003532      2.135952           12.585558   2181.615252   \n",
       "min     -124.350000     32.540000            1.000000      2.000000   \n",
       "25%     -121.800000     33.930000           18.000000   1447.750000   \n",
       "50%     -118.490000     34.260000           29.000000   2127.000000   \n",
       "75%     -118.010000     37.710000           37.000000   3148.000000   \n",
       "max     -114.310000     41.950000           52.000000  39320.000000   \n",
       "\n",
       "       total_bedrooms    population    households  median_income  \\\n",
       "count    20433.000000  20640.000000  20640.000000   20640.000000   \n",
       "mean       537.870553   1425.476744    499.539680       3.870671   \n",
       "std        421.385070   1132.462122    382.329753       1.899822   \n",
       "min          1.000000      3.000000      1.000000       0.499900   \n",
       "25%        296.000000    787.000000    280.000000       2.563400   \n",
       "50%        435.000000   1166.000000    409.000000       3.534800   \n",
       "75%        647.000000   1725.000000    605.000000       4.743250   \n",
       "max       6445.000000  35682.000000   6082.000000      15.000100   \n",
       "\n",
       "       median_house_value  \n",
       "count        20640.000000  \n",
       "mean        206855.816909  \n",
       "std         115395.615874  \n",
       "min          14999.000000  \n",
       "25%         119600.000000  \n",
       "50%         179700.000000  \n",
       "75%         264725.000000  \n",
       "max         500001.000000  "
      ]
     },
     "execution_count": 6,
     "metadata": {},
     "output_type": "execute_result"
    }
   ],
   "source": [
    "df.describe()"
   ]
  },
  {
   "cell_type": "markdown",
   "metadata": {},
   "source": [
    "# Target"
   ]
  },
  {
   "cell_type": "code",
   "execution_count": 9,
   "metadata": {},
   "outputs": [],
   "source": [
    "df[target].hist(bins=100);\n",
    "plt.savefig('target-housing.png')\n",
    "plt.close();"
   ]
  },
  {
   "cell_type": "markdown",
   "metadata": {},
   "source": [
    "![](target-housing.png)"
   ]
  },
  {
   "cell_type": "code",
   "execution_count": 10,
   "metadata": {},
   "outputs": [
    {
     "data": {
      "text/plain": [
       "count     20640.000000\n",
       "mean     206855.816909\n",
       "std      115395.615874\n",
       "min       14999.000000\n",
       "25%      119600.000000\n",
       "50%      179700.000000\n",
       "75%      264725.000000\n",
       "max      500001.000000\n",
       "Name: median_house_value, dtype: float64"
      ]
     },
     "execution_count": 10,
     "metadata": {},
     "output_type": "execute_result"
    }
   ],
   "source": [
    "df[target].describe()"
   ]
  },
  {
   "cell_type": "markdown",
   "metadata": {},
   "source": [
    "The **median_house_value** is our target and there is a cap in the target at 500,000."
   ]
  },
  {
   "cell_type": "markdown",
   "metadata": {},
   "source": [
    "# Create A Test Set\n",
    "When splitting data, check first if there are similar groups you want to stratify to get an even random split."
   ]
  },
  {
   "cell_type": "code",
   "execution_count": 11,
   "metadata": {},
   "outputs": [],
   "source": [
    "## Group median income according to 5 categories\n",
    "df['income_cat'] = np.ceil(df[target] / 1.5)\n",
    "df['income_cat'].where(df['income_cat'] < 5, 5.0, inplace=True)\n",
    "num = num + ['income_cat']"
   ]
  },
  {
   "cell_type": "code",
   "execution_count": 12,
   "metadata": {},
   "outputs": [],
   "source": [
    "## Using Startified Split\n",
    "from sklearn.model_selection import StratifiedShuffleSplit\n",
    "split = StratifiedShuffleSplit(n_splits=1, test_size=0.2, random_state=42)\n",
    "for train_index, test_index in split.split(df, df['income_cat']):\n",
    "    train = df.loc[train_index]\n",
    "    test = df.loc[test_index]"
   ]
  },
  {
   "cell_type": "code",
   "execution_count": 13,
   "metadata": {},
   "outputs": [
    {
     "data": {
      "text/plain": [
       "5.0    1.0\n",
       "Name: income_cat, dtype: float64"
      ]
     },
     "execution_count": 13,
     "metadata": {},
     "output_type": "execute_result"
    }
   ],
   "source": [
    "df.income_cat.value_counts() / len(df)"
   ]
  },
  {
   "cell_type": "code",
   "execution_count": 14,
   "metadata": {},
   "outputs": [
    {
     "data": {
      "text/plain": [
       "5.0    1.0\n",
       "Name: income_cat, dtype: float64"
      ]
     },
     "execution_count": 14,
     "metadata": {},
     "output_type": "execute_result"
    }
   ],
   "source": [
    "train.income_cat.value_counts() / len(train)"
   ]
  },
  {
   "cell_type": "code",
   "execution_count": 15,
   "metadata": {},
   "outputs": [
    {
     "data": {
      "text/plain": [
       "5.0    1.0\n",
       "Name: income_cat, dtype: float64"
      ]
     },
     "execution_count": 15,
     "metadata": {},
     "output_type": "execute_result"
    }
   ],
   "source": [
    "test.income_cat.value_counts() / len(test)"
   ]
  },
  {
   "cell_type": "markdown",
   "metadata": {},
   "source": [
    "The _Test Set_ generated using stratified sampling has income category proportions almost identical to those in the full dataset, whereas the _Test Set_ generated using purely random sampling is quite skewed.\n",
    "\n",
    "You now have the Train dataset. From this point forward, all cleaning you do must be only done on Train. Test should not be touched because of it lead to overfitting when we come to evaluation."
   ]
  },
  {
   "cell_type": "markdown",
   "metadata": {},
   "source": [
    "# Explore Data\n",
    "Start with checking correlations of numeric variables with the target data. Then make explore the data with many graphs but only show the top 3 graphs. Pairplot, scatterplot and a wildcard graph. Use only the train data in exploring."
   ]
  },
  {
   "cell_type": "markdown",
   "metadata": {},
   "source": [
    "## Correlations"
   ]
  },
  {
   "cell_type": "code",
   "execution_count": 16,
   "metadata": {},
   "outputs": [
    {
     "data": {
      "text/html": [
       "<style  type=\"text/css\" >\n",
       "#T_69be9_row0_col1{\n",
       "            width:  10em;\n",
       "             height:  80%;\n",
       "            background:  linear-gradient(90deg,#d65f5f 100.0%, transparent 100.0%);\n",
       "        }#T_69be9_row1_col1{\n",
       "            width:  10em;\n",
       "             height:  80%;\n",
       "            background:  linear-gradient(90deg,#d65f5f 73.0%, transparent 73.0%);\n",
       "        }#T_69be9_row2_col1{\n",
       "            width:  10em;\n",
       "             height:  80%;\n",
       "            background:  linear-gradient(90deg,#d65f5f 24.8%, transparent 24.8%);\n",
       "        }#T_69be9_row3_col1{\n",
       "            width:  10em;\n",
       "             height:  80%;\n",
       "            background:  linear-gradient(90deg,#d65f5f 22.2%, transparent 22.2%);\n",
       "        }#T_69be9_row4_col1{\n",
       "            width:  10em;\n",
       "             height:  80%;\n",
       "            background:  linear-gradient(90deg,#d65f5f 18.9%, transparent 18.9%);\n",
       "        }#T_69be9_row5_col1{\n",
       "            width:  10em;\n",
       "             height:  80%;\n",
       "            background:  linear-gradient(90deg,#d65f5f 17.5%, transparent 17.5%);\n",
       "        }#T_69be9_row6_col1{\n",
       "            width:  10em;\n",
       "             height:  80%;\n",
       "            background:  linear-gradient(90deg,#d65f5f 10.8%, transparent 10.8%);\n",
       "        }#T_69be9_row7_col1{\n",
       "            width:  10em;\n",
       "             height:  80%;\n",
       "            background:  linear-gradient(90deg,#d65f5f 9.3%, transparent 9.3%);\n",
       "        }#T_69be9_row8_col1{\n",
       "            width:  10em;\n",
       "             height:  80%;\n",
       "        }</style><table id=\"T_69be9_\" ><thead>    <tr>        <th class=\"blank level0\" ></th>        <th class=\"col_heading level0 col0\" >index</th>        <th class=\"col_heading level0 col1\" >median_house_value</th>    </tr></thead><tbody>\n",
       "                <tr>\n",
       "                        <th id=\"T_69be9_level0_row0\" class=\"row_heading level0 row0\" >0</th>\n",
       "                        <td id=\"T_69be9_row0_col0\" class=\"data row0 col0\" >median_house_value</td>\n",
       "                        <td id=\"T_69be9_row0_col1\" class=\"data row0 col1\" >1.000000</td>\n",
       "            </tr>\n",
       "            <tr>\n",
       "                        <th id=\"T_69be9_level0_row1\" class=\"row_heading level0 row1\" >1</th>\n",
       "                        <td id=\"T_69be9_row1_col0\" class=\"data row1 col0\" >median_income</td>\n",
       "                        <td id=\"T_69be9_row1_col1\" class=\"data row1 col1\" >0.689752</td>\n",
       "            </tr>\n",
       "            <tr>\n",
       "                        <th id=\"T_69be9_level0_row2\" class=\"row_heading level0 row2\" >2</th>\n",
       "                        <td id=\"T_69be9_row2_col0\" class=\"data row2 col0\" >total_rooms</td>\n",
       "                        <td id=\"T_69be9_row2_col1\" class=\"data row2 col1\" >0.136167</td>\n",
       "            </tr>\n",
       "            <tr>\n",
       "                        <th id=\"T_69be9_level0_row3\" class=\"row_heading level0 row3\" >3</th>\n",
       "                        <td id=\"T_69be9_row3_col0\" class=\"data row3 col0\" >housing_median_age</td>\n",
       "                        <td id=\"T_69be9_row3_col1\" class=\"data row3 col1\" >0.107050</td>\n",
       "            </tr>\n",
       "            <tr>\n",
       "                        <th id=\"T_69be9_level0_row4\" class=\"row_heading level0 row4\" >4</th>\n",
       "                        <td id=\"T_69be9_row4_col0\" class=\"data row4 col0\" >households</td>\n",
       "                        <td id=\"T_69be9_row4_col1\" class=\"data row4 col1\" >0.068976</td>\n",
       "            </tr>\n",
       "            <tr>\n",
       "                        <th id=\"T_69be9_level0_row5\" class=\"row_heading level0 row5\" >5</th>\n",
       "                        <td id=\"T_69be9_row5_col0\" class=\"data row5 col0\" >total_bedrooms</td>\n",
       "                        <td id=\"T_69be9_row5_col1\" class=\"data row5 col1\" >0.052690</td>\n",
       "            </tr>\n",
       "            <tr>\n",
       "                        <th id=\"T_69be9_level0_row6\" class=\"row_heading level0 row6\" >6</th>\n",
       "                        <td id=\"T_69be9_row6_col0\" class=\"data row6 col0\" >population</td>\n",
       "                        <td id=\"T_69be9_row6_col1\" class=\"data row6 col1\" >-0.024618</td>\n",
       "            </tr>\n",
       "            <tr>\n",
       "                        <th id=\"T_69be9_level0_row7\" class=\"row_heading level0 row7\" >7</th>\n",
       "                        <td id=\"T_69be9_row7_col0\" class=\"data row7 col0\" >longitude</td>\n",
       "                        <td id=\"T_69be9_row7_col1\" class=\"data row7 col1\" >-0.041830</td>\n",
       "            </tr>\n",
       "            <tr>\n",
       "                        <th id=\"T_69be9_level0_row8\" class=\"row_heading level0 row8\" >8</th>\n",
       "                        <td id=\"T_69be9_row8_col0\" class=\"data row8 col0\" >latitude</td>\n",
       "                        <td id=\"T_69be9_row8_col1\" class=\"data row8 col1\" >-0.148438</td>\n",
       "            </tr>\n",
       "            <tr>\n",
       "                        <th id=\"T_69be9_level0_row9\" class=\"row_heading level0 row9\" >9</th>\n",
       "                        <td id=\"T_69be9_row9_col0\" class=\"data row9 col0\" >income_cat</td>\n",
       "                        <td id=\"T_69be9_row9_col1\" class=\"data row9 col1\" >nan</td>\n",
       "            </tr>\n",
       "    </tbody></table>"
      ],
      "text/plain": [
       "<pandas.io.formats.style.Styler at 0x1dbfeffb1c8>"
      ]
     },
     "execution_count": 16,
     "metadata": {},
     "output_type": "execute_result"
    }
   ],
   "source": [
    "train.corr()[target].sort_values(ascending=False).reset_index().style.bar()"
   ]
  },
  {
   "cell_type": "code",
   "execution_count": 17,
   "metadata": {},
   "outputs": [
    {
     "name": "stderr",
     "output_type": "stream",
     "text": [
      "D:\\Anaconda\\lib\\site-packages\\pandas\\io\\formats\\style.py:1347: RuntimeWarning: All-NaN slice encountered\n",
      "  smin = np.nanmin(s.to_numpy()) if vmin is None else vmin\n",
      "D:\\Anaconda\\lib\\site-packages\\pandas\\io\\formats\\style.py:1348: RuntimeWarning: All-NaN slice encountered\n",
      "  smax = np.nanmax(s.to_numpy()) if vmax is None else vmax\n"
     ]
    },
    {
     "data": {
      "text/html": [
       "<style  type=\"text/css\" >\n",
       "#T_a677f_row0_col1{\n",
       "            width:  10em;\n",
       "             height:  80%;\n",
       "            background:  linear-gradient(90deg,#d65f5f 45.9%, transparent 45.9%);\n",
       "        }#T_a677f_row0_col2{\n",
       "            width:  10em;\n",
       "             height:  80%;\n",
       "            background:  linear-gradient(90deg,#d65f5f 40.3%, transparent 40.3%);\n",
       "        }#T_a677f_row0_col3{\n",
       "            width:  10em;\n",
       "             height:  80%;\n",
       "            background:  linear-gradient(90deg,#d65f5f 34.3%, transparent 34.3%);\n",
       "        }#T_a677f_row0_col4{\n",
       "            width:  10em;\n",
       "             height:  80%;\n",
       "            background:  linear-gradient(90deg,#d65f5f 36.4%, transparent 36.4%);\n",
       "        }#T_a677f_row0_col5{\n",
       "            width:  10em;\n",
       "             height:  80%;\n",
       "            background:  linear-gradient(90deg,#d65f5f 28.1%, transparent 28.1%);\n",
       "        }#T_a677f_row0_col6{\n",
       "            width:  10em;\n",
       "             height:  80%;\n",
       "            background:  linear-gradient(90deg,#d65f5f 21.2%, transparent 21.2%);\n",
       "        }#T_a677f_row0_col7{\n",
       "            width:  10em;\n",
       "             height:  80%;\n",
       "            background:  linear-gradient(90deg,#d65f5f 28.4%, transparent 28.4%);\n",
       "        }#T_a677f_row0_col8{\n",
       "            width:  10em;\n",
       "             height:  80%;\n",
       "            background:  linear-gradient(90deg,#d65f5f 72.3%, transparent 72.3%);\n",
       "        }#T_a677f_row0_col9,#T_a677f_row1_col8,#T_a677f_row2_col4,#T_a677f_row3_col3,#T_a677f_row4_col7,#T_a677f_row5_col5,#T_a677f_row6_col6,#T_a677f_row7_col1,#T_a677f_row8_col2{\n",
       "            width:  10em;\n",
       "             height:  80%;\n",
       "            background:  linear-gradient(90deg,#d65f5f 100.0%, transparent 100.0%);\n",
       "        }#T_a677f_row1_col1{\n",
       "            width:  10em;\n",
       "             height:  80%;\n",
       "            background:  linear-gradient(90deg,#d65f5f 47.5%, transparent 47.5%);\n",
       "        }#T_a677f_row1_col2{\n",
       "            width:  10em;\n",
       "             height:  80%;\n",
       "            background:  linear-gradient(90deg,#d65f5f 43.7%, transparent 43.7%);\n",
       "        }#T_a677f_row1_col3{\n",
       "            width:  10em;\n",
       "             height:  80%;\n",
       "            background:  linear-gradient(90deg,#d65f5f 17.6%, transparent 17.6%);\n",
       "        }#T_a677f_row1_col4{\n",
       "            width:  10em;\n",
       "             height:  80%;\n",
       "            background:  linear-gradient(90deg,#d65f5f 41.1%, transparent 41.1%);\n",
       "        }#T_a677f_row1_col5,#T_a677f_row1_col6{\n",
       "            width:  10em;\n",
       "             height:  80%;\n",
       "            background:  linear-gradient(90deg,#d65f5f 23.8%, transparent 23.8%);\n",
       "        }#T_a677f_row1_col7{\n",
       "            width:  10em;\n",
       "             height:  80%;\n",
       "            background:  linear-gradient(90deg,#d65f5f 24.4%, transparent 24.4%);\n",
       "        }#T_a677f_row1_col9{\n",
       "            width:  10em;\n",
       "             height:  80%;\n",
       "            background:  linear-gradient(90deg,#d65f5f 73.0%, transparent 73.0%);\n",
       "        }#T_a677f_row2_col1{\n",
       "            width:  10em;\n",
       "             height:  80%;\n",
       "            background:  linear-gradient(90deg,#d65f5f 50.5%, transparent 50.5%);\n",
       "        }#T_a677f_row2_col2{\n",
       "            width:  10em;\n",
       "             height:  80%;\n",
       "            background:  linear-gradient(90deg,#d65f5f 46.0%, transparent 46.0%);\n",
       "        }#T_a677f_row2_col3,#T_a677f_row3_col4,#T_a677f_row3_col5,#T_a677f_row3_col6,#T_a677f_row3_col7,#T_a677f_row3_col8,#T_a677f_row7_col2,#T_a677f_row8_col1,#T_a677f_row8_col9{\n",
       "            width:  10em;\n",
       "             height:  80%;\n",
       "        }#T_a677f_row2_col5{\n",
       "            width:  10em;\n",
       "             height:  80%;\n",
       "            background:  linear-gradient(90deg,#d65f5f 94.8%, transparent 94.8%);\n",
       "        }#T_a677f_row2_col6{\n",
       "            width:  10em;\n",
       "             height:  80%;\n",
       "            background:  linear-gradient(90deg,#d65f5f 89.4%, transparent 89.4%);\n",
       "        }#T_a677f_row2_col7{\n",
       "            width:  10em;\n",
       "             height:  80%;\n",
       "            background:  linear-gradient(90deg,#d65f5f 93.8%, transparent 93.8%);\n",
       "        }#T_a677f_row2_col8{\n",
       "            width:  10em;\n",
       "             height:  80%;\n",
       "            background:  linear-gradient(90deg,#d65f5f 28.5%, transparent 28.5%);\n",
       "        }#T_a677f_row2_col9{\n",
       "            width:  10em;\n",
       "             height:  80%;\n",
       "            background:  linear-gradient(90deg,#d65f5f 24.8%, transparent 24.8%);\n",
       "        }#T_a677f_row3_col1{\n",
       "            width:  10em;\n",
       "             height:  80%;\n",
       "            background:  linear-gradient(90deg,#d65f5f 42.2%, transparent 42.2%);\n",
       "        }#T_a677f_row3_col2{\n",
       "            width:  10em;\n",
       "             height:  80%;\n",
       "            background:  linear-gradient(90deg,#d65f5f 48.9%, transparent 48.9%);\n",
       "        }#T_a677f_row3_col9{\n",
       "            width:  10em;\n",
       "             height:  80%;\n",
       "            background:  linear-gradient(90deg,#d65f5f 22.2%, transparent 22.2%);\n",
       "        }#T_a677f_row4_col1{\n",
       "            width:  10em;\n",
       "             height:  80%;\n",
       "            background:  linear-gradient(90deg,#d65f5f 51.0%, transparent 51.0%);\n",
       "        }#T_a677f_row4_col2{\n",
       "            width:  10em;\n",
       "             height:  80%;\n",
       "            background:  linear-gradient(90deg,#d65f5f 44.3%, transparent 44.3%);\n",
       "        }#T_a677f_row4_col3,#T_a677f_row6_col3{\n",
       "            width:  10em;\n",
       "             height:  80%;\n",
       "            background:  linear-gradient(90deg,#d65f5f 4.3%, transparent 4.3%);\n",
       "        }#T_a677f_row4_col4{\n",
       "            width:  10em;\n",
       "             height:  80%;\n",
       "            background:  linear-gradient(90deg,#d65f5f 94.1%, transparent 94.1%);\n",
       "        }#T_a677f_row4_col5,#T_a677f_row5_col7{\n",
       "            width:  10em;\n",
       "             height:  80%;\n",
       "            background:  linear-gradient(90deg,#d65f5f 98.4%, transparent 98.4%);\n",
       "        }#T_a677f_row4_col6,#T_a677f_row6_col7{\n",
       "            width:  10em;\n",
       "             height:  80%;\n",
       "            background:  linear-gradient(90deg,#d65f5f 93.2%, transparent 93.2%);\n",
       "        }#T_a677f_row4_col8{\n",
       "            width:  10em;\n",
       "             height:  80%;\n",
       "            background:  linear-gradient(90deg,#d65f5f 12.2%, transparent 12.2%);\n",
       "        }#T_a677f_row4_col9,#T_a677f_row8_col5{\n",
       "            width:  10em;\n",
       "             height:  80%;\n",
       "            background:  linear-gradient(90deg,#d65f5f 18.9%, transparent 18.9%);\n",
       "        }#T_a677f_row5_col1{\n",
       "            width:  10em;\n",
       "             height:  80%;\n",
       "            background:  linear-gradient(90deg,#d65f5f 51.7%, transparent 51.7%);\n",
       "        }#T_a677f_row5_col2{\n",
       "            width:  10em;\n",
       "             height:  80%;\n",
       "            background:  linear-gradient(90deg,#d65f5f 44.5%, transparent 44.5%);\n",
       "        }#T_a677f_row5_col3{\n",
       "            width:  10em;\n",
       "             height:  80%;\n",
       "            background:  linear-gradient(90deg,#d65f5f 3.0%, transparent 3.0%);\n",
       "        }#T_a677f_row5_col4{\n",
       "            width:  10em;\n",
       "             height:  80%;\n",
       "            background:  linear-gradient(90deg,#d65f5f 95.0%, transparent 95.0%);\n",
       "        }#T_a677f_row5_col6{\n",
       "            width:  10em;\n",
       "             height:  80%;\n",
       "            background:  linear-gradient(90deg,#d65f5f 90.9%, transparent 90.9%);\n",
       "        }#T_a677f_row5_col8{\n",
       "            width:  10em;\n",
       "             height:  80%;\n",
       "            background:  linear-gradient(90deg,#d65f5f 10.3%, transparent 10.3%);\n",
       "        }#T_a677f_row5_col9,#T_a677f_row8_col7{\n",
       "            width:  10em;\n",
       "             height:  80%;\n",
       "            background:  linear-gradient(90deg,#d65f5f 17.5%, transparent 17.5%);\n",
       "        }#T_a677f_row6_col1{\n",
       "            width:  10em;\n",
       "             height:  80%;\n",
       "            background:  linear-gradient(90deg,#d65f5f 53.4%, transparent 53.4%);\n",
       "        }#T_a677f_row6_col2{\n",
       "            width:  10em;\n",
       "             height:  80%;\n",
       "            background:  linear-gradient(90deg,#d65f5f 42.3%, transparent 42.3%);\n",
       "        }#T_a677f_row6_col4{\n",
       "            width:  10em;\n",
       "             height:  80%;\n",
       "            background:  linear-gradient(90deg,#d65f5f 89.8%, transparent 89.8%);\n",
       "        }#T_a677f_row6_col5{\n",
       "            width:  10em;\n",
       "             height:  80%;\n",
       "            background:  linear-gradient(90deg,#d65f5f 91.0%, transparent 91.0%);\n",
       "        }#T_a677f_row6_col8{\n",
       "            width:  10em;\n",
       "             height:  80%;\n",
       "            background:  linear-gradient(90deg,#d65f5f 11.4%, transparent 11.4%);\n",
       "        }#T_a677f_row6_col9{\n",
       "            width:  10em;\n",
       "             height:  80%;\n",
       "            background:  linear-gradient(90deg,#d65f5f 10.8%, transparent 10.8%);\n",
       "        }#T_a677f_row7_col3{\n",
       "            width:  10em;\n",
       "             height:  80%;\n",
       "            background:  linear-gradient(90deg,#d65f5f 18.1%, transparent 18.1%);\n",
       "        }#T_a677f_row7_col4{\n",
       "            width:  10em;\n",
       "             height:  80%;\n",
       "            background:  linear-gradient(90deg,#d65f5f 29.9%, transparent 29.9%);\n",
       "        }#T_a677f_row7_col5{\n",
       "            width:  10em;\n",
       "             height:  80%;\n",
       "            background:  linear-gradient(90deg,#d65f5f 29.5%, transparent 29.5%);\n",
       "        }#T_a677f_row7_col6{\n",
       "            width:  10em;\n",
       "             height:  80%;\n",
       "            background:  linear-gradient(90deg,#d65f5f 30.9%, transparent 30.9%);\n",
       "        }#T_a677f_row7_col7{\n",
       "            width:  10em;\n",
       "             height:  80%;\n",
       "            background:  linear-gradient(90deg,#d65f5f 27.5%, transparent 27.5%);\n",
       "        }#T_a677f_row7_col8{\n",
       "            width:  10em;\n",
       "             height:  80%;\n",
       "            background:  linear-gradient(90deg,#d65f5f 9.8%, transparent 9.8%);\n",
       "        }#T_a677f_row7_col9{\n",
       "            width:  10em;\n",
       "             height:  80%;\n",
       "            background:  linear-gradient(90deg,#d65f5f 9.3%, transparent 9.3%);\n",
       "        }#T_a677f_row8_col3{\n",
       "            width:  10em;\n",
       "             height:  80%;\n",
       "            background:  linear-gradient(90deg,#d65f5f 27.6%, transparent 27.6%);\n",
       "        }#T_a677f_row8_col4{\n",
       "            width:  10em;\n",
       "             height:  80%;\n",
       "            background:  linear-gradient(90deg,#d65f5f 23.5%, transparent 23.5%);\n",
       "        }#T_a677f_row8_col6{\n",
       "            width:  10em;\n",
       "             height:  80%;\n",
       "            background:  linear-gradient(90deg,#d65f5f 14.5%, transparent 14.5%);\n",
       "        }#T_a677f_row8_col8{\n",
       "            width:  10em;\n",
       "             height:  80%;\n",
       "            background:  linear-gradient(90deg,#d65f5f 3.1%, transparent 3.1%);\n",
       "        }</style><table id=\"T_a677f_\" ><thead>    <tr>        <th class=\"blank level0\" ></th>        <th class=\"col_heading level0 col0\" >index</th>        <th class=\"col_heading level0 col1\" >longitude</th>        <th class=\"col_heading level0 col2\" >latitude</th>        <th class=\"col_heading level0 col3\" >housing_median_age</th>        <th class=\"col_heading level0 col4\" >total_rooms</th>        <th class=\"col_heading level0 col5\" >total_bedrooms</th>        <th class=\"col_heading level0 col6\" >population</th>        <th class=\"col_heading level0 col7\" >households</th>        <th class=\"col_heading level0 col8\" >median_income</th>        <th class=\"col_heading level0 col9\" >median_house_value</th>        <th class=\"col_heading level0 col10\" >income_cat</th>    </tr></thead><tbody>\n",
       "                <tr>\n",
       "                        <th id=\"T_a677f_level0_row0\" class=\"row_heading level0 row0\" >0</th>\n",
       "                        <td id=\"T_a677f_row0_col0\" class=\"data row0 col0\" >median_house_value</td>\n",
       "                        <td id=\"T_a677f_row0_col1\" class=\"data row0 col1\" >-0.041830</td>\n",
       "                        <td id=\"T_a677f_row0_col2\" class=\"data row0 col2\" >-0.148438</td>\n",
       "                        <td id=\"T_a677f_row0_col3\" class=\"data row0 col3\" >0.107050</td>\n",
       "                        <td id=\"T_a677f_row0_col4\" class=\"data row0 col4\" >0.136167</td>\n",
       "                        <td id=\"T_a677f_row0_col5\" class=\"data row0 col5\" >0.052690</td>\n",
       "                        <td id=\"T_a677f_row0_col6\" class=\"data row0 col6\" >-0.024618</td>\n",
       "                        <td id=\"T_a677f_row0_col7\" class=\"data row0 col7\" >0.068976</td>\n",
       "                        <td id=\"T_a677f_row0_col8\" class=\"data row0 col8\" >0.689752</td>\n",
       "                        <td id=\"T_a677f_row0_col9\" class=\"data row0 col9\" >1.000000</td>\n",
       "                        <td id=\"T_a677f_row0_col10\" class=\"data row0 col10\" >nan</td>\n",
       "            </tr>\n",
       "            <tr>\n",
       "                        <th id=\"T_a677f_level0_row1\" class=\"row_heading level0 row1\" >1</th>\n",
       "                        <td id=\"T_a677f_row1_col0\" class=\"data row1 col0\" >median_income</td>\n",
       "                        <td id=\"T_a677f_row1_col1\" class=\"data row1 col1\" >-0.009710</td>\n",
       "                        <td id=\"T_a677f_row1_col2\" class=\"data row1 col2\" >-0.084431</td>\n",
       "                        <td id=\"T_a677f_row1_col3\" class=\"data row1 col3\" >-0.119018</td>\n",
       "                        <td id=\"T_a677f_row1_col4\" class=\"data row1 col4\" >0.199796</td>\n",
       "                        <td id=\"T_a677f_row1_col5\" class=\"data row1 col5\" >-0.003400</td>\n",
       "                        <td id=\"T_a677f_row1_col6\" class=\"data row1 col6\" >0.009006</td>\n",
       "                        <td id=\"T_a677f_row1_col7\" class=\"data row1 col7\" >0.016974</td>\n",
       "                        <td id=\"T_a677f_row1_col8\" class=\"data row1 col8\" >1.000000</td>\n",
       "                        <td id=\"T_a677f_row1_col9\" class=\"data row1 col9\" >0.689752</td>\n",
       "                        <td id=\"T_a677f_row1_col10\" class=\"data row1 col10\" >nan</td>\n",
       "            </tr>\n",
       "            <tr>\n",
       "                        <th id=\"T_a677f_level0_row2\" class=\"row_heading level0 row2\" >2</th>\n",
       "                        <td id=\"T_a677f_row2_col0\" class=\"data row2 col0\" >total_rooms</td>\n",
       "                        <td id=\"T_a677f_row2_col1\" class=\"data row2 col1\" >0.047739</td>\n",
       "                        <td id=\"T_a677f_row2_col2\" class=\"data row2 col2\" >-0.039526</td>\n",
       "                        <td id=\"T_a677f_row2_col3\" class=\"data row2 col3\" >-0.358473</td>\n",
       "                        <td id=\"T_a677f_row2_col4\" class=\"data row2 col4\" >1.000000</td>\n",
       "                        <td id=\"T_a677f_row2_col5\" class=\"data row2 col5\" >0.931636</td>\n",
       "                        <td id=\"T_a677f_row2_col6\" class=\"data row2 col6\" >0.861698</td>\n",
       "                        <td id=\"T_a677f_row2_col7\" class=\"data row2 col7\" >0.919344</td>\n",
       "                        <td id=\"T_a677f_row2_col8\" class=\"data row2 col8\" >0.199796</td>\n",
       "                        <td id=\"T_a677f_row2_col9\" class=\"data row2 col9\" >0.136167</td>\n",
       "                        <td id=\"T_a677f_row2_col10\" class=\"data row2 col10\" >nan</td>\n",
       "            </tr>\n",
       "            <tr>\n",
       "                        <th id=\"T_a677f_level0_row3\" class=\"row_heading level0 row3\" >3</th>\n",
       "                        <td id=\"T_a677f_row3_col0\" class=\"data row3 col0\" >housing_median_age</td>\n",
       "                        <td id=\"T_a677f_row3_col1\" class=\"data row3 col1\" >-0.111981</td>\n",
       "                        <td id=\"T_a677f_row3_col2\" class=\"data row3 col2\" >0.016236</td>\n",
       "                        <td id=\"T_a677f_row3_col3\" class=\"data row3 col3\" >1.000000</td>\n",
       "                        <td id=\"T_a677f_row3_col4\" class=\"data row3 col4\" >-0.358473</td>\n",
       "                        <td id=\"T_a677f_row3_col5\" class=\"data row3 col5\" >-0.317529</td>\n",
       "                        <td id=\"T_a677f_row3_col6\" class=\"data row3 col6\" >-0.299773</td>\n",
       "                        <td id=\"T_a677f_row3_col7\" class=\"data row3 col7\" >-0.300377</td>\n",
       "                        <td id=\"T_a677f_row3_col8\" class=\"data row3 col8\" >-0.119018</td>\n",
       "                        <td id=\"T_a677f_row3_col9\" class=\"data row3 col9\" >0.107050</td>\n",
       "                        <td id=\"T_a677f_row3_col10\" class=\"data row3 col10\" >nan</td>\n",
       "            </tr>\n",
       "            <tr>\n",
       "                        <th id=\"T_a677f_level0_row4\" class=\"row_heading level0 row4\" >4</th>\n",
       "                        <td id=\"T_a677f_row4_col0\" class=\"data row4 col0\" >households</td>\n",
       "                        <td id=\"T_a677f_row4_col1\" class=\"data row4 col1\" >0.056796</td>\n",
       "                        <td id=\"T_a677f_row4_col2\" class=\"data row4 col2\" >-0.072787</td>\n",
       "                        <td id=\"T_a677f_row4_col3\" class=\"data row4 col3\" >-0.300377</td>\n",
       "                        <td id=\"T_a677f_row4_col4\" class=\"data row4 col4\" >0.919344</td>\n",
       "                        <td id=\"T_a677f_row4_col5\" class=\"data row4 col5\" >0.979495</td>\n",
       "                        <td id=\"T_a677f_row4_col6\" class=\"data row4 col6\" >0.911096</td>\n",
       "                        <td id=\"T_a677f_row4_col7\" class=\"data row4 col7\" >1.000000</td>\n",
       "                        <td id=\"T_a677f_row4_col8\" class=\"data row4 col8\" >0.016974</td>\n",
       "                        <td id=\"T_a677f_row4_col9\" class=\"data row4 col9\" >0.068976</td>\n",
       "                        <td id=\"T_a677f_row4_col10\" class=\"data row4 col10\" >nan</td>\n",
       "            </tr>\n",
       "            <tr>\n",
       "                        <th id=\"T_a677f_level0_row5\" class=\"row_heading level0 row5\" >5</th>\n",
       "                        <td id=\"T_a677f_row5_col0\" class=\"data row5 col0\" >total_bedrooms</td>\n",
       "                        <td id=\"T_a677f_row5_col1\" class=\"data row5 col1\" >0.071221</td>\n",
       "                        <td id=\"T_a677f_row5_col2\" class=\"data row5 col2\" >-0.068902</td>\n",
       "                        <td id=\"T_a677f_row5_col3\" class=\"data row5 col3\" >-0.317529</td>\n",
       "                        <td id=\"T_a677f_row5_col4\" class=\"data row5 col4\" >0.931636</td>\n",
       "                        <td id=\"T_a677f_row5_col5\" class=\"data row5 col5\" >1.000000</td>\n",
       "                        <td id=\"T_a677f_row5_col6\" class=\"data row5 col6\" >0.881112</td>\n",
       "                        <td id=\"T_a677f_row5_col7\" class=\"data row5 col7\" >0.979495</td>\n",
       "                        <td id=\"T_a677f_row5_col8\" class=\"data row5 col8\" >-0.003400</td>\n",
       "                        <td id=\"T_a677f_row5_col9\" class=\"data row5 col9\" >0.052690</td>\n",
       "                        <td id=\"T_a677f_row5_col10\" class=\"data row5 col10\" >nan</td>\n",
       "            </tr>\n",
       "            <tr>\n",
       "                        <th id=\"T_a677f_level0_row6\" class=\"row_heading level0 row6\" >6</th>\n",
       "                        <td id=\"T_a677f_row6_col0\" class=\"data row6 col0\" >population</td>\n",
       "                        <td id=\"T_a677f_row6_col1\" class=\"data row6 col1\" >0.102285</td>\n",
       "                        <td id=\"T_a677f_row6_col2\" class=\"data row6 col2\" >-0.111175</td>\n",
       "                        <td id=\"T_a677f_row6_col3\" class=\"data row6 col3\" >-0.299773</td>\n",
       "                        <td id=\"T_a677f_row6_col4\" class=\"data row6 col4\" >0.861698</td>\n",
       "                        <td id=\"T_a677f_row6_col5\" class=\"data row6 col5\" >0.881112</td>\n",
       "                        <td id=\"T_a677f_row6_col6\" class=\"data row6 col6\" >1.000000</td>\n",
       "                        <td id=\"T_a677f_row6_col7\" class=\"data row6 col7\" >0.911096</td>\n",
       "                        <td id=\"T_a677f_row6_col8\" class=\"data row6 col8\" >0.009006</td>\n",
       "                        <td id=\"T_a677f_row6_col9\" class=\"data row6 col9\" >-0.024618</td>\n",
       "                        <td id=\"T_a677f_row6_col10\" class=\"data row6 col10\" >nan</td>\n",
       "            </tr>\n",
       "            <tr>\n",
       "                        <th id=\"T_a677f_level0_row7\" class=\"row_heading level0 row7\" >7</th>\n",
       "                        <td id=\"T_a677f_row7_col0\" class=\"data row7 col0\" >longitude</td>\n",
       "                        <td id=\"T_a677f_row7_col1\" class=\"data row7 col1\" >1.000000</td>\n",
       "                        <td id=\"T_a677f_row7_col2\" class=\"data row7 col2\" >-0.924861</td>\n",
       "                        <td id=\"T_a677f_row7_col3\" class=\"data row7 col3\" >-0.111981</td>\n",
       "                        <td id=\"T_a677f_row7_col4\" class=\"data row7 col4\" >0.047739</td>\n",
       "                        <td id=\"T_a677f_row7_col5\" class=\"data row7 col5\" >0.071221</td>\n",
       "                        <td id=\"T_a677f_row7_col6\" class=\"data row7 col6\" >0.102285</td>\n",
       "                        <td id=\"T_a677f_row7_col7\" class=\"data row7 col7\" >0.056796</td>\n",
       "                        <td id=\"T_a677f_row7_col8\" class=\"data row7 col8\" >-0.009710</td>\n",
       "                        <td id=\"T_a677f_row7_col9\" class=\"data row7 col9\" >-0.041830</td>\n",
       "                        <td id=\"T_a677f_row7_col10\" class=\"data row7 col10\" >nan</td>\n",
       "            </tr>\n",
       "            <tr>\n",
       "                        <th id=\"T_a677f_level0_row8\" class=\"row_heading level0 row8\" >8</th>\n",
       "                        <td id=\"T_a677f_row8_col0\" class=\"data row8 col0\" >latitude</td>\n",
       "                        <td id=\"T_a677f_row8_col1\" class=\"data row8 col1\" >-0.924861</td>\n",
       "                        <td id=\"T_a677f_row8_col2\" class=\"data row8 col2\" >1.000000</td>\n",
       "                        <td id=\"T_a677f_row8_col3\" class=\"data row8 col3\" >0.016236</td>\n",
       "                        <td id=\"T_a677f_row8_col4\" class=\"data row8 col4\" >-0.039526</td>\n",
       "                        <td id=\"T_a677f_row8_col5\" class=\"data row8 col5\" >-0.068902</td>\n",
       "                        <td id=\"T_a677f_row8_col6\" class=\"data row8 col6\" >-0.111175</td>\n",
       "                        <td id=\"T_a677f_row8_col7\" class=\"data row8 col7\" >-0.072787</td>\n",
       "                        <td id=\"T_a677f_row8_col8\" class=\"data row8 col8\" >-0.084431</td>\n",
       "                        <td id=\"T_a677f_row8_col9\" class=\"data row8 col9\" >-0.148438</td>\n",
       "                        <td id=\"T_a677f_row8_col10\" class=\"data row8 col10\" >nan</td>\n",
       "            </tr>\n",
       "            <tr>\n",
       "                        <th id=\"T_a677f_level0_row9\" class=\"row_heading level0 row9\" >9</th>\n",
       "                        <td id=\"T_a677f_row9_col0\" class=\"data row9 col0\" >income_cat</td>\n",
       "                        <td id=\"T_a677f_row9_col1\" class=\"data row9 col1\" >nan</td>\n",
       "                        <td id=\"T_a677f_row9_col2\" class=\"data row9 col2\" >nan</td>\n",
       "                        <td id=\"T_a677f_row9_col3\" class=\"data row9 col3\" >nan</td>\n",
       "                        <td id=\"T_a677f_row9_col4\" class=\"data row9 col4\" >nan</td>\n",
       "                        <td id=\"T_a677f_row9_col5\" class=\"data row9 col5\" >nan</td>\n",
       "                        <td id=\"T_a677f_row9_col6\" class=\"data row9 col6\" >nan</td>\n",
       "                        <td id=\"T_a677f_row9_col7\" class=\"data row9 col7\" >nan</td>\n",
       "                        <td id=\"T_a677f_row9_col8\" class=\"data row9 col8\" >nan</td>\n",
       "                        <td id=\"T_a677f_row9_col9\" class=\"data row9 col9\" >nan</td>\n",
       "                        <td id=\"T_a677f_row9_col10\" class=\"data row9 col10\" >nan</td>\n",
       "            </tr>\n",
       "    </tbody></table>"
      ],
      "text/plain": [
       "<pandas.io.formats.style.Styler at 0x1dbfe4ef4c8>"
      ]
     },
     "execution_count": 17,
     "metadata": {},
     "output_type": "execute_result"
    }
   ],
   "source": [
    "train.corr().sort_values(by = target, ascending=False).reset_index().style.bar()"
   ]
  },
  {
   "cell_type": "markdown",
   "metadata": {},
   "source": [
    "## 3 Graphs"
   ]
  },
  {
   "cell_type": "code",
   "execution_count": 19,
   "metadata": {},
   "outputs": [],
   "source": [
    "sns.pairplot(train[[target] + num[2:-1]]);\n",
    "plt.savefig('housing-pairplot.png')\n",
    "plt.close();"
   ]
  },
  {
   "cell_type": "markdown",
   "metadata": {},
   "source": [
    "![](housing-pairplot.png)\n",
    "Pairplot shows that there are features that correlates with other features. We can possibly combine them to have a much stronger feature that correlates with our target."
   ]
  },
  {
   "cell_type": "code",
   "execution_count": 20,
   "metadata": {},
   "outputs": [
    {
     "data": {
      "image/png": "[encoded data removed]",
      "text/plain": [
       "<Figure size 1000x800 with 1 Axes>"
      ]
     },
     "metadata": {},
     "output_type": "display_data"
    }
   ],
   "source": [
    "sns.regplot(x='median_income', y=target, data=train\n",
    "            , scatter_kws={'alpha':0.5} , line_kws={\"color\": \"orange\"});\n",
    "# plt.savefig('target-housing.png')\n",
    "# plt.close();"
   ]
  },
  {
   "cell_type": "markdown",
   "metadata": {},
   "source": [
    "median income is the most correlated feature for our target. There are lines at 500k where we see the cap but there are also lines between 450k and 350k, which needs to be address before we fit our model."
   ]
  },
  {
   "cell_type": "code",
   "execution_count": null,
   "metadata": {
    "scrolled": false
   },
   "outputs": [],
   "source": [
    "## Using Seaborn\n",
    "# sns.relplot(x='longitude', y='latitude', data=train, hue='median_house_value'\n",
    "#             , palette=plt.get_cmap('jet')\n",
    "#             , size=train['population']/100, sizes=(50,500), alpha=0.3 );\n",
    "## Using MatplotLib\n",
    "train.plot(kind='scatter', x='longitude', y='latitude', alpha=0.4,\n",
    "             s=train['population']/100, label='population', c=target, \n",
    "             cmap=plt.get_cmap('jet'), colorbar=True);"
   ]
  },
  {
   "cell_type": "markdown",
   "metadata": {},
   "source": [
    "Housing prices are very much related to the location and the population density. Clustering algorithm to detect main clusters and add new features that measure the proximity to the cluster centers."
   ]
  },
  {
   "cell_type": "markdown",
   "metadata": {},
   "source": [
    "# Data Cleaning\n",
    "After doing an initial exploration, you must clean the dataset but start doing it only on **train**. As you clean it, you will build a pipeline of functions that you will use to clean the test set and any future dataset."
   ]
  },
  {
   "cell_type": "markdown",
   "metadata": {},
   "source": [
    "## Missing Data\n",
    "Assess each numerical values for missing data and use the imputer to replace them with the median value."
   ]
  },
  {
   "cell_type": "code",
   "execution_count": null,
   "metadata": {},
   "outputs": [],
   "source": [
    "mis = train.isnull().sum()\n",
    "mis = mis[mis>0]\n",
    "pd.DataFrame({\n",
    "    'count': mis,\n",
    "    'proportion': mis / len(train)\n",
    "}).sort_values(by='proportion', ascending=False).style.bar()"
   ]
  },
  {
   "cell_type": "code",
   "execution_count": null,
   "metadata": {},
   "outputs": [],
   "source": [
    "from sklearn.impute import SimpleImputer\n",
    "imp_median = SimpleImputer(strategy='median')\n",
    "imp_median.fit(train[num])\n",
    "\n",
    "pd.DataFrame(imp_median.transform(train[num]), columns=num).head() ## preview. can delete"
   ]
  },
  {
   "cell_type": "markdown",
   "metadata": {},
   "source": [
    "Seems to be a lot of writing code for something simple. But here, we are getting used to *initiate, fit, transform* for sklearn, which will pay off in the long run once we build our automated pipeline."
   ]
  },
  {
   "cell_type": "markdown",
   "metadata": {},
   "source": [
    "## Categorical Encoding\n",
    "For Categorical values, we need to encode them to zeros and ones."
   ]
  },
  {
   "cell_type": "code",
   "execution_count": null,
   "metadata": {},
   "outputs": [],
   "source": [
    "# train = train.join(pd.get_dummies(train['ocean_proximity']))\n",
    "\n",
    "from sklearn.preprocessing import LabelBinarizer\n",
    "encoder = LabelBinarizer()\n",
    "encoder.fit_transform(train[cat])"
   ]
  },
  {
   "cell_type": "markdown",
   "metadata": {},
   "source": [
    "When encoding, it seems strange that we don't care of the columne names and just have the values zeros and ones. This must have a purpose later on. Better keep moving."
   ]
  },
  {
   "cell_type": "markdown",
   "metadata": {},
   "source": [
    "## Feature Engineering\n",
    "There will be some features that would have a weak relationship with the target but are strongly correlated with other weak features. Exploring the combination of these features by combining them together may result into a stronger feature that we can use to improve our predictive capability of the target."
   ]
  },
  {
   "cell_type": "code",
   "execution_count": null,
   "metadata": {},
   "outputs": [],
   "source": [
    "from sklearn.base import BaseEstimator, TransformerMixin\n",
    "rooms_ix, bedrooms_ix, population_ix, household_ix = 3, 4, 5, 6\n",
    "class CombinedAttributesAdder(BaseEstimator, TransformerMixin):\n",
    "    def __init__(self, add_bedrooms_per_room=True):\n",
    "        self.add_bedrooms_per_room = add_bedrooms_per_room\n",
    "    def fit(self, X, y=None):\n",
    "        return self    \n",
    "    def transform(self, X, y=None):\n",
    "        rooms_per_household = X[:, rooms_ix] / X[:, household_ix]\n",
    "        population_per_household = X[:, population_ix] / X[:, household_ix]\n",
    "        if self.add_bedrooms_per_room:\n",
    "            bedrooms_per_room = X[:, bedrooms_ix] / X[:, rooms_ix]\n",
    "            return np.c_[X, rooms_per_household, population_per_household, bedrooms_per_room]\n",
    "        else:\n",
    "            return np.c_[X, rooms_per_household, population_per_household]"
   ]
  },
  {
   "cell_type": "code",
   "execution_count": null,
   "metadata": {},
   "outputs": [],
   "source": [
    "attr_adder = CombinedAttributesAdder(add_bedrooms_per_room=False) # initiate\n",
    "housing_extra_attributes = attr_adder.transform(train.values) # transform"
   ]
  },
  {
   "cell_type": "markdown",
   "metadata": {},
   "source": [
    "The more you automate these data preparation steps, the more combinations you can automatically try out, making it much more lifely that you will find a great combination."
   ]
  },
  {
   "cell_type": "markdown",
   "metadata": {},
   "source": [
    "## Feature Scaling\n",
    "Total number of rooms ranges from about 6 to 39,320, while the median incomes only range from 0 to 15.\n"
   ]
  },
  {
   "cell_type": "markdown",
   "metadata": {},
   "source": [
    "### MinMaxScaler Normalization\n",
    "Transforms the numeric data between 0 and 1."
   ]
  },
  {
   "cell_type": "code",
   "execution_count": null,
   "metadata": {},
   "outputs": [],
   "source": [
    "from sklearn.preprocessing import MinMaxScaler\n",
    "scaler = MinMaxScaler() # initiate\n",
    "scaler.fit(train[num]) # fit\n",
    "minmax = scaler.transform(train[num]) # transform\n",
    "pd.DataFrame(minmax, columns=num).describe()"
   ]
  },
  {
   "cell_type": "markdown",
   "metadata": {},
   "source": [
    "### Standardization\n",
    "Uses standard deviation with mean as zero."
   ]
  },
  {
   "cell_type": "code",
   "execution_count": null,
   "metadata": {},
   "outputs": [],
   "source": [
    "from sklearn.preprocessing import StandardScaler\n",
    "scaler = StandardScaler()\n",
    "scaler.fit(train[num])\n",
    "pd.DataFrame(scaler.transform(train[num]), columns=num).describe()"
   ]
  },
  {
   "cell_type": "markdown",
   "metadata": {},
   "source": [
    "You must only *fit* scalers to the **train** data. You must fit it to the whole data set or to the test set because this will cause overfitting when we do evaluation."
   ]
  },
  {
   "cell_type": "markdown",
   "metadata": {},
   "source": [
    "# Transformation Pipeline\n",
    "Ok. This is where you get everything together. Do everything step by step."
   ]
  },
  {
   "cell_type": "code",
   "execution_count": null,
   "metadata": {},
   "outputs": [],
   "source": [
    "from sklearn.pipeline import Pipeline\n",
    "from sklearn.preprocessing import StandardScaler\n",
    "from sklearn.pipeline import FeatureUnion\n",
    "from sklearn.preprocessing import LabelBinarizer\n",
    "from sklearn.impute import SimpleImputer"
   ]
  },
  {
   "cell_type": "code",
   "execution_count": null,
   "metadata": {},
   "outputs": [],
   "source": [
    "class DataFrameSelector(BaseEstimator, TransformerMixin):\n",
    "    def __init__(self, attribute_names):\n",
    "        self.attribute_names = attribute_names\n",
    "    def fit(self, X, y=None):\n",
    "        return self\n",
    "    def transform(self, X):\n",
    "        return X[self.attribute_names].values\n",
    "    \n",
    "class NewLabelBinarizer(LabelBinarizer):\n",
    "    def fit(self, X, y=None):\n",
    "        return super(NewLabelBinarizer, self).fit(X)\n",
    "    def transform(self, X, y=None):\n",
    "        return super(NewLabelBinarizer, self).transform(X)\n",
    "    def fit_transform(self, X, y=None):\n",
    "        return super(NewLabelBinarizer, self).fit(X).transform(X)"
   ]
  },
  {
   "cell_type": "code",
   "execution_count": null,
   "metadata": {},
   "outputs": [],
   "source": [
    "num_pipeline = Pipeline([\n",
    "    ('selector', DataFrameSelector(num))\n",
    "    , ('imputer', SimpleImputer(strategy='median'))\n",
    "    , ('attribs_adder', CombinedAttributesAdder())\n",
    "    , ('std_scaler', StandardScaler())\n",
    "])"
   ]
  },
  {
   "cell_type": "code",
   "execution_count": null,
   "metadata": {},
   "outputs": [],
   "source": [
    "cat_pipeline = Pipeline([\n",
    "    ('selector', DataFrameSelector(cat))\n",
    "    , ('label_binarizer', NewLabelBinarizer())\n",
    "])"
   ]
  },
  {
   "cell_type": "code",
   "execution_count": null,
   "metadata": {},
   "outputs": [],
   "source": [
    "full_pipeline = FeatureUnion([\n",
    "        ('num_pipeline', num_pipeline)\n",
    "        , ('cat_pipeline', cat_pipeline)\n",
    "])"
   ]
  },
  {
   "cell_type": "code",
   "execution_count": null,
   "metadata": {},
   "outputs": [],
   "source": [
    "housing_prepared = full_pipeline.fit_transform(train)"
   ]
  },
  {
   "cell_type": "markdown",
   "metadata": {},
   "source": [
    "# Machine Learning"
   ]
  },
  {
   "cell_type": "markdown",
   "metadata": {},
   "source": [
    "## Linear Regression"
   ]
  },
  {
   "cell_type": "code",
   "execution_count": null,
   "metadata": {},
   "outputs": [],
   "source": [
    "from sklearn.linear_model import LinearRegression\n",
    "from sklearn.metrics import mean_squared_error\n",
    "housing_prepared = full_pipeline.transform(train) # does not have target\n",
    "lin_reg = LinearRegression() # init\n",
    "lin_reg.fit(housing_prepared, train[target]) # fit\n",
    "lin_mse = mean_squared_error(train[target], lin_reg.predict(housing_prepared)) # predict evaluate\n",
    "np.sqrt(lin_mse)"
   ]
  },
  {
   "cell_type": "markdown",
   "metadata": {},
   "source": [
    "This is not ideal"
   ]
  },
  {
   "cell_type": "markdown",
   "metadata": {},
   "source": [
    "## DecisionTree"
   ]
  },
  {
   "cell_type": "code",
   "execution_count": null,
   "metadata": {},
   "outputs": [],
   "source": [
    "from sklearn.tree import DecisionTreeRegressor\n",
    "tree_reg = DecisionTreeRegressor() # init\n",
    "tree_reg.fit(housing_prepared, train[target]) # fit\n",
    "tree_mse = mean_squared_error(train[target], tree_reg.predict(housing_prepared))# predict evaluate\n",
    "np.sqrt(tree_mse)"
   ]
  },
  {
   "cell_type": "markdown",
   "metadata": {},
   "source": [
    "This is overfitting"
   ]
  },
  {
   "cell_type": "markdown",
   "metadata": {},
   "source": [
    "## Random Forest"
   ]
  },
  {
   "cell_type": "code",
   "execution_count": null,
   "metadata": {},
   "outputs": [],
   "source": [
    "from sklearn.ensemble import RandomForestRegressor\n",
    "forest_reg = RandomForestRegressor() # init\n",
    "forest_reg.fit(housing_prepared, train[target]) # fit\n",
    "forest_mse = mean_squared_error(train[target], forest_reg.predict(housing_prepared))# predict evaluate\n",
    "np.sqrt(forest_mse)"
   ]
  },
  {
   "cell_type": "markdown",
   "metadata": {},
   "source": [
    "Better model to use."
   ]
  },
  {
   "cell_type": "markdown",
   "metadata": {},
   "source": [
    "## Cross Validation"
   ]
  },
  {
   "cell_type": "code",
   "execution_count": null,
   "metadata": {},
   "outputs": [],
   "source": [
    "from sklearn.model_selection import cross_val_score\n",
    "scores = cross_val_score(tree_reg, housing_prepared, train[target],\n",
    "                        scoring=\"neg_mean_squared_error\", cv=10)\n",
    "rmse_scores = np.sqrt(-scores)\n",
    "print(rmse_scores)\n",
    "print(rmse_scores.mean())\n",
    "print(rmse_scores.std())"
   ]
  },
  {
   "cell_type": "code",
   "execution_count": null,
   "metadata": {},
   "outputs": [],
   "source": [
    "scores = cross_val_score(lin_reg, housing_prepared, train[target],\n",
    "                        scoring=\"neg_mean_squared_error\", cv=10)\n",
    "rmse_scores = np.sqrt(-scores)\n",
    "print(rmse_scores)\n",
    "print(rmse_scores.mean())\n",
    "print(rmse_scores.std())"
   ]
  },
  {
   "cell_type": "code",
   "execution_count": null,
   "metadata": {},
   "outputs": [],
   "source": [
    "scores = cross_val_score(forest_reg, housing_prepared, train[target],\n",
    "                        scoring=\"neg_mean_squared_error\", cv=10)\n",
    "rmse_scores = np.sqrt(-scores)\n",
    "print(rmse_scores)\n",
    "print(rmse_scores.mean())\n",
    "print(rmse_scores.std())"
   ]
  },
  {
   "cell_type": "markdown",
   "metadata": {},
   "source": [
    "# Grid Search\n",
    "- 3 n_estimators x 4 max_features = 12\n",
    "- 2 n_estimators x 3 max_features = 6\n",
    "- 5 folds x 18 combinations = 90 rounds of training"
   ]
  },
  {
   "cell_type": "code",
   "execution_count": null,
   "metadata": {},
   "outputs": [],
   "source": [
    "from sklearn.model_selection import GridSearchCV\n",
    "param_grid = [\n",
    "    {'n_estimators': [3, 10, 30], 'max_features': [2, 4, 6, 8]},\n",
    "    {'bootstrap': [False], 'n_estimators': [3, 10], 'max_features': [2, 3, 4]},\n",
    "]\n",
    "\n",
    "forest_reg = RandomForestRegressor()\n",
    "grid_search = GridSearchCV(forest_reg, param_grid, cv=5, scoring='neg_mean_squared_error')\n",
    "\n",
    "grid_search.fit(housing_prepared, train[target])"
   ]
  },
  {
   "cell_type": "code",
   "execution_count": null,
   "metadata": {},
   "outputs": [],
   "source": [
    "grid_search.best_params_"
   ]
  },
  {
   "cell_type": "markdown",
   "metadata": {},
   "source": [
    "This shows the best parameter that made the best results"
   ]
  },
  {
   "cell_type": "code",
   "execution_count": null,
   "metadata": {},
   "outputs": [],
   "source": [
    "grid_search.best_estimator_"
   ]
  },
  {
   "cell_type": "markdown",
   "metadata": {},
   "source": [
    "You can see the best estimator to be used. Here we only placed 1."
   ]
  },
  {
   "cell_type": "code",
   "execution_count": null,
   "metadata": {},
   "outputs": [],
   "source": [
    "cvres = grid_search.cv_results_\n",
    "for mean_score, params in zip(cvres[\"mean_test_score\"], cvres[\"params\"]):\n",
    "    print(np.sqrt(-mean_score), params)"
   ]
  },
  {
   "cell_type": "markdown",
   "metadata": {},
   "source": [
    "You can see all the parameters and their corresponding scores here."
   ]
  },
  {
   "cell_type": "code",
   "execution_count": null,
   "metadata": {},
   "outputs": [],
   "source": [
    "feature_importances = grid_search.best_estimator_.feature_importances_\n",
    "feature_importances"
   ]
  },
  {
   "cell_type": "code",
   "execution_count": null,
   "metadata": {},
   "outputs": [],
   "source": [
    "extra_attribs = ['rooms_per_hhold', 'pop_per_hhold', 'bedrooms_per_room']\n",
    "cat_one_hot_attribs = list(encoder.classes_)\n",
    "attributes = num + extra_attribs + cat_one_hot_attribs\n",
    "sorted(zip(feature_importances, attributes), reverse=True)"
   ]
  },
  {
   "cell_type": "markdown",
   "metadata": {},
   "source": [
    "You can see which features are more stronger. Consider removing some weak ones."
   ]
  },
  {
   "cell_type": "markdown",
   "metadata": {},
   "source": [
    "# Evaluate in Test Set"
   ]
  },
  {
   "cell_type": "code",
   "execution_count": null,
   "metadata": {},
   "outputs": [],
   "source": [
    "final_model = grid_search.best_estimator_\n",
    "X_test = test.drop(target, axis=1)\n",
    "Y_test = test[target]\n",
    "X_test_prep = full_pipeline.transform(X_test)\n",
    "final_predictions = final_model.predict(X_test_prep)\n",
    "final_mse = mean_squared_error(Y_test, final_predictions)\n",
    "final_rmse = np.sqrt(final_mse)\n",
    "final_rmse"
   ]
  },
  {
   "cell_type": "code",
   "execution_count": null,
   "metadata": {},
   "outputs": [],
   "source": []
  }
 ],
 "metadata": {
  "kernelspec": {
   "display_name": "Python 3",
   "language": "python",
   "name": "python3"
  },
  "language_info": {
   "codemirror_mode": {
    "name": "ipython",
    "version": 3
   },
   "file_extension": ".py",
   "mimetype": "text/x-python",
   "name": "python",
   "nbconvert_exporter": "python",
   "pygments_lexer": "ipython3",
   "version": "3.7.10"
  }
 },
 "nbformat": 4,
 "nbformat_minor": 4
}
