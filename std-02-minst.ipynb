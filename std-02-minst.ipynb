{
 "cells": [
  {
   "cell_type": "markdown",
   "id": "4dbccbff",
   "metadata": {},
   "source": [
    "# Chapter 3: Classification\n",
    "Notes for *Hands on Machine Learning with Scikit by Aurelien Geron*. This is on Chapter 3: Classification, where it explains the fundamentals on how Machine Learning identify one group from the other using statistics."
   ]
  },
  {
   "cell_type": "markdown",
   "id": "66b77701",
   "metadata": {},
   "source": [
    "# Getting Started\n",
    "The dataset used is the *MNIST*, which is a collection of handwritten numbers in the format of image pixels. The goal is to have the machine tell us what number is in each image."
   ]
  },
  {
   "cell_type": "code",
   "execution_count": 1,
   "id": "6fc13a36",
   "metadata": {},
   "outputs": [],
   "source": [
    "import pandas as pd\n",
    "import seaborn as sns\n",
    "sns.set_style('whitegrid')\n",
    "pd.options.display.max_rows = 1000; pd.options.display.max_columns = 100;"
   ]
  },
  {
   "cell_type": "code",
   "execution_count": 2,
   "id": "7bb7802f",
   "metadata": {},
   "outputs": [
    {
     "data": {
      "text/plain": [
       "dict_keys(['data', 'target', 'frame', 'categories', 'feature_names', 'target_names', 'DESCR', 'details', 'url'])"
      ]
     },
     "execution_count": 2,
     "metadata": {},
     "output_type": "execute_result"
    }
   ],
   "source": [
    "from sklearn.datasets import fetch_openml\n",
    "mnist = fetch_openml('mnist_784', version=1)\n",
    "mnist.keys()"
   ]
  },
  {
   "cell_type": "markdown",
   "id": "14b25158",
   "metadata": {},
   "source": [
    "You can download a copy of the dataset from sklearn. This gets updated often, which is why it is different on the book."
   ]
  },
  {
   "cell_type": "code",
   "execution_count": 3,
   "id": "885a67b5",
   "metadata": {},
   "outputs": [],
   "source": [
    "df, target = mnist[\"data\"], mnist[\"target\"]"
   ]
  },
  {
   "cell_type": "markdown",
   "id": "01c618b2",
   "metadata": {},
   "source": [
    "There are 2 sets of data. *Data* contains the pixel information about the number image, which is what we will use to predict. *Target* are the answer keys, which tells us what the number is."
   ]
  },
  {
   "cell_type": "code",
   "execution_count": 4,
   "id": "cfbf7aa1",
   "metadata": {},
   "outputs": [
    {
     "name": "stdout",
     "output_type": "stream",
     "text": [
      "data (70000, 784)\n",
      "target (70000,)\n"
     ]
    }
   ],
   "source": [
    "print('data', df.shape) # I store the data info in df, which is short for dataframe.\n",
    "print('target', target.shape) "
   ]
  },
  {
   "cell_type": "code",
   "execution_count": 5,
   "id": "580cb074",
   "metadata": {},
   "outputs": [
    {
     "data": {
      "text/plain": [
       "count    784.000000\n",
       "mean      35.108418\n",
       "std       79.699674\n",
       "min        0.000000\n",
       "25%        0.000000\n",
       "50%        0.000000\n",
       "75%        0.000000\n",
       "max      255.000000\n",
       "Name: 0, dtype: float64"
      ]
     },
     "execution_count": 5,
     "metadata": {},
     "output_type": "execute_result"
    }
   ],
   "source": [
    "df.iloc[0].describe()"
   ]
  },
  {
   "cell_type": "markdown",
   "id": "4fff533f",
   "metadata": {},
   "source": [
    "There are 70,000 numbers in the dataset and each number holds 784 pixels. Each pixel has a value between 0 to 255, which indicates the intensity of the black color. "
   ]
  },
  {
   "cell_type": "markdown",
   "id": "260a2696",
   "metadata": {},
   "source": [
    "## Split Train Test\n",
    "Before we begin, we set aside a portion of the dataset into a *Test* set, which is what we use at the very end to validate our models. We use the *Train* for majority of our exploration and data engineering."
   ]
  },
  {
   "cell_type": "code",
   "execution_count": 6,
   "id": "7c5a3ab2",
   "metadata": {},
   "outputs": [],
   "source": [
    "train_df, test_df, train_target, test_target = df[:60000], df[60000:], target[:60000], target[60000:]"
   ]
  },
  {
   "cell_type": "markdown",
   "id": "fa7bc944",
   "metadata": {},
   "source": [
    "The MINST dataset is already dividied into Train and Test. The first 60k rows is the Train and the rest are the Test."
   ]
  },
  {
   "cell_type": "code",
   "execution_count": 7,
   "id": "1e9f48cd",
   "metadata": {},
   "outputs": [],
   "source": [
    "import numpy as np\n",
    "shuffle_index = np.random.RandomState(seed=42).permutation(60000)\n",
    "train_df, train_target = train_df.iloc[shuffle_index], train_target.iloc[shuffle_index]"
   ]
  },
  {
   "cell_type": "markdown",
   "id": "fa5daf7f",
   "metadata": {},
   "source": [
    "There is a chance that the numbers are in order in a way that it will affect our models. Like a new deck of cards, we would always shuffle it before using them. Here, we shuffle it using the index."
   ]
  },
  {
   "cell_type": "markdown",
   "id": "b075b094",
   "metadata": {},
   "source": [
    "# Explore Data\n",
    "Our data is prepapred. It is time to Explore, Clean and Machine Learning the shit out of it. \n",
    "\n",
    "I don't restrict myself from exploring the data but I do keep everything organized. That is why I keep Exploring, Cleaning and Machine Learning code in separate sections in this order. This section is where we keep all our Exploring data."
   ]
  },
  {
   "cell_type": "code",
   "execution_count": 8,
   "id": "650dae8d",
   "metadata": {},
   "outputs": [],
   "source": [
    "import matplotlib as mpl\n",
    "import matplotlib.pyplot as plt\n",
    "seven = train_df.loc[59963].values"
   ]
  },
  {
   "cell_type": "markdown",
   "id": "198b7842",
   "metadata": {},
   "source": [
    "The numbers will keep shuffling everytime you run the code. Better choose a number and remember the index so you can iterate over the same number. Here I choose the number 7, which has an index of 59963 as an example."
   ]
  },
  {
   "cell_type": "code",
   "execution_count": 74,
   "id": "25a74360",
   "metadata": {},
   "outputs": [
    {
     "name": "stdout",
     "output_type": "stream",
     "text": [
      "the chosen number is: 7\n"
     ]
    }
   ],
   "source": [
    "seven_target = train_target.loc[59963] # Choose a number and remember the index because of the shuffle.\n",
    "print('the chosen number is:', seven_target)\n",
    "plt.figure(figsize=(2,2))\n",
    "plt.imshow(seven.reshape(28, 28), cmap = mpl.cm.binary, interpolation=\"nearest\")\n",
    "plt.axis(\"off\")\n",
    "plt.savefig('seven.png')\n",
    "plt.close()"
   ]
  },
  {
   "cell_type": "markdown",
   "id": "fb220176",
   "metadata": {},
   "source": [
    "![seven](seven.png)\n",
    "\n",
    "Each row contains pixel information about a number. If it reshaped into 28 by 28 pixels and plotted in a graph, the image of the number will show. We have chosen the number seven and true enough the image is a seven."
   ]
  },
  {
   "cell_type": "markdown",
   "id": "13bb677c",
   "metadata": {},
   "source": [
    "# Clean Data\n",
    "In this section, we Clean the data."
   ]
  },
  {
   "cell_type": "code",
   "execution_count": 10,
   "id": "83a83df6",
   "metadata": {},
   "outputs": [],
   "source": [
    "import numpy as np\n",
    "train_target = train_target.astype(np.uint8)\n",
    "test_target = test_target.astype(np.uint8)"
   ]
  },
  {
   "cell_type": "markdown",
   "id": "3dfbe6f6",
   "metadata": {},
   "source": [
    "The values of each targets are strings. We want them as intigers."
   ]
  },
  {
   "cell_type": "markdown",
   "id": "54892799",
   "metadata": {},
   "source": [
    "# Machine Learning\n",
    "In this section, we do our Machine Learning algorithms. We start with an easy algorithm, then we work our way up to the more complex ones."
   ]
  },
  {
   "cell_type": "markdown",
   "id": "9d1d8909",
   "metadata": {},
   "source": [
    "## Stochastic Gradient Descent\n",
    "The goal is to use the pixel information in each row to tell us what number it is. But before doing all numbers, we start with something simple, which is to determine if the number is seven or not (TRUE or FALSE). For our first model, we use SGD that is great at classifying large datasets."
   ]
  },
  {
   "cell_type": "code",
   "execution_count": 11,
   "id": "6bc81083",
   "metadata": {},
   "outputs": [],
   "source": [
    "train_target_seven = (train_target == int(seven_target))"
   ]
  },
  {
   "cell_type": "code",
   "execution_count": 12,
   "id": "a55d6a2c",
   "metadata": {},
   "outputs": [
    {
     "data": {
      "text/plain": [
       "array([ True])"
      ]
     },
     "execution_count": 12,
     "metadata": {},
     "output_type": "execute_result"
    }
   ],
   "source": [
    "from sklearn.linear_model import SGDClassifier\n",
    "sgd_clf = SGDClassifier(random_state=42) # Init. Call on SGD.\n",
    "sgd_clf.fit(train_df, train_target_seven) # Fit. We give instructions to Machine.\n",
    "sgd_clf.predict([seven]) # Predict. Ask machine if seven is the number seven."
   ]
  },
  {
   "cell_type": "markdown",
   "id": "2fca5db8",
   "metadata": {},
   "source": [
    "Pay attention here because this is how all Machine Learning Algorithm works:\n",
    "- Init. We create an instance of the model.\n",
    "- Fit. We give the machine the data and the answer keys for it to learn.\n",
    "- Predict. Then the machine uses what it learned from Fit to check if the Machine can tell if variable *seven* is seven. In this case, it does and it outputs the value *True*.\n",
    "\n",
    "Now, let us check if the Machine can tell if the rest of the numbers are seven and check the accuracy."
   ]
  },
  {
   "cell_type": "code",
   "execution_count": 13,
   "id": "bb93c0d5",
   "metadata": {},
   "outputs": [
    {
     "data": {
      "text/plain": [
       "array([0.97725, 0.9779 , 0.97535])"
      ]
     },
     "execution_count": 13,
     "metadata": {},
     "output_type": "execute_result"
    }
   ],
   "source": [
    "from sklearn.model_selection import cross_val_score\n",
    "cross_val_score(sgd_clf, train_df, train_target_seven, cv=3, scoring=\"accuracy\")"
   ]
  },
  {
   "cell_type": "markdown",
   "id": "fbd4aff7",
   "metadata": {},
   "source": [
    "*cross_val_score* splits the training data into 3 folds and uses 2 folds as training data and 1 fold as the test. It does this 3 times in different combination. \n",
    "\n",
    "Results show that on average, the model is accurate around ~95% of the time. This is unusually high. Let us try another dumber model and check."
   ]
  },
  {
   "cell_type": "code",
   "execution_count": 14,
   "id": "83da03d7",
   "metadata": {},
   "outputs": [],
   "source": [
    "from sklearn.base import BaseEstimator\n",
    "class Never5Classifier(BaseEstimator):\n",
    "    def fit(self, X, y=None):\n",
    "        pass\n",
    "    def predict(self, X):\n",
    "        return np.zeros((len(X), 1), dtype=bool)"
   ]
  },
  {
   "cell_type": "code",
   "execution_count": 15,
   "id": "0c3e7b5d",
   "metadata": {},
   "outputs": [
    {
     "data": {
      "text/plain": [
       "array([0.89245, 0.89785, 0.89645])"
      ]
     },
     "execution_count": 15,
     "metadata": {},
     "output_type": "execute_result"
    }
   ],
   "source": [
    "never_roll_clf = Never5Classifier()\n",
    "cross_val_score(never_roll_clf, train_df, train_target_seven, cv=3, scoring=\"accuracy\")"
   ]
  },
  {
   "cell_type": "markdown",
   "id": "7b63a199",
   "metadata": {},
   "source": [
    "Again, we get very high results. This is because ~90% of the numbers are not sevens. So, if the model is lazy and said that all numbers are not seven, then it would be correct 90% of the time and it would give it a accuracy score of 90%. This is why accuracy, as a measure of classification, sucks."
   ]
  },
  {
   "cell_type": "markdown",
   "id": "c8338e77",
   "metadata": {},
   "source": [
    "## Confusion Matrix\n",
    "Instead just counting the correct predictions, Confusion Matrix also takes into account the wrong predictions. This creates balance in the way we evaluate our models."
   ]
  },
  {
   "cell_type": "code",
   "execution_count": 16,
   "id": "3e64b855",
   "metadata": {},
   "outputs": [],
   "source": [
    "from sklearn.model_selection import cross_val_predict\n",
    "train_pred_seven = cross_val_predict(sgd_clf, train_df, train_target_seven, cv=3)"
   ]
  },
  {
   "cell_type": "code",
   "execution_count": 17,
   "id": "01217488",
   "metadata": {},
   "outputs": [
    {
     "data": {
      "text/plain": [
       "array([[52997,   738],\n",
       "       [  652,  5613]], dtype=int64)"
      ]
     },
     "execution_count": 17,
     "metadata": {},
     "output_type": "execute_result"
    }
   ],
   "source": [
    "from sklearn.metrics import confusion_matrix\n",
    "confusion_matrix(train_target_seven, train_pred_seven)"
   ]
  },
  {
   "cell_type": "markdown",
   "id": "48dd9a34",
   "metadata": {},
   "source": [
    "![confusion_matrix](image1.svg)\n",
    "\n",
    "**Precision** is the number of times the model predicted that the number was seven versus all the predictions that it thought was seven. **Recall** is the number of times the model predicted that the number was seven versus all the actual sevens that exists in the dataset.\n",
    "\n",
    "Precision alone is not enough to evaluate a model. If say the model had only 1 True prediction, which happens to be a seven, then your precision is 100%. Recall is also not useful either by itself. It is possible to get a 100% recall if the model predicted that ALL numbers are sevens, which gives you a Recall of 100%.\n",
    "\n",
    "There are some use cases where you would prioritize one metric over the other but, generally, you want to have both Precision and Recall to be both high. "
   ]
  },
  {
   "cell_type": "code",
   "execution_count": 18,
   "id": "7cf05128",
   "metadata": {},
   "outputs": [
    {
     "data": {
      "text/plain": [
       "0.8837978271138404"
      ]
     },
     "execution_count": 18,
     "metadata": {},
     "output_type": "execute_result"
    }
   ],
   "source": [
    "from sklearn.metrics import precision_score, recall_score\n",
    "precision = precision_score(train_target_seven, train_pred_seven)\n",
    "precision"
   ]
  },
  {
   "cell_type": "markdown",
   "id": "174bcd5a",
   "metadata": {},
   "source": [
    "For our model, it has a 90% precision score, which means that out 5,992 numbers that it has identified as the number seven, only 5,402 of those wer actually the number seven. This is pretty good."
   ]
  },
  {
   "cell_type": "code",
   "execution_count": 19,
   "id": "5ad89fb7",
   "metadata": {},
   "outputs": [
    {
     "data": {
      "text/plain": [
       "0.8959297685554669"
      ]
     },
     "execution_count": 19,
     "metadata": {},
     "output_type": "execute_result"
    }
   ],
   "source": [
    "recall = recall_score(train_target_seven, train_pred_seven)\n",
    "recall"
   ]
  },
  {
   "cell_type": "markdown",
   "id": "ee3e209f",
   "metadata": {},
   "source": [
    "But it has scored a recall of 86%, which means that the 5,402 correct predictions are only 86% of all actual sevens. It was not able to identify 863 that were also sevens."
   ]
  },
  {
   "cell_type": "markdown",
   "id": "e1d00fa6",
   "metadata": {},
   "source": [
    "## F1 score\n",
    "The F1 score is a convinient measure that calculates the *harmonic mean* of precision and recall."
   ]
  },
  {
   "cell_type": "code",
   "execution_count": 20,
   "id": "e19f3ba1",
   "metadata": {},
   "outputs": [
    {
     "name": "stdout",
     "output_type": "stream",
     "text": [
      "f1:  0.8898224476854788\n"
     ]
    }
   ],
   "source": [
    "from sklearn.metrics import f1_score\n",
    "print('f1: ', f1_score(train_target_seven, train_pred_seven))"
   ]
  },
  {
   "cell_type": "markdown",
   "id": "ae49adf0",
   "metadata": {},
   "source": [
    "This is different from just averaging the 2 scores, instead it calculates it in a way that gives more weight to low values. There are tradeoffs between precision and recall. You cannot increase one metric without decreasing the other.\n",
    "\n",
    "Increasing Precision is actually telling the model to make predictions that has the least wrong answers, even if it does not get all the sevens in the dataset. Conversely, if Recall is prioritized, then the model needs to make sure that it gets all sevens in the dataset even if it mistakenly predict some numbers to be seven."
   ]
  },
  {
   "cell_type": "markdown",
   "id": "993f965f",
   "metadata": {},
   "source": [
    "## Threshold\n",
    "To better understand the tradeoffs between precision and recall, we are going to tweak the threshold of the models. By default, SGD's threshold is at zero, which finds the optimized scores between the 2 metrics."
   ]
  },
  {
   "cell_type": "code",
   "execution_count": 21,
   "id": "7e40dcc9",
   "metadata": {},
   "outputs": [
    {
     "data": {
      "text/plain": [
       "array([7866.93916507])"
      ]
     },
     "execution_count": 21,
     "metadata": {},
     "output_type": "execute_result"
    }
   ],
   "source": [
    "target_score = sgd_clf.decision_function([seven])\n",
    "target_score"
   ]
  },
  {
   "cell_type": "markdown",
   "id": "655dffa1",
   "metadata": {},
   "source": [
    "We use the *decision_function* method of sgd to get the score of how well the model identifies the number data as seven."
   ]
  },
  {
   "cell_type": "code",
   "execution_count": 22,
   "id": "873c4792",
   "metadata": {},
   "outputs": [
    {
     "data": {
      "text/plain": [
       "array([ True])"
      ]
     },
     "execution_count": 22,
     "metadata": {},
     "output_type": "execute_result"
    }
   ],
   "source": [
    "threshold = 0\n",
    "seven_pred = (target_score > threshold)\n",
    "seven_pred"
   ]
  },
  {
   "cell_type": "markdown",
   "id": "c85a8cb8",
   "metadata": {},
   "source": [
    "If we leave the threshold at zero, then we get a True output."
   ]
  },
  {
   "cell_type": "code",
   "execution_count": 23,
   "id": "6d36def7",
   "metadata": {},
   "outputs": [
    {
     "data": {
      "text/plain": [
       "array([False])"
      ]
     },
     "execution_count": 23,
     "metadata": {},
     "output_type": "execute_result"
    }
   ],
   "source": [
    "threshold = 8000\n",
    "seven_pred = (target_score > threshold)\n",
    "seven_pred"
   ]
  },
  {
   "cell_type": "markdown",
   "id": "68dd5c3b",
   "metadata": {},
   "source": [
    "If we set the threshold at 8000, then we get an output of False. This means that to the machine, the number does not enough score to be identified as the number seven."
   ]
  },
  {
   "cell_type": "code",
   "execution_count": 24,
   "id": "4f460f58",
   "metadata": {},
   "outputs": [],
   "source": [
    "target_scores = cross_val_predict(sgd_clf, train_df, train_target_seven, cv=3, method='decision_function')"
   ]
  },
  {
   "cell_type": "code",
   "execution_count": 25,
   "id": "02fb5557",
   "metadata": {},
   "outputs": [
    {
     "data": {
      "text/html": [
       "<div>\n",
       "<style scoped>\n",
       "    .dataframe tbody tr th:only-of-type {\n",
       "        vertical-align: middle;\n",
       "    }\n",
       "\n",
       "    .dataframe tbody tr th {\n",
       "        vertical-align: top;\n",
       "    }\n",
       "\n",
       "    .dataframe thead th {\n",
       "        text-align: right;\n",
       "    }\n",
       "</style>\n",
       "<table border=\"1\" class=\"dataframe\">\n",
       "  <thead>\n",
       "    <tr style=\"text-align: right;\">\n",
       "      <th></th>\n",
       "      <th>target</th>\n",
       "      <th>answer</th>\n",
       "      <th>scores</th>\n",
       "    </tr>\n",
       "  </thead>\n",
       "  <tbody>\n",
       "    <tr>\n",
       "      <th>37665</th>\n",
       "      <td>7</td>\n",
       "      <td>True</td>\n",
       "      <td>48163.256141</td>\n",
       "    </tr>\n",
       "    <tr>\n",
       "      <th>23000</th>\n",
       "      <td>7</td>\n",
       "      <td>True</td>\n",
       "      <td>43371.436501</td>\n",
       "    </tr>\n",
       "    <tr>\n",
       "      <th>21514</th>\n",
       "      <td>7</td>\n",
       "      <td>True</td>\n",
       "      <td>41118.024888</td>\n",
       "    </tr>\n",
       "    <tr>\n",
       "      <th>13244</th>\n",
       "      <td>7</td>\n",
       "      <td>True</td>\n",
       "      <td>40826.558944</td>\n",
       "    </tr>\n",
       "    <tr>\n",
       "      <th>26417</th>\n",
       "      <td>7</td>\n",
       "      <td>True</td>\n",
       "      <td>40338.274713</td>\n",
       "    </tr>\n",
       "  </tbody>\n",
       "</table>\n",
       "</div>"
      ],
      "text/plain": [
       "       target  answer        scores\n",
       "37665       7    True  48163.256141\n",
       "23000       7    True  43371.436501\n",
       "21514       7    True  41118.024888\n",
       "13244       7    True  40826.558944\n",
       "26417       7    True  40338.274713"
      ]
     },
     "execution_count": 25,
     "metadata": {},
     "output_type": "execute_result"
    }
   ],
   "source": [
    "pd.DataFrame({\n",
    "    'target': train_target,\n",
    "    'answer': train_target_seven,\n",
    "    'scores': target_scores\n",
    "}).query('target==7').sort_values(by='scores', ascending=False).head()"
   ]
  },
  {
   "cell_type": "markdown",
   "id": "68e40a79",
   "metadata": {},
   "source": [
    "If the score is ran on all the numbers on our train set, we get the corresponding score. Here is a preview."
   ]
  },
  {
   "cell_type": "code",
   "execution_count": 26,
   "id": "6e01a38f",
   "metadata": {},
   "outputs": [],
   "source": [
    "from sklearn.metrics import precision_recall_curve\n",
    "precisions, recalls, threshold = precision_recall_curve(train_target_seven, target_scores)"
   ]
  },
  {
   "cell_type": "code",
   "execution_count": 27,
   "id": "d6aad998",
   "metadata": {},
   "outputs": [
    {
     "data": {
      "text/plain": [
       "0.8898224476854788"
      ]
     },
     "execution_count": 27,
     "metadata": {},
     "output_type": "execute_result"
    }
   ],
   "source": [
    "f1_score(train_target_seven, train_pred_seven)"
   ]
  },
  {
   "cell_type": "code",
   "execution_count": 88,
   "id": "c650c53c",
   "metadata": {},
   "outputs": [],
   "source": [
    "plt.figure(figsize=(8,5))\n",
    "sns.lineplot(x=threshold, y=precisions[:-1], label='precision')\n",
    "sns.lineplot(x=threshold, y=recalls[:-1], label='recall')\n",
    "plt.legend()\n",
    "plt.savefig('PrecvsReca.svg')\n",
    "plt.close()"
   ]
  },
  {
   "cell_type": "markdown",
   "id": "0af7b980",
   "metadata": {},
   "source": [
    "![precision_vs_recall](PrecvsReca.svg)\n",
    "\n",
    "Here, we get to see precision and recall against there threshold. It is at threshold zero that we see the 2 lines intersect. This is where we will find the optimized scores for both precision and recall."
   ]
  },
  {
   "cell_type": "markdown",
   "id": "4bf609c1",
   "metadata": {},
   "source": [
    "## ROC Curve\n",
    "We can adjusting threshold to get different combination of precision and recall. But if you just want to evaluate the strength of your model on how it can predict something, then you would look at something like the ROC curve."
   ]
  },
  {
   "cell_type": "code",
   "execution_count": 29,
   "id": "d702a1bb",
   "metadata": {},
   "outputs": [],
   "source": [
    "from sklearn.metrics import roc_curve\n",
    "fpr, tpr, thresholds = roc_curve(train_target_seven, target_scores)"
   ]
  },
  {
   "cell_type": "code",
   "execution_count": 93,
   "id": "11752f5a",
   "metadata": {},
   "outputs": [],
   "source": [
    "plt.figure(figsize=(8,5))\n",
    "sns.lineplot(x=fpr, y=tpr, label='SGD')\n",
    "sns.lineplot(x=[0,1], y=[0,1], color='grey', linestyle='--', label='Randomness')\n",
    "plt.legend()\n",
    "plt.savefig('ROC_curve.svg')\n",
    "plt.close()"
   ]
  },
  {
   "cell_type": "markdown",
   "id": "6cb2e43d",
   "metadata": {},
   "source": [
    "![roc_curve](ROC_curve.svg)\n",
    "\n",
    "The ROC curve plots the False Positive Rate on the x-axis and the True Positive rate on the y-axis. The FPR is the number of times the model says the numbers are sevens but are actually were not over all the Positive predictions it made. While the TPR is just the same as Recall. The ROC only cares about the Predictions that the model make as being TRUE and gauges the effectiveness of that model as it would a binomial distribution, whereby it determines how often it will get the right answer (TPR) against how likely it is to get the wrong answer (FPR). It disregards the FALSE output or the NEGATIVE output the model."
   ]
  },
  {
   "cell_type": "code",
   "execution_count": null,
   "id": "2befd54a",
   "metadata": {},
   "outputs": [],
   "source": [
    "from sklearn.ensemble import RandomForestClassifier\n",
    "forest_clf = RandomForestClassifier(random_state=42)\n",
    "probas_forest = cross_val_predict(forest_clf, train_df, train_target_seven, cv=3, method='predict_proba')\n",
    "\n",
    "target_scores_forest = probas_forest[:, 1]\n",
    "fpr_forest, tpr_forest, thresholds_forest = roc_curve(train_target_seven, target_scores_forest)"
   ]
  },
  {
   "cell_type": "code",
   "execution_count": 86,
   "id": "19616256",
   "metadata": {},
   "outputs": [],
   "source": [
    "plt.figure(figsize=(8,5))\n",
    "g = sns.lineplot(x=fpr, y=tpr, label='SGD', color='steelblue')\n",
    "g = sns.lineplot(x=fpr_forest, y=tpr_forest, label='Random Forest', color='orange')\n",
    "g = sns.lineplot(x=[0,1], y=[0,1], linestyle='--', color='black')\n",
    "plt.savefig('rocSVGvsForest.svg')\n",
    "plt.close()"
   ]
  },
  {
   "cell_type": "markdown",
   "id": "4ae0fbf6",
   "metadata": {},
   "source": [
    "![roc_sgd_forest](rocSVGvsForest.svg)\n",
    "Here, we train a Random Forest model and place it against the SGD model in the same ROC plot. How ROC curve works is that the model should be as high up on the top left corner of the graph as possible. Comparing the 2 models, we get to see that the Random Forest Model is much better classifier than the SGD.\n",
    "\n",
    "The dashed diagonal line in the middle represents randomness. If the model gets closer to that line, it means that it is no better at classifying than a coin flip."
   ]
  },
  {
   "cell_type": "code",
   "execution_count": 32,
   "id": "0b1ac520",
   "metadata": {
    "scrolled": true
   },
   "outputs": [
    {
     "name": "stdout",
     "output_type": "stream",
     "text": [
      "SGD 0.989954367264912\n",
      "RandomForest 0.9981929410171149\n"
     ]
    }
   ],
   "source": [
    "from sklearn.metrics import roc_auc_score\n",
    "print('SGD', roc_auc_score(train_target_seven, target_scores))\n",
    "print('RandomForest', roc_auc_score(train_target_seven, target_scores_forest))"
   ]
  },
  {
   "cell_type": "markdown",
   "id": "20b77231",
   "metadata": {},
   "source": [
    "To summarize the results of both models to just one number, it is often easy to just caculate the area under the ROC curve and compare those instead of plotting it on a graph. Here, Random Forest is truely better model than the SGD."
   ]
  },
  {
   "cell_type": "markdown",
   "id": "9e67934e",
   "metadata": {},
   "source": [
    "## Multiclass Classification"
   ]
  },
  {
   "cell_type": "code",
   "execution_count": 33,
   "id": "353fe74f",
   "metadata": {},
   "outputs": [
    {
     "data": {
      "text/plain": [
       "array([7], dtype=uint8)"
      ]
     },
     "execution_count": 33,
     "metadata": {},
     "output_type": "execute_result"
    }
   ],
   "source": [
    "sgd_clf.fit(train_df, train_target)\n",
    "sgd_clf.predict([seven])"
   ]
  },
  {
   "cell_type": "code",
   "execution_count": 34,
   "id": "1b715615",
   "metadata": {},
   "outputs": [],
   "source": [
    "seven_scores = sgd_clf.decision_function([seven])"
   ]
  },
  {
   "cell_type": "code",
   "execution_count": 35,
   "id": "0307414f",
   "metadata": {},
   "outputs": [
    {
     "data": {
      "text/plain": [
       "array([[-30680.33084323, -13285.00601243,  -6158.77253929,\n",
       "         -7122.94195392, -18767.48190138,  -5392.96787129,\n",
       "        -29211.19870979,   9929.67761202,    221.57103558,\n",
       "         -6950.30435848]])"
      ]
     },
     "execution_count": 35,
     "metadata": {},
     "output_type": "execute_result"
    }
   ],
   "source": [
    "seven_scores"
   ]
  },
  {
   "cell_type": "markdown",
   "id": "8d04abec",
   "metadata": {},
   "source": [
    "The model trains each number, not just seven, against all other numbers. It then uses that information to detect what number you are trying to predict."
   ]
  },
  {
   "cell_type": "code",
   "execution_count": 36,
   "id": "b2c484d0",
   "metadata": {},
   "outputs": [
    {
     "data": {
      "text/plain": [
       "7"
      ]
     },
     "execution_count": 36,
     "metadata": {},
     "output_type": "execute_result"
    }
   ],
   "source": [
    "np.argmax(seven_scores)"
   ]
  },
  {
   "cell_type": "code",
   "execution_count": 37,
   "id": "849ab76b",
   "metadata": {},
   "outputs": [
    {
     "data": {
      "text/plain": [
       "array([0, 1, 2, 3, 4, 5, 6, 7, 8, 9], dtype=uint8)"
      ]
     },
     "execution_count": 37,
     "metadata": {},
     "output_type": "execute_result"
    }
   ],
   "source": [
    "sgd_clf.classes_"
   ]
  },
  {
   "cell_type": "code",
   "execution_count": 38,
   "id": "e1f9ce9a",
   "metadata": {},
   "outputs": [
    {
     "data": {
      "text/plain": [
       "7"
      ]
     },
     "execution_count": 38,
     "metadata": {},
     "output_type": "execute_result"
    }
   ],
   "source": [
    "sgd_clf.classes_[7]"
   ]
  },
  {
   "cell_type": "markdown",
   "id": "b0f7f695",
   "metadata": {},
   "source": [
    "### Random Forest"
   ]
  },
  {
   "cell_type": "code",
   "execution_count": 39,
   "id": "9bde452c",
   "metadata": {},
   "outputs": [
    {
     "data": {
      "text/plain": [
       "array([7], dtype=uint8)"
      ]
     },
     "execution_count": 39,
     "metadata": {},
     "output_type": "execute_result"
    }
   ],
   "source": [
    "forest_clf.fit(train_df, train_target)\n",
    "forest_clf.predict([seven])"
   ]
  },
  {
   "cell_type": "code",
   "execution_count": 40,
   "id": "c3d84279",
   "metadata": {},
   "outputs": [
    {
     "data": {
      "text/plain": [
       "array([[0.  , 0.  , 0.01, 0.  , 0.  , 0.  , 0.  , 0.96, 0.02, 0.01]])"
      ]
     },
     "execution_count": 40,
     "metadata": {},
     "output_type": "execute_result"
    }
   ],
   "source": [
    "forest_clf.predict_proba([seven])"
   ]
  },
  {
   "cell_type": "markdown",
   "id": "c8e4ee92",
   "metadata": {},
   "source": [
    "Random Forest sees the number that you are trying to predict is the number seven. It did the same thing as the SGD where it takes all the numbers and train itself."
   ]
  },
  {
   "cell_type": "code",
   "execution_count": 41,
   "id": "68d19c83",
   "metadata": {},
   "outputs": [
    {
     "data": {
      "text/plain": [
       "array([0.8678 , 0.88195, 0.86965])"
      ]
     },
     "execution_count": 41,
     "metadata": {},
     "output_type": "execute_result"
    }
   ],
   "source": [
    "cross_val_score(sgd_clf, train_df, train_target, cv=3, scoring='accuracy')"
   ]
  },
  {
   "cell_type": "markdown",
   "id": "8a233c5b",
   "metadata": {},
   "source": [
    "When we evaluate, the accuracy is around 86%-88% accurate."
   ]
  },
  {
   "cell_type": "markdown",
   "id": "d3d13740",
   "metadata": {},
   "source": [
    "### Standard Scaler"
   ]
  },
  {
   "cell_type": "code",
   "execution_count": 42,
   "id": "b779f478",
   "metadata": {},
   "outputs": [],
   "source": [
    "from sklearn.preprocessing import StandardScaler\n",
    "scaler = StandardScaler()"
   ]
  },
  {
   "cell_type": "code",
   "execution_count": 43,
   "id": "5936c535",
   "metadata": {},
   "outputs": [],
   "source": [
    "train_df_scaled = scaler.fit_transform(train_df.astype(np.float64))"
   ]
  },
  {
   "cell_type": "code",
   "execution_count": 44,
   "id": "fa1dca82",
   "metadata": {},
   "outputs": [
    {
     "data": {
      "text/plain": [
       "array([0.90425, 0.9031 , 0.8903 ])"
      ]
     },
     "execution_count": 44,
     "metadata": {},
     "output_type": "execute_result"
    }
   ],
   "source": [
    "cross_val_score(sgd_clf, train_df_scaled, train_target, cv=3, scoring='accuracy')"
   ]
  },
  {
   "cell_type": "markdown",
   "id": "6dfc839b",
   "metadata": {},
   "source": [
    "Here we scale the data to get a better score."
   ]
  },
  {
   "cell_type": "markdown",
   "id": "26622cda",
   "metadata": {},
   "source": [
    "# Error Analysis\n",
    "Knowing the scores from the evaluation is like knowing the summary of how good or bad the model is. We wouldn't really get to know why or what the model is getting right or getting wrong."
   ]
  },
  {
   "cell_type": "code",
   "execution_count": 45,
   "id": "982d717c",
   "metadata": {},
   "outputs": [
    {
     "data": {
      "text/plain": [
       "array([[5577,    0,   19,    5,   10,   39,   33,    5,  234,    1],\n",
       "       [   1, 6413,   44,   17,    4,   45,    4,    8,  198,    8],\n",
       "       [  23,   32, 5249,   88,   71,   20,   62,   39,  366,    8],\n",
       "       [  27,   20,  115, 5216,    0,  197,   24,   44,  425,   63],\n",
       "       [   7,   14,   46,   11, 5216,    8,   35,   20,  331,  154],\n",
       "       [  28,   19,   31,  141,   52, 4466,   78,   18,  523,   65],\n",
       "       [  27,   16,   50,    2,   39,   87, 5564,    7,  126,    0],\n",
       "       [  20,   11,   52,   23,   50,   10,    4, 5702,  190,  203],\n",
       "       [  18,   60,   42,  101,    2,  120,   32,   12, 5425,   39],\n",
       "       [  22,   21,   29,   62,  123,   35,    1,  170,  361, 5125]],\n",
       "      dtype=int64)"
      ]
     },
     "execution_count": 45,
     "metadata": {},
     "output_type": "execute_result"
    }
   ],
   "source": [
    "train_target_pred = cross_val_predict(sgd_clf, train_df_scaled, train_target, cv=3)\n",
    "conf_mx = confusion_matrix(train_target, train_target_pred)\n",
    "conf_mx"
   ]
  },
  {
   "cell_type": "markdown",
   "id": "3745a453",
   "metadata": {},
   "source": [
    "Here we go back to the confusion matrix and get to unpack all the numbers and the corresponding results."
   ]
  },
  {
   "cell_type": "code",
   "execution_count": 90,
   "id": "b955c0e0",
   "metadata": {},
   "outputs": [],
   "source": [
    "sns.heatmap(conf_mx);\n",
    "plt.savefig('conf_mx.svg')\n",
    "plt.close()"
   ]
  },
  {
   "cell_type": "markdown",
   "id": "be4971b3",
   "metadata": {},
   "source": [
    "![conf_mx](conf_mx.svg)\n",
    "Visualizing the data into a heatmap, we get to see precision (column) and recall (rows) by each of the numbers. The diagonal represents True | True results or the True Positives, where the model predicted the correct number. Don't misinterpret the shade of the heatmap. The lighter the color does not necessarily mean that the model is more precise or more accurate. The matrix defines precision and accuracy of the model by the position of the values it predicts. The color or the scores within the matrix is just there to keep count."
   ]
  },
  {
   "cell_type": "code",
   "execution_count": 47,
   "id": "8d579f59",
   "metadata": {},
   "outputs": [
    {
     "data": {
      "text/html": [
       "<style  type=\"text/css\" >\n",
       "#T_b9d53_row0_col0,#T_b9d53_row1_col1,#T_b9d53_row2_col2,#T_b9d53_row3_col3,#T_b9d53_row4_col4,#T_b9d53_row5_col5,#T_b9d53_row6_col6,#T_b9d53_row7_col7,#T_b9d53_row8_col8,#T_b9d53_row9_col9{\n",
       "            width:  10em;\n",
       "             height:  80%;\n",
       "            background:  linear-gradient(90deg,#d65f5f 100.0%, transparent 100.0%);\n",
       "        }#T_b9d53_row0_col1,#T_b9d53_row0_col2,#T_b9d53_row0_col7,#T_b9d53_row1_col0,#T_b9d53_row3_col4,#T_b9d53_row4_col5,#T_b9d53_row6_col3,#T_b9d53_row6_col8,#T_b9d53_row6_col9,#T_b9d53_row9_col6{\n",
       "            width:  10em;\n",
       "             height:  80%;\n",
       "        }#T_b9d53_row0_col3,#T_b9d53_row1_col4,#T_b9d53_row1_col6,#T_b9d53_row1_col7,#T_b9d53_row4_col0,#T_b9d53_row7_col6,#T_b9d53_row8_col7{\n",
       "            width:  10em;\n",
       "             height:  80%;\n",
       "            background:  linear-gradient(90deg,#d65f5f 0.1%, transparent 0.1%);\n",
       "        }#T_b9d53_row0_col4,#T_b9d53_row1_col9,#T_b9d53_row2_col9,#T_b9d53_row4_col1,#T_b9d53_row4_col3,#T_b9d53_row5_col2,#T_b9d53_row5_col7,#T_b9d53_row6_col1,#T_b9d53_row7_col1,#T_b9d53_row9_col2{\n",
       "            width:  10em;\n",
       "             height:  80%;\n",
       "            background:  linear-gradient(90deg,#d65f5f 0.2%, transparent 0.2%);\n",
       "        }#T_b9d53_row0_col5,#T_b9d53_row3_col7,#T_b9d53_row6_col4{\n",
       "            width:  10em;\n",
       "             height:  80%;\n",
       "            background:  linear-gradient(90deg,#d65f5f 0.7%, transparent 0.7%);\n",
       "        }#T_b9d53_row0_col6,#T_b9d53_row2_col7,#T_b9d53_row4_col6,#T_b9d53_row6_col2,#T_b9d53_row7_col2,#T_b9d53_row8_col6,#T_b9d53_row9_col5{\n",
       "            width:  10em;\n",
       "             height:  80%;\n",
       "            background:  linear-gradient(90deg,#d65f5f 0.6%, transparent 0.6%);\n",
       "        }#T_b9d53_row0_col8{\n",
       "            width:  10em;\n",
       "             height:  80%;\n",
       "            background:  linear-gradient(90deg,#d65f5f 2.0%, transparent 2.0%);\n",
       "        }#T_b9d53_row0_col9,#T_b9d53_row6_col7,#T_b9d53_row7_col5,#T_b9d53_row8_col4{\n",
       "            width:  10em;\n",
       "             height:  80%;\n",
       "            background:  linear-gradient(90deg,#d65f5f 0.0%, transparent 0.0%);\n",
       "        }#T_b9d53_row1_col2,#T_b9d53_row2_col1,#T_b9d53_row3_col0,#T_b9d53_row4_col2,#T_b9d53_row5_col0,#T_b9d53_row6_col0{\n",
       "            width:  10em;\n",
       "             height:  80%;\n",
       "            background:  linear-gradient(90deg,#d65f5f 0.5%, transparent 0.5%);\n",
       "        }#T_b9d53_row1_col3,#T_b9d53_row2_col5,#T_b9d53_row3_col1,#T_b9d53_row4_col7,#T_b9d53_row5_col1,#T_b9d53_row7_col0,#T_b9d53_row8_col0,#T_b9d53_row9_col1{\n",
       "            width:  10em;\n",
       "             height:  80%;\n",
       "            background:  linear-gradient(90deg,#d65f5f 0.3%, transparent 0.3%);\n",
       "        }#T_b9d53_row1_col5,#T_b9d53_row8_col9{\n",
       "            width:  10em;\n",
       "             height:  80%;\n",
       "            background:  linear-gradient(90deg,#d65f5f 0.8%, transparent 0.8%);\n",
       "        }#T_b9d53_row1_col8,#T_b9d53_row2_col4,#T_b9d53_row5_col6{\n",
       "            width:  10em;\n",
       "             height:  80%;\n",
       "            background:  linear-gradient(90deg,#d65f5f 1.4%, transparent 1.4%);\n",
       "        }#T_b9d53_row2_col0,#T_b9d53_row3_col6,#T_b9d53_row7_col3,#T_b9d53_row8_col2,#T_b9d53_row9_col0{\n",
       "            width:  10em;\n",
       "             height:  80%;\n",
       "            background:  linear-gradient(90deg,#d65f5f 0.4%, transparent 0.4%);\n",
       "        }#T_b9d53_row2_col3{\n",
       "            width:  10em;\n",
       "             height:  80%;\n",
       "            background:  linear-gradient(90deg,#d65f5f 1.6%, transparent 1.6%);\n",
       "        }#T_b9d53_row2_col6{\n",
       "            width:  10em;\n",
       "             height:  80%;\n",
       "            background:  linear-gradient(90deg,#d65f5f 1.1%, transparent 1.1%);\n",
       "        }#T_b9d53_row2_col8{\n",
       "            width:  10em;\n",
       "             height:  80%;\n",
       "            background:  linear-gradient(90deg,#d65f5f 4.5%, transparent 4.5%);\n",
       "        }#T_b9d53_row3_col2,#T_b9d53_row6_col5{\n",
       "            width:  10em;\n",
       "             height:  80%;\n",
       "            background:  linear-gradient(90deg,#d65f5f 1.8%, transparent 1.8%);\n",
       "        }#T_b9d53_row3_col5{\n",
       "            width:  10em;\n",
       "             height:  80%;\n",
       "            background:  linear-gradient(90deg,#d65f5f 4.2%, transparent 4.2%);\n",
       "        }#T_b9d53_row3_col8{\n",
       "            width:  10em;\n",
       "             height:  80%;\n",
       "            background:  linear-gradient(90deg,#d65f5f 5.6%, transparent 5.6%);\n",
       "        }#T_b9d53_row3_col9,#T_b9d53_row7_col8,#T_b9d53_row9_col3{\n",
       "            width:  10em;\n",
       "             height:  80%;\n",
       "            background:  linear-gradient(90deg,#d65f5f 1.2%, transparent 1.2%);\n",
       "        }#T_b9d53_row4_col8{\n",
       "            width:  10em;\n",
       "             height:  80%;\n",
       "            background:  linear-gradient(90deg,#d65f5f 3.9%, transparent 3.9%);\n",
       "        }#T_b9d53_row4_col9{\n",
       "            width:  10em;\n",
       "             height:  80%;\n",
       "            background:  linear-gradient(90deg,#d65f5f 3.0%, transparent 3.0%);\n",
       "        }#T_b9d53_row5_col3{\n",
       "            width:  10em;\n",
       "             height:  80%;\n",
       "            background:  linear-gradient(90deg,#d65f5f 2.7%, transparent 2.7%);\n",
       "        }#T_b9d53_row5_col4,#T_b9d53_row7_col4{\n",
       "            width:  10em;\n",
       "             height:  80%;\n",
       "            background:  linear-gradient(90deg,#d65f5f 1.0%, transparent 1.0%);\n",
       "        }#T_b9d53_row5_col8{\n",
       "            width:  10em;\n",
       "             height:  80%;\n",
       "            background:  linear-gradient(90deg,#d65f5f 7.5%, transparent 7.5%);\n",
       "        }#T_b9d53_row5_col9{\n",
       "            width:  10em;\n",
       "             height:  80%;\n",
       "            background:  linear-gradient(90deg,#d65f5f 1.3%, transparent 1.3%);\n",
       "        }#T_b9d53_row7_col9{\n",
       "            width:  10em;\n",
       "             height:  80%;\n",
       "            background:  linear-gradient(90deg,#d65f5f 4.0%, transparent 4.0%);\n",
       "        }#T_b9d53_row8_col1{\n",
       "            width:  10em;\n",
       "             height:  80%;\n",
       "            background:  linear-gradient(90deg,#d65f5f 0.9%, transparent 0.9%);\n",
       "        }#T_b9d53_row8_col3{\n",
       "            width:  10em;\n",
       "             height:  80%;\n",
       "            background:  linear-gradient(90deg,#d65f5f 1.9%, transparent 1.9%);\n",
       "        }#T_b9d53_row8_col5{\n",
       "            width:  10em;\n",
       "             height:  80%;\n",
       "            background:  linear-gradient(90deg,#d65f5f 2.5%, transparent 2.5%);\n",
       "        }#T_b9d53_row9_col4{\n",
       "            width:  10em;\n",
       "             height:  80%;\n",
       "            background:  linear-gradient(90deg,#d65f5f 2.4%, transparent 2.4%);\n",
       "        }#T_b9d53_row9_col7{\n",
       "            width:  10em;\n",
       "             height:  80%;\n",
       "            background:  linear-gradient(90deg,#d65f5f 2.9%, transparent 2.9%);\n",
       "        }#T_b9d53_row9_col8{\n",
       "            width:  10em;\n",
       "             height:  80%;\n",
       "            background:  linear-gradient(90deg,#d65f5f 4.4%, transparent 4.4%);\n",
       "        }</style><table id=\"T_b9d53_\" ><thead>    <tr>        <th class=\"blank level0\" ></th>        <th class=\"col_heading level0 col0\" >0</th>        <th class=\"col_heading level0 col1\" >1</th>        <th class=\"col_heading level0 col2\" >2</th>        <th class=\"col_heading level0 col3\" >3</th>        <th class=\"col_heading level0 col4\" >4</th>        <th class=\"col_heading level0 col5\" >5</th>        <th class=\"col_heading level0 col6\" >6</th>        <th class=\"col_heading level0 col7\" >7</th>        <th class=\"col_heading level0 col8\" >8</th>        <th class=\"col_heading level0 col9\" >9</th>    </tr></thead><tbody>\n",
       "                <tr>\n",
       "                        <th id=\"T_b9d53_level0_row0\" class=\"row_heading level0 row0\" >0</th>\n",
       "                        <td id=\"T_b9d53_row0_col0\" class=\"data row0 col0\" >5577</td>\n",
       "                        <td id=\"T_b9d53_row0_col1\" class=\"data row0 col1\" >0</td>\n",
       "                        <td id=\"T_b9d53_row0_col2\" class=\"data row0 col2\" >19</td>\n",
       "                        <td id=\"T_b9d53_row0_col3\" class=\"data row0 col3\" >5</td>\n",
       "                        <td id=\"T_b9d53_row0_col4\" class=\"data row0 col4\" >10</td>\n",
       "                        <td id=\"T_b9d53_row0_col5\" class=\"data row0 col5\" >39</td>\n",
       "                        <td id=\"T_b9d53_row0_col6\" class=\"data row0 col6\" >33</td>\n",
       "                        <td id=\"T_b9d53_row0_col7\" class=\"data row0 col7\" >5</td>\n",
       "                        <td id=\"T_b9d53_row0_col8\" class=\"data row0 col8\" >234</td>\n",
       "                        <td id=\"T_b9d53_row0_col9\" class=\"data row0 col9\" >1</td>\n",
       "            </tr>\n",
       "            <tr>\n",
       "                        <th id=\"T_b9d53_level0_row1\" class=\"row_heading level0 row1\" >1</th>\n",
       "                        <td id=\"T_b9d53_row1_col0\" class=\"data row1 col0\" >1</td>\n",
       "                        <td id=\"T_b9d53_row1_col1\" class=\"data row1 col1\" >6413</td>\n",
       "                        <td id=\"T_b9d53_row1_col2\" class=\"data row1 col2\" >44</td>\n",
       "                        <td id=\"T_b9d53_row1_col3\" class=\"data row1 col3\" >17</td>\n",
       "                        <td id=\"T_b9d53_row1_col4\" class=\"data row1 col4\" >4</td>\n",
       "                        <td id=\"T_b9d53_row1_col5\" class=\"data row1 col5\" >45</td>\n",
       "                        <td id=\"T_b9d53_row1_col6\" class=\"data row1 col6\" >4</td>\n",
       "                        <td id=\"T_b9d53_row1_col7\" class=\"data row1 col7\" >8</td>\n",
       "                        <td id=\"T_b9d53_row1_col8\" class=\"data row1 col8\" >198</td>\n",
       "                        <td id=\"T_b9d53_row1_col9\" class=\"data row1 col9\" >8</td>\n",
       "            </tr>\n",
       "            <tr>\n",
       "                        <th id=\"T_b9d53_level0_row2\" class=\"row_heading level0 row2\" >2</th>\n",
       "                        <td id=\"T_b9d53_row2_col0\" class=\"data row2 col0\" >23</td>\n",
       "                        <td id=\"T_b9d53_row2_col1\" class=\"data row2 col1\" >32</td>\n",
       "                        <td id=\"T_b9d53_row2_col2\" class=\"data row2 col2\" >5249</td>\n",
       "                        <td id=\"T_b9d53_row2_col3\" class=\"data row2 col3\" >88</td>\n",
       "                        <td id=\"T_b9d53_row2_col4\" class=\"data row2 col4\" >71</td>\n",
       "                        <td id=\"T_b9d53_row2_col5\" class=\"data row2 col5\" >20</td>\n",
       "                        <td id=\"T_b9d53_row2_col6\" class=\"data row2 col6\" >62</td>\n",
       "                        <td id=\"T_b9d53_row2_col7\" class=\"data row2 col7\" >39</td>\n",
       "                        <td id=\"T_b9d53_row2_col8\" class=\"data row2 col8\" >366</td>\n",
       "                        <td id=\"T_b9d53_row2_col9\" class=\"data row2 col9\" >8</td>\n",
       "            </tr>\n",
       "            <tr>\n",
       "                        <th id=\"T_b9d53_level0_row3\" class=\"row_heading level0 row3\" >3</th>\n",
       "                        <td id=\"T_b9d53_row3_col0\" class=\"data row3 col0\" >27</td>\n",
       "                        <td id=\"T_b9d53_row3_col1\" class=\"data row3 col1\" >20</td>\n",
       "                        <td id=\"T_b9d53_row3_col2\" class=\"data row3 col2\" >115</td>\n",
       "                        <td id=\"T_b9d53_row3_col3\" class=\"data row3 col3\" >5216</td>\n",
       "                        <td id=\"T_b9d53_row3_col4\" class=\"data row3 col4\" >0</td>\n",
       "                        <td id=\"T_b9d53_row3_col5\" class=\"data row3 col5\" >197</td>\n",
       "                        <td id=\"T_b9d53_row3_col6\" class=\"data row3 col6\" >24</td>\n",
       "                        <td id=\"T_b9d53_row3_col7\" class=\"data row3 col7\" >44</td>\n",
       "                        <td id=\"T_b9d53_row3_col8\" class=\"data row3 col8\" >425</td>\n",
       "                        <td id=\"T_b9d53_row3_col9\" class=\"data row3 col9\" >63</td>\n",
       "            </tr>\n",
       "            <tr>\n",
       "                        <th id=\"T_b9d53_level0_row4\" class=\"row_heading level0 row4\" >4</th>\n",
       "                        <td id=\"T_b9d53_row4_col0\" class=\"data row4 col0\" >7</td>\n",
       "                        <td id=\"T_b9d53_row4_col1\" class=\"data row4 col1\" >14</td>\n",
       "                        <td id=\"T_b9d53_row4_col2\" class=\"data row4 col2\" >46</td>\n",
       "                        <td id=\"T_b9d53_row4_col3\" class=\"data row4 col3\" >11</td>\n",
       "                        <td id=\"T_b9d53_row4_col4\" class=\"data row4 col4\" >5216</td>\n",
       "                        <td id=\"T_b9d53_row4_col5\" class=\"data row4 col5\" >8</td>\n",
       "                        <td id=\"T_b9d53_row4_col6\" class=\"data row4 col6\" >35</td>\n",
       "                        <td id=\"T_b9d53_row4_col7\" class=\"data row4 col7\" >20</td>\n",
       "                        <td id=\"T_b9d53_row4_col8\" class=\"data row4 col8\" >331</td>\n",
       "                        <td id=\"T_b9d53_row4_col9\" class=\"data row4 col9\" >154</td>\n",
       "            </tr>\n",
       "            <tr>\n",
       "                        <th id=\"T_b9d53_level0_row5\" class=\"row_heading level0 row5\" >5</th>\n",
       "                        <td id=\"T_b9d53_row5_col0\" class=\"data row5 col0\" >28</td>\n",
       "                        <td id=\"T_b9d53_row5_col1\" class=\"data row5 col1\" >19</td>\n",
       "                        <td id=\"T_b9d53_row5_col2\" class=\"data row5 col2\" >31</td>\n",
       "                        <td id=\"T_b9d53_row5_col3\" class=\"data row5 col3\" >141</td>\n",
       "                        <td id=\"T_b9d53_row5_col4\" class=\"data row5 col4\" >52</td>\n",
       "                        <td id=\"T_b9d53_row5_col5\" class=\"data row5 col5\" >4466</td>\n",
       "                        <td id=\"T_b9d53_row5_col6\" class=\"data row5 col6\" >78</td>\n",
       "                        <td id=\"T_b9d53_row5_col7\" class=\"data row5 col7\" >18</td>\n",
       "                        <td id=\"T_b9d53_row5_col8\" class=\"data row5 col8\" >523</td>\n",
       "                        <td id=\"T_b9d53_row5_col9\" class=\"data row5 col9\" >65</td>\n",
       "            </tr>\n",
       "            <tr>\n",
       "                        <th id=\"T_b9d53_level0_row6\" class=\"row_heading level0 row6\" >6</th>\n",
       "                        <td id=\"T_b9d53_row6_col0\" class=\"data row6 col0\" >27</td>\n",
       "                        <td id=\"T_b9d53_row6_col1\" class=\"data row6 col1\" >16</td>\n",
       "                        <td id=\"T_b9d53_row6_col2\" class=\"data row6 col2\" >50</td>\n",
       "                        <td id=\"T_b9d53_row6_col3\" class=\"data row6 col3\" >2</td>\n",
       "                        <td id=\"T_b9d53_row6_col4\" class=\"data row6 col4\" >39</td>\n",
       "                        <td id=\"T_b9d53_row6_col5\" class=\"data row6 col5\" >87</td>\n",
       "                        <td id=\"T_b9d53_row6_col6\" class=\"data row6 col6\" >5564</td>\n",
       "                        <td id=\"T_b9d53_row6_col7\" class=\"data row6 col7\" >7</td>\n",
       "                        <td id=\"T_b9d53_row6_col8\" class=\"data row6 col8\" >126</td>\n",
       "                        <td id=\"T_b9d53_row6_col9\" class=\"data row6 col9\" >0</td>\n",
       "            </tr>\n",
       "            <tr>\n",
       "                        <th id=\"T_b9d53_level0_row7\" class=\"row_heading level0 row7\" >7</th>\n",
       "                        <td id=\"T_b9d53_row7_col0\" class=\"data row7 col0\" >20</td>\n",
       "                        <td id=\"T_b9d53_row7_col1\" class=\"data row7 col1\" >11</td>\n",
       "                        <td id=\"T_b9d53_row7_col2\" class=\"data row7 col2\" >52</td>\n",
       "                        <td id=\"T_b9d53_row7_col3\" class=\"data row7 col3\" >23</td>\n",
       "                        <td id=\"T_b9d53_row7_col4\" class=\"data row7 col4\" >50</td>\n",
       "                        <td id=\"T_b9d53_row7_col5\" class=\"data row7 col5\" >10</td>\n",
       "                        <td id=\"T_b9d53_row7_col6\" class=\"data row7 col6\" >4</td>\n",
       "                        <td id=\"T_b9d53_row7_col7\" class=\"data row7 col7\" >5702</td>\n",
       "                        <td id=\"T_b9d53_row7_col8\" class=\"data row7 col8\" >190</td>\n",
       "                        <td id=\"T_b9d53_row7_col9\" class=\"data row7 col9\" >203</td>\n",
       "            </tr>\n",
       "            <tr>\n",
       "                        <th id=\"T_b9d53_level0_row8\" class=\"row_heading level0 row8\" >8</th>\n",
       "                        <td id=\"T_b9d53_row8_col0\" class=\"data row8 col0\" >18</td>\n",
       "                        <td id=\"T_b9d53_row8_col1\" class=\"data row8 col1\" >60</td>\n",
       "                        <td id=\"T_b9d53_row8_col2\" class=\"data row8 col2\" >42</td>\n",
       "                        <td id=\"T_b9d53_row8_col3\" class=\"data row8 col3\" >101</td>\n",
       "                        <td id=\"T_b9d53_row8_col4\" class=\"data row8 col4\" >2</td>\n",
       "                        <td id=\"T_b9d53_row8_col5\" class=\"data row8 col5\" >120</td>\n",
       "                        <td id=\"T_b9d53_row8_col6\" class=\"data row8 col6\" >32</td>\n",
       "                        <td id=\"T_b9d53_row8_col7\" class=\"data row8 col7\" >12</td>\n",
       "                        <td id=\"T_b9d53_row8_col8\" class=\"data row8 col8\" >5425</td>\n",
       "                        <td id=\"T_b9d53_row8_col9\" class=\"data row8 col9\" >39</td>\n",
       "            </tr>\n",
       "            <tr>\n",
       "                        <th id=\"T_b9d53_level0_row9\" class=\"row_heading level0 row9\" >9</th>\n",
       "                        <td id=\"T_b9d53_row9_col0\" class=\"data row9 col0\" >22</td>\n",
       "                        <td id=\"T_b9d53_row9_col1\" class=\"data row9 col1\" >21</td>\n",
       "                        <td id=\"T_b9d53_row9_col2\" class=\"data row9 col2\" >29</td>\n",
       "                        <td id=\"T_b9d53_row9_col3\" class=\"data row9 col3\" >62</td>\n",
       "                        <td id=\"T_b9d53_row9_col4\" class=\"data row9 col4\" >123</td>\n",
       "                        <td id=\"T_b9d53_row9_col5\" class=\"data row9 col5\" >35</td>\n",
       "                        <td id=\"T_b9d53_row9_col6\" class=\"data row9 col6\" >1</td>\n",
       "                        <td id=\"T_b9d53_row9_col7\" class=\"data row9 col7\" >170</td>\n",
       "                        <td id=\"T_b9d53_row9_col8\" class=\"data row9 col8\" >361</td>\n",
       "                        <td id=\"T_b9d53_row9_col9\" class=\"data row9 col9\" >5125</td>\n",
       "            </tr>\n",
       "    </tbody></table>"
      ],
      "text/plain": [
       "<pandas.io.formats.style.Styler at 0x1c88666f408>"
      ]
     },
     "execution_count": 47,
     "metadata": {},
     "output_type": "execute_result"
    }
   ],
   "source": [
    "pd.DataFrame(conf_mx).style.bar()"
   ]
  },
  {
   "cell_type": "markdown",
   "id": "a456c816",
   "metadata": {},
   "source": [
    "Another way of thinking it, we want the values (color) to converge into the diagonal center of each number, whether it be column or row perspective. From the table above, we get to see that column 8 has more of the values spread out horizontally. This tells us that the model is having a hard time predicting the number 8. In other words, it is incorrectly predicting numbers to be number 8 where it is really is not. Looking at the number it from the perspective of its row, because it is being less precise, it is getting almost all the number 8s correctly."
   ]
  },
  {
   "cell_type": "code",
   "execution_count": 48,
   "id": "c63f3234",
   "metadata": {},
   "outputs": [
    {
     "data": {
      "text/html": [
       "<style  type=\"text/css\" >\n",
       "#T_c2e77_row0_col0,#T_c2e77_row0_col1,#T_c2e77_row0_col2,#T_c2e77_row0_col3,#T_c2e77_row0_col4,#T_c2e77_row0_col7,#T_c2e77_row0_col9,#T_c2e77_row1_col0,#T_c2e77_row1_col1,#T_c2e77_row1_col3,#T_c2e77_row1_col4,#T_c2e77_row1_col6,#T_c2e77_row1_col7,#T_c2e77_row1_col9,#T_c2e77_row2_col0,#T_c2e77_row2_col2,#T_c2e77_row2_col5,#T_c2e77_row2_col9,#T_c2e77_row3_col0,#T_c2e77_row3_col1,#T_c2e77_row3_col3,#T_c2e77_row3_col4,#T_c2e77_row3_col6,#T_c2e77_row4_col0,#T_c2e77_row4_col1,#T_c2e77_row4_col3,#T_c2e77_row4_col4,#T_c2e77_row4_col5,#T_c2e77_row4_col7,#T_c2e77_row5_col1,#T_c2e77_row5_col5,#T_c2e77_row5_col7,#T_c2e77_row6_col0,#T_c2e77_row6_col1,#T_c2e77_row6_col3,#T_c2e77_row6_col6,#T_c2e77_row6_col7,#T_c2e77_row6_col9,#T_c2e77_row7_col0,#T_c2e77_row7_col1,#T_c2e77_row7_col3,#T_c2e77_row7_col5,#T_c2e77_row7_col6,#T_c2e77_row7_col7,#T_c2e77_row8_col0,#T_c2e77_row8_col4,#T_c2e77_row8_col7,#T_c2e77_row8_col8,#T_c2e77_row9_col0,#T_c2e77_row9_col1,#T_c2e77_row9_col2,#T_c2e77_row9_col6,#T_c2e77_row9_col9{\n",
       "            width:  10em;\n",
       "             height:  80%;\n",
       "        }#T_c2e77_row0_col5,#T_c2e77_row6_col4{\n",
       "            width:  10em;\n",
       "             height:  80%;\n",
       "            background:  linear-gradient(90deg,#d65f5f 1.7%, transparent 1.7%);\n",
       "        }#T_c2e77_row0_col6{\n",
       "            width:  10em;\n",
       "             height:  80%;\n",
       "            background:  linear-gradient(90deg,#d65f5f 0.6%, transparent 0.6%);\n",
       "        }#T_c2e77_row0_col8{\n",
       "            width:  10em;\n",
       "             height:  80%;\n",
       "            background:  linear-gradient(90deg,#d65f5f 36.3%, transparent 36.3%);\n",
       "        }#T_c2e77_row1_col2,#T_c2e77_row2_col7{\n",
       "            width:  10em;\n",
       "             height:  80%;\n",
       "            background:  linear-gradient(90deg,#d65f5f 1.6%, transparent 1.6%);\n",
       "        }#T_c2e77_row1_col5,#T_c2e77_row8_col9{\n",
       "            width:  10em;\n",
       "             height:  80%;\n",
       "            background:  linear-gradient(90deg,#d65f5f 1.8%, transparent 1.8%);\n",
       "        }#T_c2e77_row1_col8{\n",
       "            width:  10em;\n",
       "             height:  80%;\n",
       "            background:  linear-gradient(90deg,#d65f5f 25.7%, transparent 25.7%);\n",
       "        }#T_c2e77_row2_col1{\n",
       "            width:  10em;\n",
       "             height:  80%;\n",
       "            background:  linear-gradient(90deg,#d65f5f 0.4%, transparent 0.4%);\n",
       "        }#T_c2e77_row2_col3{\n",
       "            width:  10em;\n",
       "             height:  80%;\n",
       "            background:  linear-gradient(90deg,#d65f5f 10.3%, transparent 10.3%);\n",
       "        }#T_c2e77_row2_col4{\n",
       "            width:  10em;\n",
       "             height:  80%;\n",
       "            background:  linear-gradient(90deg,#d65f5f 7.3%, transparent 7.3%);\n",
       "        }#T_c2e77_row2_col6,#T_c2e77_row9_col3{\n",
       "            width:  10em;\n",
       "             height:  80%;\n",
       "            background:  linear-gradient(90deg,#d65f5f 5.7%, transparent 5.7%);\n",
       "        }#T_c2e77_row2_col8{\n",
       "            width:  10em;\n",
       "             height:  80%;\n",
       "            background:  linear-gradient(90deg,#d65f5f 59.4%, transparent 59.4%);\n",
       "        }#T_c2e77_row3_col2{\n",
       "            width:  10em;\n",
       "             height:  80%;\n",
       "            background:  linear-gradient(90deg,#d65f5f 14.5%, transparent 14.5%);\n",
       "        }#T_c2e77_row3_col5{\n",
       "            width:  10em;\n",
       "             height:  80%;\n",
       "            background:  linear-gradient(90deg,#d65f5f 28.6%, transparent 28.6%);\n",
       "        }#T_c2e77_row3_col7,#T_c2e77_row8_col2{\n",
       "            width:  10em;\n",
       "             height:  80%;\n",
       "            background:  linear-gradient(90deg,#d65f5f 2.3%, transparent 2.3%);\n",
       "        }#T_c2e77_row3_col8{\n",
       "            width:  10em;\n",
       "             height:  80%;\n",
       "            background:  linear-gradient(90deg,#d65f5f 67.7%, transparent 67.7%);\n",
       "        }#T_c2e77_row3_col9{\n",
       "            width:  10em;\n",
       "             height:  80%;\n",
       "            background:  linear-gradient(90deg,#d65f5f 5.6%, transparent 5.6%);\n",
       "        }#T_c2e77_row4_col2{\n",
       "            width:  10em;\n",
       "             height:  80%;\n",
       "            background:  linear-gradient(90deg,#d65f5f 3.0%, transparent 3.0%);\n",
       "        }#T_c2e77_row4_col6{\n",
       "            width:  10em;\n",
       "             height:  80%;\n",
       "            background:  linear-gradient(90deg,#d65f5f 1.0%, transparent 1.0%);\n",
       "        }#T_c2e77_row4_col8{\n",
       "            width:  10em;\n",
       "             height:  80%;\n",
       "            background:  linear-gradient(90deg,#d65f5f 54.4%, transparent 54.4%);\n",
       "        }#T_c2e77_row4_col9{\n",
       "            width:  10em;\n",
       "             height:  80%;\n",
       "            background:  linear-gradient(90deg,#d65f5f 22.5%, transparent 22.5%);\n",
       "        }#T_c2e77_row5_col0{\n",
       "            width:  10em;\n",
       "             height:  80%;\n",
       "            background:  linear-gradient(90deg,#d65f5f 0.2%, transparent 0.2%);\n",
       "        }#T_c2e77_row5_col2{\n",
       "            width:  10em;\n",
       "             height:  80%;\n",
       "            background:  linear-gradient(90deg,#d65f5f 0.8%, transparent 0.8%);\n",
       "        }#T_c2e77_row5_col3{\n",
       "            width:  10em;\n",
       "             height:  80%;\n",
       "            background:  linear-gradient(90deg,#d65f5f 22.1%, transparent 22.1%);\n",
       "        }#T_c2e77_row5_col4{\n",
       "            width:  10em;\n",
       "             height:  80%;\n",
       "            background:  linear-gradient(90deg,#d65f5f 4.8%, transparent 4.8%);\n",
       "        }#T_c2e77_row5_col6{\n",
       "            width:  10em;\n",
       "             height:  80%;\n",
       "            background:  linear-gradient(90deg,#d65f5f 9.9%, transparent 9.9%);\n",
       "        }#T_c2e77_row5_col8{\n",
       "            width:  10em;\n",
       "             height:  80%;\n",
       "            background:  linear-gradient(90deg,#d65f5f 96.3%, transparent 96.3%);\n",
       "        }#T_c2e77_row5_col9{\n",
       "            width:  10em;\n",
       "             height:  80%;\n",
       "            background:  linear-gradient(90deg,#d65f5f 7.4%, transparent 7.4%);\n",
       "        }#T_c2e77_row6_col2{\n",
       "            width:  10em;\n",
       "             height:  80%;\n",
       "            background:  linear-gradient(90deg,#d65f5f 3.6%, transparent 3.6%);\n",
       "        }#T_c2e77_row6_col5{\n",
       "            width:  10em;\n",
       "             height:  80%;\n",
       "            background:  linear-gradient(90deg,#d65f5f 10.2%, transparent 10.2%);\n",
       "        }#T_c2e77_row6_col8{\n",
       "            width:  10em;\n",
       "             height:  80%;\n",
       "            background:  linear-gradient(90deg,#d65f5f 17.1%, transparent 17.1%);\n",
       "        }#T_c2e77_row7_col2{\n",
       "            width:  10em;\n",
       "             height:  80%;\n",
       "            background:  linear-gradient(90deg,#d65f5f 3.5%, transparent 3.5%);\n",
       "        }#T_c2e77_row7_col4{\n",
       "            width:  10em;\n",
       "             height:  80%;\n",
       "            background:  linear-gradient(90deg,#d65f5f 3.1%, transparent 3.1%);\n",
       "        }#T_c2e77_row7_col8{\n",
       "            width:  10em;\n",
       "             height:  80%;\n",
       "            background:  linear-gradient(90deg,#d65f5f 26.7%, transparent 26.7%);\n",
       "        }#T_c2e77_row7_col9{\n",
       "            width:  10em;\n",
       "             height:  80%;\n",
       "            background:  linear-gradient(90deg,#d65f5f 28.8%, transparent 28.8%);\n",
       "        }#T_c2e77_row8_col1{\n",
       "            width:  10em;\n",
       "             height:  80%;\n",
       "            background:  linear-gradient(90deg,#d65f5f 5.5%, transparent 5.5%);\n",
       "        }#T_c2e77_row8_col3{\n",
       "            width:  10em;\n",
       "             height:  80%;\n",
       "            background:  linear-gradient(90deg,#d65f5f 12.9%, transparent 12.9%);\n",
       "        }#T_c2e77_row8_col5{\n",
       "            width:  10em;\n",
       "             height:  80%;\n",
       "            background:  linear-gradient(90deg,#d65f5f 16.3%, transparent 16.3%);\n",
       "        }#T_c2e77_row8_col6{\n",
       "            width:  10em;\n",
       "             height:  80%;\n",
       "            background:  linear-gradient(90deg,#d65f5f 0.5%, transparent 0.5%);\n",
       "        }#T_c2e77_row9_col4{\n",
       "            width:  10em;\n",
       "             height:  80%;\n",
       "            background:  linear-gradient(90deg,#d65f5f 16.5%, transparent 16.5%);\n",
       "        }#T_c2e77_row9_col5{\n",
       "            width:  10em;\n",
       "             height:  80%;\n",
       "            background:  linear-gradient(90deg,#d65f5f 0.9%, transparent 0.9%);\n",
       "        }#T_c2e77_row9_col7{\n",
       "            width:  10em;\n",
       "             height:  80%;\n",
       "            background:  linear-gradient(90deg,#d65f5f 24.8%, transparent 24.8%);\n",
       "        }#T_c2e77_row9_col8{\n",
       "            width:  10em;\n",
       "             height:  80%;\n",
       "            background:  linear-gradient(90deg,#d65f5f 58.6%, transparent 58.6%);\n",
       "        }</style><table id=\"T_c2e77_\" ><thead>    <tr>        <th class=\"blank level0\" ></th>        <th class=\"col_heading level0 col0\" >0</th>        <th class=\"col_heading level0 col1\" >1</th>        <th class=\"col_heading level0 col2\" >2</th>        <th class=\"col_heading level0 col3\" >3</th>        <th class=\"col_heading level0 col4\" >4</th>        <th class=\"col_heading level0 col5\" >5</th>        <th class=\"col_heading level0 col6\" >6</th>        <th class=\"col_heading level0 col7\" >7</th>        <th class=\"col_heading level0 col8\" >8</th>        <th class=\"col_heading level0 col9\" >9</th>    </tr></thead><tbody>\n",
       "                <tr>\n",
       "                        <th id=\"T_c2e77_level0_row0\" class=\"row_heading level0 row0\" >0</th>\n",
       "                        <td id=\"T_c2e77_row0_col0\" class=\"data row0 col0\" >0.000000</td>\n",
       "                        <td id=\"T_c2e77_row0_col1\" class=\"data row0 col1\" >0.000000</td>\n",
       "                        <td id=\"T_c2e77_row0_col2\" class=\"data row0 col2\" >0.320783</td>\n",
       "                        <td id=\"T_c2e77_row0_col3\" class=\"data row0 col3\" >0.084417</td>\n",
       "                        <td id=\"T_c2e77_row0_col4\" class=\"data row0 col4\" >0.168833</td>\n",
       "                        <td id=\"T_c2e77_row0_col5\" class=\"data row0 col5\" >0.658450</td>\n",
       "                        <td id=\"T_c2e77_row0_col6\" class=\"data row0 col6\" >0.557150</td>\n",
       "                        <td id=\"T_c2e77_row0_col7\" class=\"data row0 col7\" >0.084417</td>\n",
       "                        <td id=\"T_c2e77_row0_col8\" class=\"data row0 col8\" >3.950701</td>\n",
       "                        <td id=\"T_c2e77_row0_col9\" class=\"data row0 col9\" >0.016883</td>\n",
       "            </tr>\n",
       "            <tr>\n",
       "                        <th id=\"T_c2e77_level0_row1\" class=\"row_heading level0 row1\" >1</th>\n",
       "                        <td id=\"T_c2e77_row1_col0\" class=\"data row1 col0\" >0.014832</td>\n",
       "                        <td id=\"T_c2e77_row1_col1\" class=\"data row1 col1\" >0.000000</td>\n",
       "                        <td id=\"T_c2e77_row1_col2\" class=\"data row1 col2\" >0.652625</td>\n",
       "                        <td id=\"T_c2e77_row1_col3\" class=\"data row1 col3\" >0.252151</td>\n",
       "                        <td id=\"T_c2e77_row1_col4\" class=\"data row1 col4\" >0.059330</td>\n",
       "                        <td id=\"T_c2e77_row1_col5\" class=\"data row1 col5\" >0.667458</td>\n",
       "                        <td id=\"T_c2e77_row1_col6\" class=\"data row1 col6\" >0.059330</td>\n",
       "                        <td id=\"T_c2e77_row1_col7\" class=\"data row1 col7\" >0.118659</td>\n",
       "                        <td id=\"T_c2e77_row1_col8\" class=\"data row1 col8\" >2.936814</td>\n",
       "                        <td id=\"T_c2e77_row1_col9\" class=\"data row1 col9\" >0.118659</td>\n",
       "            </tr>\n",
       "            <tr>\n",
       "                        <th id=\"T_c2e77_level0_row2\" class=\"row_heading level0 row2\" >2</th>\n",
       "                        <td id=\"T_c2e77_row2_col0\" class=\"data row2 col0\" >0.386036</td>\n",
       "                        <td id=\"T_c2e77_row2_col1\" class=\"data row2 col1\" >0.537093</td>\n",
       "                        <td id=\"T_c2e77_row2_col2\" class=\"data row2 col2\" >0.000000</td>\n",
       "                        <td id=\"T_c2e77_row2_col3\" class=\"data row2 col3\" >1.477006</td>\n",
       "                        <td id=\"T_c2e77_row2_col4\" class=\"data row2 col4\" >1.191675</td>\n",
       "                        <td id=\"T_c2e77_row2_col5\" class=\"data row2 col5\" >0.335683</td>\n",
       "                        <td id=\"T_c2e77_row2_col6\" class=\"data row2 col6\" >1.040618</td>\n",
       "                        <td id=\"T_c2e77_row2_col7\" class=\"data row2 col7\" >0.654582</td>\n",
       "                        <td id=\"T_c2e77_row2_col8\" class=\"data row2 col8\" >6.143001</td>\n",
       "                        <td id=\"T_c2e77_row2_col9\" class=\"data row2 col9\" >0.134273</td>\n",
       "            </tr>\n",
       "            <tr>\n",
       "                        <th id=\"T_c2e77_level0_row3\" class=\"row_heading level0 row3\" >3</th>\n",
       "                        <td id=\"T_c2e77_row3_col0\" class=\"data row3 col0\" >0.440385</td>\n",
       "                        <td id=\"T_c2e77_row3_col1\" class=\"data row3 col1\" >0.326211</td>\n",
       "                        <td id=\"T_c2e77_row3_col2\" class=\"data row3 col2\" >1.875714</td>\n",
       "                        <td id=\"T_c2e77_row3_col3\" class=\"data row3 col3\" >0.000000</td>\n",
       "                        <td id=\"T_c2e77_row3_col4\" class=\"data row3 col4\" >0.000000</td>\n",
       "                        <td id=\"T_c2e77_row3_col5\" class=\"data row3 col5\" >3.213179</td>\n",
       "                        <td id=\"T_c2e77_row3_col6\" class=\"data row3 col6\" >0.391453</td>\n",
       "                        <td id=\"T_c2e77_row3_col7\" class=\"data row3 col7\" >0.717664</td>\n",
       "                        <td id=\"T_c2e77_row3_col8\" class=\"data row3 col8\" >6.931985</td>\n",
       "                        <td id=\"T_c2e77_row3_col9\" class=\"data row3 col9\" >1.027565</td>\n",
       "            </tr>\n",
       "            <tr>\n",
       "                        <th id=\"T_c2e77_level0_row4\" class=\"row_heading level0 row4\" >4</th>\n",
       "                        <td id=\"T_c2e77_row4_col0\" class=\"data row4 col0\" >0.119822</td>\n",
       "                        <td id=\"T_c2e77_row4_col1\" class=\"data row4 col1\" >0.239644</td>\n",
       "                        <td id=\"T_c2e77_row4_col2\" class=\"data row4 col2\" >0.787402</td>\n",
       "                        <td id=\"T_c2e77_row4_col3\" class=\"data row4 col3\" >0.188292</td>\n",
       "                        <td id=\"T_c2e77_row4_col4\" class=\"data row4 col4\" >0.000000</td>\n",
       "                        <td id=\"T_c2e77_row4_col5\" class=\"data row4 col5\" >0.136939</td>\n",
       "                        <td id=\"T_c2e77_row4_col6\" class=\"data row4 col6\" >0.599110</td>\n",
       "                        <td id=\"T_c2e77_row4_col7\" class=\"data row4 col7\" >0.342349</td>\n",
       "                        <td id=\"T_c2e77_row4_col8\" class=\"data row4 col8\" >5.665868</td>\n",
       "                        <td id=\"T_c2e77_row4_col9\" class=\"data row4 col9\" >2.636084</td>\n",
       "            </tr>\n",
       "            <tr>\n",
       "                        <th id=\"T_c2e77_level0_row5\" class=\"row_heading level0 row5\" >5</th>\n",
       "                        <td id=\"T_c2e77_row5_col0\" class=\"data row5 col0\" >0.516510</td>\n",
       "                        <td id=\"T_c2e77_row5_col1\" class=\"data row5 col1\" >0.350489</td>\n",
       "                        <td id=\"T_c2e77_row5_col2\" class=\"data row5 col2\" >0.571850</td>\n",
       "                        <td id=\"T_c2e77_row5_col3\" class=\"data row5 col3\" >2.600996</td>\n",
       "                        <td id=\"T_c2e77_row5_col4\" class=\"data row5 col4\" >0.959233</td>\n",
       "                        <td id=\"T_c2e77_row5_col5\" class=\"data row5 col5\" >0.000000</td>\n",
       "                        <td id=\"T_c2e77_row5_col6\" class=\"data row5 col6\" >1.438849</td>\n",
       "                        <td id=\"T_c2e77_row5_col7\" class=\"data row5 col7\" >0.332042</td>\n",
       "                        <td id=\"T_c2e77_row5_col8\" class=\"data row5 col8\" >9.647666</td>\n",
       "                        <td id=\"T_c2e77_row5_col9\" class=\"data row5 col9\" >1.199041</td>\n",
       "            </tr>\n",
       "            <tr>\n",
       "                        <th id=\"T_c2e77_level0_row6\" class=\"row_heading level0 row6\" >6</th>\n",
       "                        <td id=\"T_c2e77_row6_col0\" class=\"data row6 col0\" >0.456235</td>\n",
       "                        <td id=\"T_c2e77_row6_col1\" class=\"data row6 col1\" >0.270362</td>\n",
       "                        <td id=\"T_c2e77_row6_col2\" class=\"data row6 col2\" >0.844880</td>\n",
       "                        <td id=\"T_c2e77_row6_col3\" class=\"data row6 col3\" >0.033795</td>\n",
       "                        <td id=\"T_c2e77_row6_col4\" class=\"data row6 col4\" >0.659006</td>\n",
       "                        <td id=\"T_c2e77_row6_col5\" class=\"data row6 col5\" >1.470091</td>\n",
       "                        <td id=\"T_c2e77_row6_col6\" class=\"data row6 col6\" >0.000000</td>\n",
       "                        <td id=\"T_c2e77_row6_col7\" class=\"data row6 col7\" >0.118283</td>\n",
       "                        <td id=\"T_c2e77_row6_col8\" class=\"data row6 col8\" >2.129098</td>\n",
       "                        <td id=\"T_c2e77_row6_col9\" class=\"data row6 col9\" >0.000000</td>\n",
       "            </tr>\n",
       "            <tr>\n",
       "                        <th id=\"T_c2e77_level0_row7\" class=\"row_heading level0 row7\" >7</th>\n",
       "                        <td id=\"T_c2e77_row7_col0\" class=\"data row7 col0\" >0.319234</td>\n",
       "                        <td id=\"T_c2e77_row7_col1\" class=\"data row7 col1\" >0.175579</td>\n",
       "                        <td id=\"T_c2e77_row7_col2\" class=\"data row7 col2\" >0.830008</td>\n",
       "                        <td id=\"T_c2e77_row7_col3\" class=\"data row7 col3\" >0.367119</td>\n",
       "                        <td id=\"T_c2e77_row7_col4\" class=\"data row7 col4\" >0.798085</td>\n",
       "                        <td id=\"T_c2e77_row7_col5\" class=\"data row7 col5\" >0.159617</td>\n",
       "                        <td id=\"T_c2e77_row7_col6\" class=\"data row7 col6\" >0.063847</td>\n",
       "                        <td id=\"T_c2e77_row7_col7\" class=\"data row7 col7\" >0.000000</td>\n",
       "                        <td id=\"T_c2e77_row7_col8\" class=\"data row7 col8\" >3.032721</td>\n",
       "                        <td id=\"T_c2e77_row7_col9\" class=\"data row7 col9\" >3.240223</td>\n",
       "            </tr>\n",
       "            <tr>\n",
       "                        <th id=\"T_c2e77_level0_row8\" class=\"row_heading level0 row8\" >8</th>\n",
       "                        <td id=\"T_c2e77_row8_col0\" class=\"data row8 col0\" >0.307640</td>\n",
       "                        <td id=\"T_c2e77_row8_col1\" class=\"data row8 col1\" >1.025466</td>\n",
       "                        <td id=\"T_c2e77_row8_col2\" class=\"data row8 col2\" >0.717826</td>\n",
       "                        <td id=\"T_c2e77_row8_col3\" class=\"data row8 col3\" >1.726201</td>\n",
       "                        <td id=\"T_c2e77_row8_col4\" class=\"data row8 col4\" >0.034182</td>\n",
       "                        <td id=\"T_c2e77_row8_col5\" class=\"data row8 col5\" >2.050931</td>\n",
       "                        <td id=\"T_c2e77_row8_col6\" class=\"data row8 col6\" >0.546915</td>\n",
       "                        <td id=\"T_c2e77_row8_col7\" class=\"data row8 col7\" >0.205093</td>\n",
       "                        <td id=\"T_c2e77_row8_col8\" class=\"data row8 col8\" >0.000000</td>\n",
       "                        <td id=\"T_c2e77_row8_col9\" class=\"data row8 col9\" >0.666553</td>\n",
       "            </tr>\n",
       "            <tr>\n",
       "                        <th id=\"T_c2e77_level0_row9\" class=\"row_heading level0 row9\" >9</th>\n",
       "                        <td id=\"T_c2e77_row9_col0\" class=\"data row9 col0\" >0.369810</td>\n",
       "                        <td id=\"T_c2e77_row9_col1\" class=\"data row9 col1\" >0.353001</td>\n",
       "                        <td id=\"T_c2e77_row9_col2\" class=\"data row9 col2\" >0.487477</td>\n",
       "                        <td id=\"T_c2e77_row9_col3\" class=\"data row9 col3\" >1.042192</td>\n",
       "                        <td id=\"T_c2e77_row9_col4\" class=\"data row9 col4\" >2.067574</td>\n",
       "                        <td id=\"T_c2e77_row9_col5\" class=\"data row9 col5\" >0.588334</td>\n",
       "                        <td id=\"T_c2e77_row9_col6\" class=\"data row9 col6\" >0.016810</td>\n",
       "                        <td id=\"T_c2e77_row9_col7\" class=\"data row9 col7\" >2.857623</td>\n",
       "                        <td id=\"T_c2e77_row9_col8\" class=\"data row9 col8\" >6.068247</td>\n",
       "                        <td id=\"T_c2e77_row9_col9\" class=\"data row9 col9\" >0.000000</td>\n",
       "            </tr>\n",
       "    </tbody></table>"
      ],
      "text/plain": [
       "<pandas.io.formats.style.Styler at 0x1c88c643348>"
      ]
     },
     "execution_count": 48,
     "metadata": {},
     "output_type": "execute_result"
    }
   ],
   "source": [
    "row_sums = conf_mx.sum(axis=1, keepdims=True)\n",
    "norm_conf_mx = conf_mx / row_sums\n",
    "np.fill_diagonal(norm_conf_mx, 0)\n",
    "pd.DataFrame(norm_conf_mx * 100).style.bar(vmax=10, vmin=.5)"
   ]
  },
  {
   "cell_type": "markdown",
   "id": "13080e41",
   "metadata": {},
   "source": [
    "Here, we remove the diagonal values and divide each row by its sums. This will give us a better view of where the values are on the matrix. We get to see that the model really is having a hard time making correct predictions of "
   ]
  },
  {
   "cell_type": "code",
   "execution_count": null,
   "id": "2ac130f9",
   "metadata": {},
   "outputs": [],
   "source": []
  }
 ],
 "metadata": {
  "kernelspec": {
   "display_name": "Python 3",
   "language": "python",
   "name": "python3"
  },
  "language_info": {
   "codemirror_mode": {
    "name": "ipython",
    "version": 3
   },
   "file_extension": ".py",
   "mimetype": "text/x-python",
   "name": "python",
   "nbconvert_exporter": "python",
   "pygments_lexer": "ipython3",
   "version": "3.7.10"
  }
 },
 "nbformat": 4,
 "nbformat_minor": 5
}
